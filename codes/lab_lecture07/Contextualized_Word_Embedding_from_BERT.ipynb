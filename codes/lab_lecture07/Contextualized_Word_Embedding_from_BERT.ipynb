{
 "cells": [
  {
   "cell_type": "code",
   "execution_count": null,
   "metadata": {
    "id": "l-eKx_cO1ZDw"
   },
   "outputs": [],
   "source": [
    "!pip install transformers==4.17.0 -q"
   ]
  },
  {
   "cell_type": "markdown",
   "metadata": {
    "id": "fbLXvNIF9Mnn"
   },
   "source": [
    "# Contextualized Word Embedding from BERT\n",
    "\n",
    "In this notebook, we will use BERT to extract features, namely word and sentence embedding vectors, from text data. \n",
    "\n",
    "In the past, words have been represented either as uniquely indexed values (one-hot encoding), or more helpfully as neural word embeddings where vocabulary words are matched against the fixed-length feature embeddings that result from models like Word2Vec or Fasttext. BERT offers an advantage over models like Word2Vec, because while each word has a fixed representation under Word2Vec regardless of the context within which the word appears, BERT produces word representations that are dynamically informed by the words around them. \n",
    "\n",
    "For example, given two sentences:\n",
    "\n",
    "\"An apple is sweet in taste.\"\n",
    "\n",
    "\"Both Apple and Huawei have wireless charging features.\"\n",
    "\n",
    "Word2Vec would produce the same word embedding for the word \"apple\" in both sentences, while under BERT the word embedding for \"apple\" would be different for each sentence. Aside from capturing obvious differences like polysemy, the context-informed word embeddings capture other forms of information that result in more accurate feature representations, which in turn results in better model performance.\n"
   ]
  },
  {
   "cell_type": "code",
   "execution_count": 2,
   "metadata": {
    "id": "veF71TzH1fKU"
   },
   "outputs": [],
   "source": [
    "import torch\n",
    "from transformers import BertTokenizer, BertModel\n",
    "import matplotlib.pyplot as plt\n",
    "import pandas as pd\n",
    "pd.set_option('display.max_colwidth', None)\n",
    "import numpy as np"
   ]
  },
  {
   "cell_type": "markdown",
   "metadata": {
    "id": "nTdPukfr-22D"
   },
   "source": [
    "### Load the pre-trained model"
   ]
  },
  {
   "cell_type": "code",
   "execution_count": 3,
   "metadata": {
    "colab": {
     "base_uri": "https://localhost:8080/",
     "height": 216,
     "referenced_widgets": [
      "7dbd3f66938c42beba50a3f4d83b6954",
      "c5b641fe72a844328d36d3ce0cbb9beb",
      "a498f79384a24ff3b3d5be709791baa4",
      "ded51ac50f9a4daf9d796fee2f31da25",
      "21d4110859ae44b8ac40a2701d3deaea",
      "087a3e64a3c54f49b2f5940dc1bb054c",
      "2bf28408f1774ac98fe79bdb7cec0354",
      "3951a95729354227a1698f1db3c3a25c",
      "a1978164e6ef459994538ebc9012566a",
      "19c5b1492d6c42418df6e15f34400e01",
      "bbd389f8eca6423cb5f83c614347debe",
      "7d3c0066671745faa85e52cccfb0b536",
      "43595e96ec8447179cc8a8b41f65e490",
      "9eec7919ae1641b2a55d5caad82d3e6f",
      "c62eacdaf959429396d7f5c1990f4e77",
      "eb934e65efec4c18907f7d5196db5c28",
      "223ac4f96e2c4bdbbcb7578cf7cc6beb",
      "644e76bb4da24f1498c2705fa656e466",
      "24b1d4513ea74e689da8999c3da2ed03",
      "0f9c0f6fa2784adfa3035e410d1e8bda",
      "e213fa00c6c0407faedfc3a2fb536490",
      "536d0b02fcca41628962da417f21fadf",
      "8f117318a1e6465998409fa3cca4787d",
      "a23707c449f841c4813280f275ce1543",
      "b79b92e3d01e49ba8247aa471dc500f5",
      "71081a0488794d129aa0f979642f12ef",
      "3438e99f8b584a6a94c3546ecf6a40e6",
      "95be7fad66104435bea0e73ca79061dc",
      "1ea08f49cd404c3eaf0cd70bec177245",
      "4df4ee5e99504ecdb45155c98568ae89",
      "c0dfefdfc53246878dfc073f4a161d86",
      "ec106e85d98d4e2ba9bbf359e1f18f93",
      "0796b126bc2d47bf97b4863bc47ecade",
      "e94e7c8a895b4f2094af5ea790fba436",
      "269be68051794495a7ba640724ffcd1c",
      "50c3994db51848b5ba68f62957b9d4a8",
      "84e022f798d4434e9453b3e892f7d671",
      "7b0d1651bd3e4915bcf78d80c50d3f31",
      "37b405ee0f4a4c31b1f1edeed8c501a9",
      "9a9d205556c34b00b86dff63b572eb41",
      "ae79a92d52124174a6650edf1fbdcef7",
      "7d34ea3f94af410a8afe3d12700faada",
      "ed2b94cd5a00411888f5593aa562077a",
      "ce4a5f32c1864a11a312b0f7aa04157a"
     ]
    },
    "executionInfo": {
     "elapsed": 36428,
     "status": "ok",
     "timestamp": 1646502437024,
     "user": {
      "displayName": "rui zhao",
      "photoUrl": "https://lh3.googleusercontent.com/a-/AOh14GhmCiWl9LCopoyVYtscKhRzE0L8Y0JRDSZ6bsjFHA=s64",
      "userId": "07976630900806258773"
     },
     "user_tz": -480
    },
    "id": "lxm2hpIq-1q0",
    "outputId": "bca6014d-258d-4e0b-d379-4024f6ed4f44"
   },
   "outputs": [
    {
     "name": "stderr",
     "output_type": "stream",
     "text": [
      "Downloading: 100%|████████████████████████████| 226k/226k [00:01<00:00, 140kB/s]\n",
      "Downloading: 100%|███████████████████████████| 28.0/28.0 [00:00<00:00, 9.60kB/s]\n",
      "Downloading: 100%|██████████████████████████████| 570/570 [00:00<00:00, 142kB/s]\n",
      "Downloading: 100%|███████████████████████████| 420M/420M [00:26<00:00, 16.6MB/s]\n",
      "Some weights of the model checkpoint at bert-base-uncased were not used when initializing BertModel: ['cls.predictions.transform.dense.bias', 'cls.predictions.transform.LayerNorm.bias', 'cls.predictions.transform.dense.weight', 'cls.seq_relationship.weight', 'cls.predictions.bias', 'cls.predictions.transform.LayerNorm.weight', 'cls.seq_relationship.bias', 'cls.predictions.decoder.weight']\n",
      "- This IS expected if you are initializing BertModel from the checkpoint of a model trained on another task or with another architecture (e.g. initializing a BertForSequenceClassification model from a BertForPreTraining model).\n",
      "- This IS NOT expected if you are initializing BertModel from the checkpoint of a model that you expect to be exactly identical (initializing a BertForSequenceClassification model from a BertForSequenceClassification model).\n"
     ]
    }
   ],
   "source": [
    "# Load pre-trained model tokenizer (vocabulary)\n",
    "tokenizer = BertTokenizer.from_pretrained('bert-base-uncased')\n",
    "# Load pre-trained model tokenizer (vocabulary)\n",
    "model = BertModel.from_pretrained('bert-base-uncased')"
   ]
  },
  {
   "cell_type": "markdown",
   "metadata": {
    "id": "IyqqKoya-9xa"
   },
   "source": [
    "### Prepare Toy Corpus\n",
    "\n",
    "six sentences containing the token: \"apple\" from two different senses."
   ]
  },
  {
   "cell_type": "code",
   "execution_count": 4,
   "metadata": {
    "id": "OnHonT08ArEj"
   },
   "outputs": [],
   "source": [
    "sentence_samples = [\"An apple is sweet in taste.\",  \"We can make juice and jam from apple.\", \"An apple a day keeps the doctor away.\", \"Investors in Apple have a love-hate relationship with the iPhone.\", \"Both Apple and Huawei have wireless charging features.\", \"Steve Jobs returned to Apple in 1196.\"]\n",
    "df_samples = pd.DataFrame(sentence_samples, columns =['TEXT'])"
   ]
  },
  {
   "cell_type": "code",
   "execution_count": 5,
   "metadata": {
    "colab": {
     "base_uri": "https://localhost:8080/",
     "height": 235
    },
    "executionInfo": {
     "elapsed": 47,
     "status": "ok",
     "timestamp": 1646502437028,
     "user": {
      "displayName": "rui zhao",
      "photoUrl": "https://lh3.googleusercontent.com/a-/AOh14GhmCiWl9LCopoyVYtscKhRzE0L8Y0JRDSZ6bsjFHA=s64",
      "userId": "07976630900806258773"
     },
     "user_tz": -480
    },
    "id": "1BDCUKlevjPC",
    "outputId": "6a827bd7-136b-42d0-d44f-64cf0f4917e4"
   },
   "outputs": [
    {
     "data": {
      "text/html": [
       "<div>\n",
       "<style scoped>\n",
       "    .dataframe tbody tr th:only-of-type {\n",
       "        vertical-align: middle;\n",
       "    }\n",
       "\n",
       "    .dataframe tbody tr th {\n",
       "        vertical-align: top;\n",
       "    }\n",
       "\n",
       "    .dataframe thead th {\n",
       "        text-align: right;\n",
       "    }\n",
       "</style>\n",
       "<table border=\"1\" class=\"dataframe\">\n",
       "  <thead>\n",
       "    <tr style=\"text-align: right;\">\n",
       "      <th></th>\n",
       "      <th>TEXT</th>\n",
       "    </tr>\n",
       "  </thead>\n",
       "  <tbody>\n",
       "    <tr>\n",
       "      <th>0</th>\n",
       "      <td>An apple is sweet in taste.</td>\n",
       "    </tr>\n",
       "    <tr>\n",
       "      <th>1</th>\n",
       "      <td>We can make juice and jam from apple.</td>\n",
       "    </tr>\n",
       "    <tr>\n",
       "      <th>2</th>\n",
       "      <td>An apple a day keeps the doctor away.</td>\n",
       "    </tr>\n",
       "    <tr>\n",
       "      <th>3</th>\n",
       "      <td>Investors in Apple have a love-hate relationship with the iPhone.</td>\n",
       "    </tr>\n",
       "    <tr>\n",
       "      <th>4</th>\n",
       "      <td>Both Apple and Huawei have wireless charging features.</td>\n",
       "    </tr>\n",
       "    <tr>\n",
       "      <th>5</th>\n",
       "      <td>Steve Jobs returned to Apple in 1196.</td>\n",
       "    </tr>\n",
       "  </tbody>\n",
       "</table>\n",
       "</div>"
      ],
      "text/plain": [
       "                                                                TEXT\n",
       "0                                        An apple is sweet in taste.\n",
       "1                              We can make juice and jam from apple.\n",
       "2                              An apple a day keeps the doctor away.\n",
       "3  Investors in Apple have a love-hate relationship with the iPhone.\n",
       "4             Both Apple and Huawei have wireless charging features.\n",
       "5                              Steve Jobs returned to Apple in 1196."
      ]
     },
     "execution_count": 5,
     "metadata": {},
     "output_type": "execute_result"
    }
   ],
   "source": [
    "df_samples"
   ]
  },
  {
   "cell_type": "markdown",
   "metadata": {
    "id": "ObHkPKo3N-rc"
   },
   "source": [
    "## Step 1: Tokenization\n",
    "\n",
    "Tokenize the sentences: split the sentence into a list of word and subwords defined in BERT Vocab. The process is given as：\n",
    "\n",
    "1. Tokenization: breaking down of the sentence into tokens\n",
    "2. Adding the [CLS] token at the beginning of the sentence\n",
    "3. Adding the [SEP] token at the end of the sentence\n",
    "4. Converting each token into their corresponding IDs in the model\n",
    "\n",
    "For some words, the BERT tokenization function will first breaks the word into two subwoards, namely characteristic and ##ally, where the first token is a more commonly-seen word (prefix) in a corpus, and the second token is prefixed by two hashes ## to indicate that it is a suffix following some other subwords."
   ]
  },
  {
   "cell_type": "code",
   "execution_count": 6,
   "metadata": {
    "id": "j2JDboUWu3b8"
   },
   "outputs": [],
   "source": [
    "tokenized = df_samples['TEXT'].apply((lambda x: tokenizer.encode(x, add_special_tokens=True)))"
   ]
  },
  {
   "cell_type": "markdown",
   "metadata": {
    "id": "M-ts2Ke6SPBm"
   },
   "source": [
    "### Check one example"
   ]
  },
  {
   "cell_type": "code",
   "execution_count": 7,
   "metadata": {
    "colab": {
     "base_uri": "https://localhost:8080/"
    },
    "executionInfo": {
     "elapsed": 37,
     "status": "ok",
     "timestamp": 1646502437031,
     "user": {
      "displayName": "rui zhao",
      "photoUrl": "https://lh3.googleusercontent.com/a-/AOh14GhmCiWl9LCopoyVYtscKhRzE0L8Y0JRDSZ6bsjFHA=s64",
      "userId": "07976630900806258773"
     },
     "user_tz": -480
    },
    "id": "ZIzPlfFHMwcd",
    "outputId": "cbe365b7-d694-41d5-8601-3220d20ab348"
   },
   "outputs": [
    {
     "name": "stdout",
     "output_type": "stream",
     "text": [
      "======input sentence======\n",
      "Both Apple and Huawei have wireless charging features.\n",
      "======after breaking======\n",
      "[CLS] both apple and hua ##wei have wireless charging features . [SEP]\n",
      "======Convert to IDs======\n",
      "[101, 2119, 6207, 1998, 23064, 19845, 2031, 9949, 13003, 2838, 1012, 102]\n"
     ]
    }
   ],
   "source": [
    "check_idx = 4\n",
    "print(\"======input sentence======\")\n",
    "print(df_samples['TEXT'][check_idx])\n",
    "breaken_words = []\n",
    "for idx in tokenized[check_idx]:\n",
    "    breaken_words.append(tokenizer.convert_ids_to_tokens(idx))\n",
    "print(\"======after breaking======\")\n",
    "print(\" \".join(breaken_words))\n",
    "print(\"======Convert to IDs======\")\n",
    "print((tokenized[check_idx]))"
   ]
  },
  {
   "cell_type": "markdown",
   "metadata": {
    "id": "0DKWyQtRSh5-"
   },
   "source": [
    "\n",
    "## Step 2: Padding\n",
    "After tokenization, `tokenized` is a list of sentences -- each sentences is represented as a list of tokens. We want BERT to process our examples all at once (as one batch). It's just faster that way. For that reason, we need to pad all lists to the same size, so we can represent the input as one 2-d array, rather than a list of lists (of different lengths)."
   ]
  },
  {
   "cell_type": "code",
   "execution_count": 8,
   "metadata": {
    "colab": {
     "base_uri": "https://localhost:8080/"
    },
    "executionInfo": {
     "elapsed": 29,
     "status": "ok",
     "timestamp": 1646502437032,
     "user": {
      "displayName": "rui zhao",
      "photoUrl": "https://lh3.googleusercontent.com/a-/AOh14GhmCiWl9LCopoyVYtscKhRzE0L8Y0JRDSZ6bsjFHA=s64",
      "userId": "07976630900806258773"
     },
     "user_tz": -480
    },
    "id": "A-w2QPoLvody",
    "outputId": "de7e4437-748b-48a8-d75f-7a36d858a54e"
   },
   "outputs": [
    {
     "name": "stdout",
     "output_type": "stream",
     "text": [
      "(6, 15)\n"
     ]
    }
   ],
   "source": [
    "max_len = 0\n",
    "for i in tokenized.values:\n",
    "    if len(i) > max_len:\n",
    "        max_len = len(i)\n",
    "\n",
    "padded = np.array([i + [0]*(max_len-len(i)) for i in tokenized.values])\n",
    "print(padded.shape)"
   ]
  },
  {
   "cell_type": "code",
   "execution_count": 9,
   "metadata": {
    "colab": {
     "base_uri": "https://localhost:8080/"
    },
    "executionInfo": {
     "elapsed": 23,
     "status": "ok",
     "timestamp": 1646502437032,
     "user": {
      "displayName": "rui zhao",
      "photoUrl": "https://lh3.googleusercontent.com/a-/AOh14GhmCiWl9LCopoyVYtscKhRzE0L8Y0JRDSZ6bsjFHA=s64",
      "userId": "07976630900806258773"
     },
     "user_tz": -480
    },
    "id": "Zz9KogX1SuPM",
    "outputId": "fee92761-0bc5-42b7-95a5-0f52f0e8cf0c"
   },
   "outputs": [
    {
     "name": "stdout",
     "output_type": "stream",
     "text": [
      "[ 101 2019 6207 2003 4086 1999 5510 1012  102    0    0    0    0    0\n",
      "    0]\n",
      "[PAD]\n"
     ]
    }
   ],
   "source": [
    "print(padded[0])\n",
    "print(tokenizer.convert_ids_to_tokens(0))"
   ]
  },
  {
   "cell_type": "markdown",
   "metadata": {
    "id": "Jdk4n0aVIw8b"
   },
   "source": [
    "## Step 3: Masking\n",
    "If we directly send `padded` to BERT, that would slightly confuse it. We need to create another variable to tell it to ignore (mask) the padding we've added when it's processing its input. That's what attention_mask is"
   ]
  },
  {
   "cell_type": "code",
   "execution_count": 10,
   "metadata": {
    "colab": {
     "base_uri": "https://localhost:8080/"
    },
    "executionInfo": {
     "elapsed": 494,
     "status": "ok",
     "timestamp": 1646502437508,
     "user": {
      "displayName": "rui zhao",
      "photoUrl": "https://lh3.googleusercontent.com/a-/AOh14GhmCiWl9LCopoyVYtscKhRzE0L8Y0JRDSZ6bsjFHA=s64",
      "userId": "07976630900806258773"
     },
     "user_tz": -480
    },
    "id": "1TWRKJUZvtcq",
    "outputId": "03e6f0ea-28c7-4501-f807-f8f0993aa67c"
   },
   "outputs": [
    {
     "data": {
      "text/plain": [
       "(6, 15)"
      ]
     },
     "execution_count": 10,
     "metadata": {},
     "output_type": "execute_result"
    }
   ],
   "source": [
    "attention_mask = np.where(padded != 0, 1, 0)\n",
    "attention_mask.shape"
   ]
  },
  {
   "cell_type": "markdown",
   "metadata": {
    "id": "64Lf5Ixn8M7A"
   },
   "source": [
    "## Step 4: Use the pre-trained BERT Model\n",
    "fed the input sequence and the attention mask into the model"
   ]
  },
  {
   "cell_type": "code",
   "execution_count": 11,
   "metadata": {
    "id": "SjABv5Ckv-DS"
   },
   "outputs": [],
   "source": [
    "input_ids = torch.tensor(padded)  \n",
    "attention_mask = torch.tensor(attention_mask)\n",
    "\n",
    "with torch.no_grad():\n",
    "    ## the output here is a tuple of (last_hidden_state, pooler_output)\n",
    "    model_outputs = model(input_ids, attention_mask=attention_mask)"
   ]
  },
  {
   "cell_type": "markdown",
   "metadata": {
    "id": "sX-kLvG-VIcN"
   },
   "source": [
    "you can find more information about outputs here: \n",
    "https://huggingface.co/transformers/model_doc/bert.html#transformers.BertModel"
   ]
  },
  {
   "cell_type": "code",
   "execution_count": 12,
   "metadata": {
    "id": "eeOY7Q5lVB3e"
   },
   "outputs": [],
   "source": [
    "# get the last_hidden state\n",
    "last_hidden_state = model_outputs[0].numpy()"
   ]
  },
  {
   "cell_type": "code",
   "execution_count": 13,
   "metadata": {
    "colab": {
     "base_uri": "https://localhost:8080/"
    },
    "executionInfo": {
     "elapsed": 30,
     "status": "ok",
     "timestamp": 1646502439583,
     "user": {
      "displayName": "rui zhao",
      "photoUrl": "https://lh3.googleusercontent.com/a-/AOh14GhmCiWl9LCopoyVYtscKhRzE0L8Y0JRDSZ6bsjFHA=s64",
      "userId": "07976630900806258773"
     },
     "user_tz": -480
    },
    "id": "JOVJEHFzyRmj",
    "outputId": "2e392fcf-c793-4a07-d33c-68142f469cc8"
   },
   "outputs": [
    {
     "data": {
      "text/plain": [
       "(6, 15, 768)"
      ]
     },
     "execution_count": 13,
     "metadata": {},
     "output_type": "execute_result"
    }
   ],
   "source": [
    "last_hidden_state.shape"
   ]
  },
  {
   "cell_type": "markdown",
   "metadata": {
    "id": "JxDBHrOQqlJX"
   },
   "source": [
    "##### Visualization of the output tensor"
   ]
  },
  {
   "cell_type": "markdown",
   "metadata": {
    "id": "ZmMwAXymQ-6E"
   },
   "source": [
    "![picture](https://github.com/rz0718/colab_imgs/blob/main/imgs/bert_output_word.png?raw=true)"
   ]
  },
  {
   "cell_type": "markdown",
   "metadata": {
    "id": "heS7zAdc8bMX"
   },
   "source": [
    "### Extract Word Embeddings\n",
    "\n",
    "In our example setencens, we extract word vectors for the word: **apple**. To confirm that the value of these vectors are in fact contextually dependent, we check the pair-wise similarities. "
   ]
  },
  {
   "cell_type": "code",
   "execution_count": 14,
   "metadata": {
    "id": "q5-jbefFw7lq"
   },
   "outputs": [],
   "source": [
    "apple_idx =  tokenizer.convert_tokens_to_ids(\"apple\")\n",
    "vectors_apple = []\n",
    "for idx in range(len(sentence_samples)):\n",
    "    #idx is the sentence index\n",
    "    #tokenized[idx].index(apple_idx) return the position of \"apple\" in the idx-th sentence\n",
    "    apple_vec = last_hidden_state[idx, tokenized[idx].index(apple_idx),:]\n",
    "    vectors_apple.append(apple_vec)"
   ]
  },
  {
   "cell_type": "code",
   "execution_count": 15,
   "metadata": {
    "colab": {
     "base_uri": "https://localhost:8080/"
    },
    "executionInfo": {
     "elapsed": 25,
     "status": "ok",
     "timestamp": 1646502439585,
     "user": {
      "displayName": "rui zhao",
      "photoUrl": "https://lh3.googleusercontent.com/a-/AOh14GhmCiWl9LCopoyVYtscKhRzE0L8Y0JRDSZ6bsjFHA=s64",
      "userId": "07976630900806258773"
     },
     "user_tz": -480
    },
    "id": "7y8nBjPTExIy",
    "outputId": "a2b21186-6de1-4970-fd59-c81655a70d7c"
   },
   "outputs": [
    {
     "data": {
      "text/plain": [
       "(6, 768)"
      ]
     },
     "execution_count": 15,
     "metadata": {},
     "output_type": "execute_result"
    }
   ],
   "source": [
    "vectors_apple = np.array(vectors_apple)\n",
    "vectors_apple.shape"
   ]
  },
  {
   "cell_type": "markdown",
   "metadata": {
    "id": "NQaX1vEk7qYg"
   },
   "source": [
    "#### Pair-wise Similarity Computation"
   ]
  },
  {
   "cell_type": "code",
   "execution_count": 16,
   "metadata": {
    "id": "5xkP4LkhGiDT"
   },
   "outputs": [],
   "source": [
    "from sklearn.metrics.pairwise import cosine_similarity"
   ]
  },
  {
   "cell_type": "code",
   "execution_count": 17,
   "metadata": {
    "colab": {
     "base_uri": "https://localhost:8080/"
    },
    "executionInfo": {
     "elapsed": 365,
     "status": "ok",
     "timestamp": 1646502441757,
     "user": {
      "displayName": "rui zhao",
      "photoUrl": "https://lh3.googleusercontent.com/a-/AOh14GhmCiWl9LCopoyVYtscKhRzE0L8Y0JRDSZ6bsjFHA=s64",
      "userId": "07976630900806258773"
     },
     "user_tz": -480
    },
    "id": "cqoxjkumGlUr",
    "outputId": "597e36a0-3877-49f5-dd6f-0220d866d6f3"
   },
   "outputs": [
    {
     "name": "stdout",
     "output_type": "stream",
     "text": [
      "pairwise similarities output:\n",
      " [[1.0000002  0.7352113  0.815302   0.52664346 0.47562084 0.4960746 ]\n",
      " [0.7352113  0.9999992  0.70753527 0.50937325 0.47925133 0.46892264]\n",
      " [0.815302   0.70753527 1.         0.46320385 0.41884467 0.44034526]\n",
      " [0.52664346 0.50937325 0.46320385 1.0000001  0.8243001  0.76693135]\n",
      " [0.47562084 0.47925133 0.41884467 0.8243001  1.0000002  0.7225329 ]\n",
      " [0.4960746  0.46892264 0.44034526 0.76693135 0.7225329  0.9999999 ]]\n",
      "\n"
     ]
    }
   ],
   "source": [
    "similarities = cosine_similarity(vectors_apple)\n",
    "print('pairwise similarities output:\\n {}\\n'.format(similarities))"
   ]
  },
  {
   "cell_type": "code",
   "execution_count": 18,
   "metadata": {
    "id": "csOa31QkHixs"
   },
   "outputs": [],
   "source": [
    "df_similarity = pd.DataFrame(similarities,\n",
    "                             index=sentence_samples,\n",
    "                             columns=sentence_samples)"
   ]
  },
  {
   "cell_type": "code",
   "execution_count": 19,
   "metadata": {
    "colab": {
     "base_uri": "https://localhost:8080/",
     "height": 313
    },
    "executionInfo": {
     "elapsed": 27,
     "status": "ok",
     "timestamp": 1646502441760,
     "user": {
      "displayName": "rui zhao",
      "photoUrl": "https://lh3.googleusercontent.com/a-/AOh14GhmCiWl9LCopoyVYtscKhRzE0L8Y0JRDSZ6bsjFHA=s64",
      "userId": "07976630900806258773"
     },
     "user_tz": -480
    },
    "id": "mY3k1Zm2Hs3O",
    "outputId": "c3bb82f7-c290-4c7f-b535-fc42c82ca0e0"
   },
   "outputs": [
    {
     "data": {
      "text/html": [
       "<div>\n",
       "<style scoped>\n",
       "    .dataframe tbody tr th:only-of-type {\n",
       "        vertical-align: middle;\n",
       "    }\n",
       "\n",
       "    .dataframe tbody tr th {\n",
       "        vertical-align: top;\n",
       "    }\n",
       "\n",
       "    .dataframe thead th {\n",
       "        text-align: right;\n",
       "    }\n",
       "</style>\n",
       "<table border=\"1\" class=\"dataframe\">\n",
       "  <thead>\n",
       "    <tr style=\"text-align: right;\">\n",
       "      <th></th>\n",
       "      <th>An apple is sweet in taste.</th>\n",
       "      <th>We can make juice and jam from apple.</th>\n",
       "      <th>An apple a day keeps the doctor away.</th>\n",
       "      <th>Investors in Apple have a love-hate relationship with the iPhone.</th>\n",
       "      <th>Both Apple and Huawei have wireless charging features.</th>\n",
       "      <th>Steve Jobs returned to Apple in 1196.</th>\n",
       "    </tr>\n",
       "  </thead>\n",
       "  <tbody>\n",
       "    <tr>\n",
       "      <th>An apple is sweet in taste.</th>\n",
       "      <td>1.000000</td>\n",
       "      <td>0.735211</td>\n",
       "      <td>0.815302</td>\n",
       "      <td>0.526643</td>\n",
       "      <td>0.475621</td>\n",
       "      <td>0.496075</td>\n",
       "    </tr>\n",
       "    <tr>\n",
       "      <th>We can make juice and jam from apple.</th>\n",
       "      <td>0.735211</td>\n",
       "      <td>0.999999</td>\n",
       "      <td>0.707535</td>\n",
       "      <td>0.509373</td>\n",
       "      <td>0.479251</td>\n",
       "      <td>0.468923</td>\n",
       "    </tr>\n",
       "    <tr>\n",
       "      <th>An apple a day keeps the doctor away.</th>\n",
       "      <td>0.815302</td>\n",
       "      <td>0.707535</td>\n",
       "      <td>1.000000</td>\n",
       "      <td>0.463204</td>\n",
       "      <td>0.418845</td>\n",
       "      <td>0.440345</td>\n",
       "    </tr>\n",
       "    <tr>\n",
       "      <th>Investors in Apple have a love-hate relationship with the iPhone.</th>\n",
       "      <td>0.526643</td>\n",
       "      <td>0.509373</td>\n",
       "      <td>0.463204</td>\n",
       "      <td>1.000000</td>\n",
       "      <td>0.824300</td>\n",
       "      <td>0.766931</td>\n",
       "    </tr>\n",
       "    <tr>\n",
       "      <th>Both Apple and Huawei have wireless charging features.</th>\n",
       "      <td>0.475621</td>\n",
       "      <td>0.479251</td>\n",
       "      <td>0.418845</td>\n",
       "      <td>0.824300</td>\n",
       "      <td>1.000000</td>\n",
       "      <td>0.722533</td>\n",
       "    </tr>\n",
       "    <tr>\n",
       "      <th>Steve Jobs returned to Apple in 1196.</th>\n",
       "      <td>0.496075</td>\n",
       "      <td>0.468923</td>\n",
       "      <td>0.440345</td>\n",
       "      <td>0.766931</td>\n",
       "      <td>0.722533</td>\n",
       "      <td>1.000000</td>\n",
       "    </tr>\n",
       "  </tbody>\n",
       "</table>\n",
       "</div>"
      ],
      "text/plain": [
       "                                                                   An apple is sweet in taste.  \\\n",
       "An apple is sweet in taste.                                                           1.000000   \n",
       "We can make juice and jam from apple.                                                 0.735211   \n",
       "An apple a day keeps the doctor away.                                                 0.815302   \n",
       "Investors in Apple have a love-hate relationship with the iPhone.                     0.526643   \n",
       "Both Apple and Huawei have wireless charging features.                                0.475621   \n",
       "Steve Jobs returned to Apple in 1196.                                                 0.496075   \n",
       "\n",
       "                                                                   We can make juice and jam from apple.  \\\n",
       "An apple is sweet in taste.                                                                     0.735211   \n",
       "We can make juice and jam from apple.                                                           0.999999   \n",
       "An apple a day keeps the doctor away.                                                           0.707535   \n",
       "Investors in Apple have a love-hate relationship with the iPhone.                               0.509373   \n",
       "Both Apple and Huawei have wireless charging features.                                          0.479251   \n",
       "Steve Jobs returned to Apple in 1196.                                                           0.468923   \n",
       "\n",
       "                                                                   An apple a day keeps the doctor away.  \\\n",
       "An apple is sweet in taste.                                                                     0.815302   \n",
       "We can make juice and jam from apple.                                                           0.707535   \n",
       "An apple a day keeps the doctor away.                                                           1.000000   \n",
       "Investors in Apple have a love-hate relationship with the iPhone.                               0.463204   \n",
       "Both Apple and Huawei have wireless charging features.                                          0.418845   \n",
       "Steve Jobs returned to Apple in 1196.                                                           0.440345   \n",
       "\n",
       "                                                                   Investors in Apple have a love-hate relationship with the iPhone.  \\\n",
       "An apple is sweet in taste.                                                                                                 0.526643   \n",
       "We can make juice and jam from apple.                                                                                       0.509373   \n",
       "An apple a day keeps the doctor away.                                                                                       0.463204   \n",
       "Investors in Apple have a love-hate relationship with the iPhone.                                                           1.000000   \n",
       "Both Apple and Huawei have wireless charging features.                                                                      0.824300   \n",
       "Steve Jobs returned to Apple in 1196.                                                                                       0.766931   \n",
       "\n",
       "                                                                   Both Apple and Huawei have wireless charging features.  \\\n",
       "An apple is sweet in taste.                                                                                      0.475621   \n",
       "We can make juice and jam from apple.                                                                            0.479251   \n",
       "An apple a day keeps the doctor away.                                                                            0.418845   \n",
       "Investors in Apple have a love-hate relationship with the iPhone.                                                0.824300   \n",
       "Both Apple and Huawei have wireless charging features.                                                           1.000000   \n",
       "Steve Jobs returned to Apple in 1196.                                                                            0.722533   \n",
       "\n",
       "                                                                   Steve Jobs returned to Apple in 1196.  \n",
       "An apple is sweet in taste.                                                                     0.496075  \n",
       "We can make juice and jam from apple.                                                           0.468923  \n",
       "An apple a day keeps the doctor away.                                                           0.440345  \n",
       "Investors in Apple have a love-hate relationship with the iPhone.                               0.766931  \n",
       "Both Apple and Huawei have wireless charging features.                                          0.722533  \n",
       "Steve Jobs returned to Apple in 1196.                                                           1.000000  "
      ]
     },
     "execution_count": 19,
     "metadata": {},
     "output_type": "execute_result"
    }
   ],
   "source": [
    "df_similarity"
   ]
  },
  {
   "cell_type": "markdown",
   "metadata": {
    "id": "FOi6jT2X75OQ"
   },
   "source": [
    "#### Visualize the similarity matrix"
   ]
  },
  {
   "cell_type": "code",
   "execution_count": 20,
   "metadata": {
    "id": "hKsdauqxG4gN"
   },
   "outputs": [],
   "source": [
    "import seaborn as sns"
   ]
  },
  {
   "cell_type": "code",
   "execution_count": 21,
   "metadata": {
    "colab": {
     "base_uri": "https://localhost:8080/",
     "height": 599
    },
    "executionInfo": {
     "elapsed": 1948,
     "status": "ok",
     "timestamp": 1646502443692,
     "user": {
      "displayName": "rui zhao",
      "photoUrl": "https://lh3.googleusercontent.com/a-/AOh14GhmCiWl9LCopoyVYtscKhRzE0L8Y0JRDSZ6bsjFHA=s64",
      "userId": "07976630900806258773"
     },
     "user_tz": -480
    },
    "id": "am_hSr8YGnhr",
    "outputId": "0061dd3c-5285-44ea-afc9-e001ac9fa5c5"
   },
   "outputs": [
    {
     "data": {
      "text/plain": [
       "<AxesSubplot: >"
      ]
     },
     "execution_count": 21,
     "metadata": {},
     "output_type": "execute_result"
    },
    {
     "data": {
      "image/png": "[encoded data removed]",
      "text/plain": [
       "<Figure size 640x480 with 2 Axes>"
      ]
     },
     "metadata": {},
     "output_type": "display_data"
    }
   ],
   "source": [
    "sns.heatmap(df_similarity, \n",
    "            annot = True, \n",
    "            vmin=0, vmax=1, \n",
    "            center= 0.5, \n",
    "            cmap= 'coolwarm', \n",
    "            linewidths=3, \n",
    "            linecolor='black')"
   ]
  },
  {
   "cell_type": "markdown",
   "metadata": {
    "id": "P3D5qnRNmq5_"
   },
   "source": [
    "**BERT Authors**\n",
    "\n",
    "The BERT authors tested word-embedding strategies by feeding different vector combinations as input features to a BiLSTM used on a named entity recognition task and observing the resulting F1 scores.\n",
    "\n",
    "(Image from [Jay Allamar](http://jalammar.github.io/illustrated-bert/)'s blog)\n",
    "\n",
    "\n",
    "![alt text](http://jalammar.github.io/images/bert-feature-extraction-contextualized-embeddings.png)\n",
    "\n",
    "While concatenation of the last four layers produced the best results on this specific task, many of the other methods come in a close second and in general it is advisable to test different versions for your specific application: results may vary.\n",
    "\n",
    "This is partially demonstrated by noting that the different layers of BERT encode very different kinds of information, so the appropriate pooling strategy will change depending on the application because different layers encode different kinds of information. \n"
   ]
  }
 ],
 "metadata": {
  "colab": {
   "collapsed_sections": [],
   "name": "Contextualized_Word_Embedding_from_BERT.ipynb",
   "provenance": []
  },
  "kernelspec": {
   "display_name": "Python 3 (ipykernel)",
   "language": "python",
   "name": "python3"
  },
  "language_info": {
   "codemirror_mode": {
    "name": "ipython",
    "version": 3
   },
   "file_extension": ".py",
   "mimetype": "text/x-python",
   "name": "python",
   "nbconvert_exporter": "python",
   "pygments_lexer": "ipython3",
   "version": "3.9.15"
  },
  "widgets": {
   "application/vnd.jupyter.widget-state+json": {
    "0796b126bc2d47bf97b4863bc47ecade": {
     "model_module": "@jupyter-widgets/base",
     "model_module_version": "1.2.0",
     "model_name": "LayoutModel",
     "state": {
      "_model_module": "@jupyter-widgets/base",
      "_model_module_version": "1.2.0",
      "_model_name": "LayoutModel",
      "_view_count": null,
      "_view_module": "@jupyter-widgets/base",
      "_view_module_version": "1.2.0",
      "_view_name": "LayoutView",
      "align_content": null,
      "align_items": null,
      "align_self": null,
      "border": null,
      "bottom": null,
      "display": null,
      "flex": null,
      "flex_flow": null,
      "grid_area": null,
      "grid_auto_columns": null,
      "grid_auto_flow": null,
      "grid_auto_rows": null,
      "grid_column": null,
      "grid_gap": null,
      "grid_row": null,
      "grid_template_areas": null,
      "grid_template_columns": null,
      "grid_template_rows": null,
      "height": null,
      "justify_content": null,
      "justify_items": null,
      "left": null,
      "margin": null,
      "max_height": null,
      "max_width": null,
      "min_height": null,
      "min_width": null,
      "object_fit": null,
      "object_position": null,
      "order": null,
      "overflow": null,
      "overflow_x": null,
      "overflow_y": null,
      "padding": null,
      "right": null,
      "top": null,
      "visibility": null,
      "width": null
     }
    },
    "087a3e64a3c54f49b2f5940dc1bb054c": {
     "model_module": "@jupyter-widgets/controls",
     "model_module_version": "1.5.0",
     "model_name": "DescriptionStyleModel",
     "state": {
      "_model_module": "@jupyter-widgets/controls",
      "_model_module_version": "1.5.0",
      "_model_name": "DescriptionStyleModel",
      "_view_count": null,
      "_view_module": "@jupyter-widgets/base",
      "_view_module_version": "1.2.0",
      "_view_name": "StyleView",
      "description_width": ""
     }
    },
    "0f9c0f6fa2784adfa3035e410d1e8bda": {
     "model_module": "@jupyter-widgets/base",
     "model_module_version": "1.2.0",
     "model_name": "LayoutModel",
     "state": {
      "_model_module": "@jupyter-widgets/base",
      "_model_module_version": "1.2.0",
      "_model_name": "LayoutModel",
      "_view_count": null,
      "_view_module": "@jupyter-widgets/base",
      "_view_module_version": "1.2.0",
      "_view_name": "LayoutView",
      "align_content": null,
      "align_items": null,
      "align_self": null,
      "border": null,
      "bottom": null,
      "display": null,
      "flex": null,
      "flex_flow": null,
      "grid_area": null,
      "grid_auto_columns": null,
      "grid_auto_flow": null,
      "grid_auto_rows": null,
      "grid_column": null,
      "grid_gap": null,
      "grid_row": null,
      "grid_template_areas": null,
      "grid_template_columns": null,
      "grid_template_rows": null,
      "height": null,
      "justify_content": null,
      "justify_items": null,
      "left": null,
      "margin": null,
      "max_height": null,
      "max_width": null,
      "min_height": null,
      "min_width": null,
      "object_fit": null,
      "object_position": null,
      "order": null,
      "overflow": null,
      "overflow_x": null,
      "overflow_y": null,
      "padding": null,
      "right": null,
      "top": null,
      "visibility": null,
      "width": null
     }
    },
    "19c5b1492d6c42418df6e15f34400e01": {
     "model_module": "@jupyter-widgets/controls",
     "model_module_version": "1.5.0",
     "model_name": "DescriptionStyleModel",
     "state": {
      "_model_module": "@jupyter-widgets/controls",
      "_model_module_version": "1.5.0",
      "_model_name": "DescriptionStyleModel",
      "_view_count": null,
      "_view_module": "@jupyter-widgets/base",
      "_view_module_version": "1.2.0",
      "_view_name": "StyleView",
      "description_width": ""
     }
    },
    "1ea08f49cd404c3eaf0cd70bec177245": {
     "model_module": "@jupyter-widgets/base",
     "model_module_version": "1.2.0",
     "model_name": "LayoutModel",
     "state": {
      "_model_module": "@jupyter-widgets/base",
      "_model_module_version": "1.2.0",
      "_model_name": "LayoutModel",
      "_view_count": null,
      "_view_module": "@jupyter-widgets/base",
      "_view_module_version": "1.2.0",
      "_view_name": "LayoutView",
      "align_content": null,
      "align_items": null,
      "align_self": null,
      "border": null,
      "bottom": null,
      "display": null,
      "flex": null,
      "flex_flow": null,
      "grid_area": null,
      "grid_auto_columns": null,
      "grid_auto_flow": null,
      "grid_auto_rows": null,
      "grid_column": null,
      "grid_gap": null,
      "grid_row": null,
      "grid_template_areas": null,
      "grid_template_columns": null,
      "grid_template_rows": null,
      "height": null,
      "justify_content": null,
      "justify_items": null,
      "left": null,
      "margin": null,
      "max_height": null,
      "max_width": null,
      "min_height": null,
      "min_width": null,
      "object_fit": null,
      "object_position": null,
      "order": null,
      "overflow": null,
      "overflow_x": null,
      "overflow_y": null,
      "padding": null,
      "right": null,
      "top": null,
      "visibility": null,
      "width": null
     }
    },
    "21d4110859ae44b8ac40a2701d3deaea": {
     "model_module": "@jupyter-widgets/controls",
     "model_module_version": "1.5.0",
     "model_name": "HTMLModel",
     "state": {
      "_dom_classes": [],
      "_model_module": "@jupyter-widgets/controls",
      "_model_module_version": "1.5.0",
      "_model_name": "HTMLModel",
      "_view_count": null,
      "_view_module": "@jupyter-widgets/controls",
      "_view_module_version": "1.5.0",
      "_view_name": "HTMLView",
      "description": "",
      "description_tooltip": null,
      "layout": "IPY_MODEL_bbd389f8eca6423cb5f83c614347debe",
      "placeholder": "​",
      "style": "IPY_MODEL_19c5b1492d6c42418df6e15f34400e01",
      "value": " 226k/226k [00:00&lt;00:00, 6.23kB/s]"
     }
    },
    "223ac4f96e2c4bdbbcb7578cf7cc6beb": {
     "model_module": "@jupyter-widgets/controls",
     "model_module_version": "1.5.0",
     "model_name": "DescriptionStyleModel",
     "state": {
      "_model_module": "@jupyter-widgets/controls",
      "_model_module_version": "1.5.0",
      "_model_name": "DescriptionStyleModel",
      "_view_count": null,
      "_view_module": "@jupyter-widgets/base",
      "_view_module_version": "1.2.0",
      "_view_name": "StyleView",
      "description_width": ""
     }
    },
    "24b1d4513ea74e689da8999c3da2ed03": {
     "model_module": "@jupyter-widgets/controls",
     "model_module_version": "1.5.0",
     "model_name": "ProgressStyleModel",
     "state": {
      "_model_module": "@jupyter-widgets/controls",
      "_model_module_version": "1.5.0",
      "_model_name": "ProgressStyleModel",
      "_view_count": null,
      "_view_module": "@jupyter-widgets/base",
      "_view_module_version": "1.2.0",
      "_view_name": "StyleView",
      "bar_color": null,
      "description_width": ""
     }
    },
    "269be68051794495a7ba640724ffcd1c": {
     "model_module": "@jupyter-widgets/base",
     "model_module_version": "1.2.0",
     "model_name": "LayoutModel",
     "state": {
      "_model_module": "@jupyter-widgets/base",
      "_model_module_version": "1.2.0",
      "_model_name": "LayoutModel",
      "_view_count": null,
      "_view_module": "@jupyter-widgets/base",
      "_view_module_version": "1.2.0",
      "_view_name": "LayoutView",
      "align_content": null,
      "align_items": null,
      "align_self": null,
      "border": null,
      "bottom": null,
      "display": null,
      "flex": null,
      "flex_flow": null,
      "grid_area": null,
      "grid_auto_columns": null,
      "grid_auto_flow": null,
      "grid_auto_rows": null,
      "grid_column": null,
      "grid_gap": null,
      "grid_row": null,
      "grid_template_areas": null,
      "grid_template_columns": null,
      "grid_template_rows": null,
      "height": null,
      "justify_content": null,
      "justify_items": null,
      "left": null,
      "margin": null,
      "max_height": null,
      "max_width": null,
      "min_height": null,
      "min_width": null,
      "object_fit": null,
      "object_position": null,
      "order": null,
      "overflow": null,
      "overflow_x": null,
      "overflow_y": null,
      "padding": null,
      "right": null,
      "top": null,
      "visibility": null,
      "width": null
     }
    },
    "2bf28408f1774ac98fe79bdb7cec0354": {
     "model_module": "@jupyter-widgets/base",
     "model_module_version": "1.2.0",
     "model_name": "LayoutModel",
     "state": {
      "_model_module": "@jupyter-widgets/base",
      "_model_module_version": "1.2.0",
      "_model_name": "LayoutModel",
      "_view_count": null,
      "_view_module": "@jupyter-widgets/base",
      "_view_module_version": "1.2.0",
      "_view_name": "LayoutView",
      "align_content": null,
      "align_items": null,
      "align_self": null,
      "border": null,
      "bottom": null,
      "display": null,
      "flex": null,
      "flex_flow": null,
      "grid_area": null,
      "grid_auto_columns": null,
      "grid_auto_flow": null,
      "grid_auto_rows": null,
      "grid_column": null,
      "grid_gap": null,
      "grid_row": null,
      "grid_template_areas": null,
      "grid_template_columns": null,
      "grid_template_rows": null,
      "height": null,
      "justify_content": null,
      "justify_items": null,
      "left": null,
      "margin": null,
      "max_height": null,
      "max_width": null,
      "min_height": null,
      "min_width": null,
      "object_fit": null,
      "object_position": null,
      "order": null,
      "overflow": null,
      "overflow_x": null,
      "overflow_y": null,
      "padding": null,
      "right": null,
      "top": null,
      "visibility": null,
      "width": null
     }
    },
    "3438e99f8b584a6a94c3546ecf6a40e6": {
     "model_module": "@jupyter-widgets/controls",
     "model_module_version": "1.5.0",
     "model_name": "HTMLModel",
     "state": {
      "_dom_classes": [],
      "_model_module": "@jupyter-widgets/controls",
      "_model_module_version": "1.5.0",
      "_model_name": "HTMLModel",
      "_view_count": null,
      "_view_module": "@jupyter-widgets/controls",
      "_view_module_version": "1.5.0",
      "_view_name": "HTMLView",
      "description": "",
      "description_tooltip": null,
      "layout": "IPY_MODEL_0796b126bc2d47bf97b4863bc47ecade",
      "placeholder": "​",
      "style": "IPY_MODEL_ec106e85d98d4e2ba9bbf359e1f18f93",
      "value": " 570/570 [00:00&lt;00:00, 11.5kB/s]"
     }
    },
    "37b405ee0f4a4c31b1f1edeed8c501a9": {
     "model_module": "@jupyter-widgets/controls",
     "model_module_version": "1.5.0",
     "model_name": "DescriptionStyleModel",
     "state": {
      "_model_module": "@jupyter-widgets/controls",
      "_model_module_version": "1.5.0",
      "_model_name": "DescriptionStyleModel",
      "_view_count": null,
      "_view_module": "@jupyter-widgets/base",
      "_view_module_version": "1.2.0",
      "_view_name": "StyleView",
      "description_width": ""
     }
    },
    "3951a95729354227a1698f1db3c3a25c": {
     "model_module": "@jupyter-widgets/controls",
     "model_module_version": "1.5.0",
     "model_name": "ProgressStyleModel",
     "state": {
      "_model_module": "@jupyter-widgets/controls",
      "_model_module_version": "1.5.0",
      "_model_name": "ProgressStyleModel",
      "_view_count": null,
      "_view_module": "@jupyter-widgets/base",
      "_view_module_version": "1.2.0",
      "_view_name": "StyleView",
      "bar_color": null,
      "description_width": ""
     }
    },
    "43595e96ec8447179cc8a8b41f65e490": {
     "model_module": "@jupyter-widgets/base",
     "model_module_version": "1.2.0",
     "model_name": "LayoutModel",
     "state": {
      "_model_module": "@jupyter-widgets/base",
      "_model_module_version": "1.2.0",
      "_model_name": "LayoutModel",
      "_view_count": null,
      "_view_module": "@jupyter-widgets/base",
      "_view_module_version": "1.2.0",
      "_view_name": "LayoutView",
      "align_content": null,
      "align_items": null,
      "align_self": null,
      "border": null,
      "bottom": null,
      "display": null,
      "flex": null,
      "flex_flow": null,
      "grid_area": null,
      "grid_auto_columns": null,
      "grid_auto_flow": null,
      "grid_auto_rows": null,
      "grid_column": null,
      "grid_gap": null,
      "grid_row": null,
      "grid_template_areas": null,
      "grid_template_columns": null,
      "grid_template_rows": null,
      "height": null,
      "justify_content": null,
      "justify_items": null,
      "left": null,
      "margin": null,
      "max_height": null,
      "max_width": null,
      "min_height": null,
      "min_width": null,
      "object_fit": null,
      "object_position": null,
      "order": null,
      "overflow": null,
      "overflow_x": null,
      "overflow_y": null,
      "padding": null,
      "right": null,
      "top": null,
      "visibility": null,
      "width": null
     }
    },
    "4df4ee5e99504ecdb45155c98568ae89": {
     "model_module": "@jupyter-widgets/controls",
     "model_module_version": "1.5.0",
     "model_name": "ProgressStyleModel",
     "state": {
      "_model_module": "@jupyter-widgets/controls",
      "_model_module_version": "1.5.0",
      "_model_name": "ProgressStyleModel",
      "_view_count": null,
      "_view_module": "@jupyter-widgets/base",
      "_view_module_version": "1.2.0",
      "_view_name": "StyleView",
      "bar_color": null,
      "description_width": ""
     }
    },
    "50c3994db51848b5ba68f62957b9d4a8": {
     "model_module": "@jupyter-widgets/controls",
     "model_module_version": "1.5.0",
     "model_name": "HTMLModel",
     "state": {
      "_dom_classes": [],
      "_model_module": "@jupyter-widgets/controls",
      "_model_module_version": "1.5.0",
      "_model_name": "HTMLModel",
      "_view_count": null,
      "_view_module": "@jupyter-widgets/controls",
      "_view_module_version": "1.5.0",
      "_view_name": "HTMLView",
      "description": "",
      "description_tooltip": null,
      "layout": "IPY_MODEL_9a9d205556c34b00b86dff63b572eb41",
      "placeholder": "​",
      "style": "IPY_MODEL_37b405ee0f4a4c31b1f1edeed8c501a9",
      "value": "Downloading: 100%"
     }
    },
    "536d0b02fcca41628962da417f21fadf": {
     "model_module": "@jupyter-widgets/base",
     "model_module_version": "1.2.0",
     "model_name": "LayoutModel",
     "state": {
      "_model_module": "@jupyter-widgets/base",
      "_model_module_version": "1.2.0",
      "_model_name": "LayoutModel",
      "_view_count": null,
      "_view_module": "@jupyter-widgets/base",
      "_view_module_version": "1.2.0",
      "_view_name": "LayoutView",
      "align_content": null,
      "align_items": null,
      "align_self": null,
      "border": null,
      "bottom": null,
      "display": null,
      "flex": null,
      "flex_flow": null,
      "grid_area": null,
      "grid_auto_columns": null,
      "grid_auto_flow": null,
      "grid_auto_rows": null,
      "grid_column": null,
      "grid_gap": null,
      "grid_row": null,
      "grid_template_areas": null,
      "grid_template_columns": null,
      "grid_template_rows": null,
      "height": null,
      "justify_content": null,
      "justify_items": null,
      "left": null,
      "margin": null,
      "max_height": null,
      "max_width": null,
      "min_height": null,
      "min_width": null,
      "object_fit": null,
      "object_position": null,
      "order": null,
      "overflow": null,
      "overflow_x": null,
      "overflow_y": null,
      "padding": null,
      "right": null,
      "top": null,
      "visibility": null,
      "width": null
     }
    },
    "644e76bb4da24f1498c2705fa656e466": {
     "model_module": "@jupyter-widgets/base",
     "model_module_version": "1.2.0",
     "model_name": "LayoutModel",
     "state": {
      "_model_module": "@jupyter-widgets/base",
      "_model_module_version": "1.2.0",
      "_model_name": "LayoutModel",
      "_view_count": null,
      "_view_module": "@jupyter-widgets/base",
      "_view_module_version": "1.2.0",
      "_view_name": "LayoutView",
      "align_content": null,
      "align_items": null,
      "align_self": null,
      "border": null,
      "bottom": null,
      "display": null,
      "flex": null,
      "flex_flow": null,
      "grid_area": null,
      "grid_auto_columns": null,
      "grid_auto_flow": null,
      "grid_auto_rows": null,
      "grid_column": null,
      "grid_gap": null,
      "grid_row": null,
      "grid_template_areas": null,
      "grid_template_columns": null,
      "grid_template_rows": null,
      "height": null,
      "justify_content": null,
      "justify_items": null,
      "left": null,
      "margin": null,
      "max_height": null,
      "max_width": null,
      "min_height": null,
      "min_width": null,
      "object_fit": null,
      "object_position": null,
      "order": null,
      "overflow": null,
      "overflow_x": null,
      "overflow_y": null,
      "padding": null,
      "right": null,
      "top": null,
      "visibility": null,
      "width": null
     }
    },
    "71081a0488794d129aa0f979642f12ef": {
     "model_module": "@jupyter-widgets/controls",
     "model_module_version": "1.5.0",
     "model_name": "FloatProgressModel",
     "state": {
      "_dom_classes": [],
      "_model_module": "@jupyter-widgets/controls",
      "_model_module_version": "1.5.0",
      "_model_name": "FloatProgressModel",
      "_view_count": null,
      "_view_module": "@jupyter-widgets/controls",
      "_view_module_version": "1.5.0",
      "_view_name": "ProgressView",
      "bar_style": "success",
      "description": "",
      "description_tooltip": null,
      "layout": "IPY_MODEL_c0dfefdfc53246878dfc073f4a161d86",
      "max": 570,
      "min": 0,
      "orientation": "horizontal",
      "style": "IPY_MODEL_4df4ee5e99504ecdb45155c98568ae89",
      "value": 570
     }
    },
    "7b0d1651bd3e4915bcf78d80c50d3f31": {
     "model_module": "@jupyter-widgets/controls",
     "model_module_version": "1.5.0",
     "model_name": "HTMLModel",
     "state": {
      "_dom_classes": [],
      "_model_module": "@jupyter-widgets/controls",
      "_model_module_version": "1.5.0",
      "_model_name": "HTMLModel",
      "_view_count": null,
      "_view_module": "@jupyter-widgets/controls",
      "_view_module_version": "1.5.0",
      "_view_name": "HTMLView",
      "description": "",
      "description_tooltip": null,
      "layout": "IPY_MODEL_ce4a5f32c1864a11a312b0f7aa04157a",
      "placeholder": "​",
      "style": "IPY_MODEL_ed2b94cd5a00411888f5593aa562077a",
      "value": " 420M/420M [00:28&lt;00:00, 9.76MB/s]"
     }
    },
    "7d34ea3f94af410a8afe3d12700faada": {
     "model_module": "@jupyter-widgets/base",
     "model_module_version": "1.2.0",
     "model_name": "LayoutModel",
     "state": {
      "_model_module": "@jupyter-widgets/base",
      "_model_module_version": "1.2.0",
      "_model_name": "LayoutModel",
      "_view_count": null,
      "_view_module": "@jupyter-widgets/base",
      "_view_module_version": "1.2.0",
      "_view_name": "LayoutView",
      "align_content": null,
      "align_items": null,
      "align_self": null,
      "border": null,
      "bottom": null,
      "display": null,
      "flex": null,
      "flex_flow": null,
      "grid_area": null,
      "grid_auto_columns": null,
      "grid_auto_flow": null,
      "grid_auto_rows": null,
      "grid_column": null,
      "grid_gap": null,
      "grid_row": null,
      "grid_template_areas": null,
      "grid_template_columns": null,
      "grid_template_rows": null,
      "height": null,
      "justify_content": null,
      "justify_items": null,
      "left": null,
      "margin": null,
      "max_height": null,
      "max_width": null,
      "min_height": null,
      "min_width": null,
      "object_fit": null,
      "object_position": null,
      "order": null,
      "overflow": null,
      "overflow_x": null,
      "overflow_y": null,
      "padding": null,
      "right": null,
      "top": null,
      "visibility": null,
      "width": null
     }
    },
    "7d3c0066671745faa85e52cccfb0b536": {
     "model_module": "@jupyter-widgets/controls",
     "model_module_version": "1.5.0",
     "model_name": "HBoxModel",
     "state": {
      "_dom_classes": [],
      "_model_module": "@jupyter-widgets/controls",
      "_model_module_version": "1.5.0",
      "_model_name": "HBoxModel",
      "_view_count": null,
      "_view_module": "@jupyter-widgets/controls",
      "_view_module_version": "1.5.0",
      "_view_name": "HBoxView",
      "box_style": "",
      "children": [
       "IPY_MODEL_9eec7919ae1641b2a55d5caad82d3e6f",
       "IPY_MODEL_c62eacdaf959429396d7f5c1990f4e77",
       "IPY_MODEL_eb934e65efec4c18907f7d5196db5c28"
      ],
      "layout": "IPY_MODEL_43595e96ec8447179cc8a8b41f65e490"
     }
    },
    "7dbd3f66938c42beba50a3f4d83b6954": {
     "model_module": "@jupyter-widgets/controls",
     "model_module_version": "1.5.0",
     "model_name": "HBoxModel",
     "state": {
      "_dom_classes": [],
      "_model_module": "@jupyter-widgets/controls",
      "_model_module_version": "1.5.0",
      "_model_name": "HBoxModel",
      "_view_count": null,
      "_view_module": "@jupyter-widgets/controls",
      "_view_module_version": "1.5.0",
      "_view_name": "HBoxView",
      "box_style": "",
      "children": [
       "IPY_MODEL_a498f79384a24ff3b3d5be709791baa4",
       "IPY_MODEL_ded51ac50f9a4daf9d796fee2f31da25",
       "IPY_MODEL_21d4110859ae44b8ac40a2701d3deaea"
      ],
      "layout": "IPY_MODEL_c5b641fe72a844328d36d3ce0cbb9beb"
     }
    },
    "84e022f798d4434e9453b3e892f7d671": {
     "model_module": "@jupyter-widgets/controls",
     "model_module_version": "1.5.0",
     "model_name": "FloatProgressModel",
     "state": {
      "_dom_classes": [],
      "_model_module": "@jupyter-widgets/controls",
      "_model_module_version": "1.5.0",
      "_model_name": "FloatProgressModel",
      "_view_count": null,
      "_view_module": "@jupyter-widgets/controls",
      "_view_module_version": "1.5.0",
      "_view_name": "ProgressView",
      "bar_style": "success",
      "description": "",
      "description_tooltip": null,
      "layout": "IPY_MODEL_7d34ea3f94af410a8afe3d12700faada",
      "max": 440473133,
      "min": 0,
      "orientation": "horizontal",
      "style": "IPY_MODEL_ae79a92d52124174a6650edf1fbdcef7",
      "value": 440473133
     }
    },
    "8f117318a1e6465998409fa3cca4787d": {
     "model_module": "@jupyter-widgets/controls",
     "model_module_version": "1.5.0",
     "model_name": "HBoxModel",
     "state": {
      "_dom_classes": [],
      "_model_module": "@jupyter-widgets/controls",
      "_model_module_version": "1.5.0",
      "_model_name": "HBoxModel",
      "_view_count": null,
      "_view_module": "@jupyter-widgets/controls",
      "_view_module_version": "1.5.0",
      "_view_name": "HBoxView",
      "box_style": "",
      "children": [
       "IPY_MODEL_b79b92e3d01e49ba8247aa471dc500f5",
       "IPY_MODEL_71081a0488794d129aa0f979642f12ef",
       "IPY_MODEL_3438e99f8b584a6a94c3546ecf6a40e6"
      ],
      "layout": "IPY_MODEL_a23707c449f841c4813280f275ce1543"
     }
    },
    "95be7fad66104435bea0e73ca79061dc": {
     "model_module": "@jupyter-widgets/controls",
     "model_module_version": "1.5.0",
     "model_name": "DescriptionStyleModel",
     "state": {
      "_model_module": "@jupyter-widgets/controls",
      "_model_module_version": "1.5.0",
      "_model_name": "DescriptionStyleModel",
      "_view_count": null,
      "_view_module": "@jupyter-widgets/base",
      "_view_module_version": "1.2.0",
      "_view_name": "StyleView",
      "description_width": ""
     }
    },
    "9a9d205556c34b00b86dff63b572eb41": {
     "model_module": "@jupyter-widgets/base",
     "model_module_version": "1.2.0",
     "model_name": "LayoutModel",
     "state": {
      "_model_module": "@jupyter-widgets/base",
      "_model_module_version": "1.2.0",
      "_model_name": "LayoutModel",
      "_view_count": null,
      "_view_module": "@jupyter-widgets/base",
      "_view_module_version": "1.2.0",
      "_view_name": "LayoutView",
      "align_content": null,
      "align_items": null,
      "align_self": null,
      "border": null,
      "bottom": null,
      "display": null,
      "flex": null,
      "flex_flow": null,
      "grid_area": null,
      "grid_auto_columns": null,
      "grid_auto_flow": null,
      "grid_auto_rows": null,
      "grid_column": null,
      "grid_gap": null,
      "grid_row": null,
      "grid_template_areas": null,
      "grid_template_columns": null,
      "grid_template_rows": null,
      "height": null,
      "justify_content": null,
      "justify_items": null,
      "left": null,
      "margin": null,
      "max_height": null,
      "max_width": null,
      "min_height": null,
      "min_width": null,
      "object_fit": null,
      "object_position": null,
      "order": null,
      "overflow": null,
      "overflow_x": null,
      "overflow_y": null,
      "padding": null,
      "right": null,
      "top": null,
      "visibility": null,
      "width": null
     }
    },
    "9eec7919ae1641b2a55d5caad82d3e6f": {
     "model_module": "@jupyter-widgets/controls",
     "model_module_version": "1.5.0",
     "model_name": "HTMLModel",
     "state": {
      "_dom_classes": [],
      "_model_module": "@jupyter-widgets/controls",
      "_model_module_version": "1.5.0",
      "_model_name": "HTMLModel",
      "_view_count": null,
      "_view_module": "@jupyter-widgets/controls",
      "_view_module_version": "1.5.0",
      "_view_name": "HTMLView",
      "description": "",
      "description_tooltip": null,
      "layout": "IPY_MODEL_644e76bb4da24f1498c2705fa656e466",
      "placeholder": "​",
      "style": "IPY_MODEL_223ac4f96e2c4bdbbcb7578cf7cc6beb",
      "value": "Downloading: 100%"
     }
    },
    "a1978164e6ef459994538ebc9012566a": {
     "model_module": "@jupyter-widgets/base",
     "model_module_version": "1.2.0",
     "model_name": "LayoutModel",
     "state": {
      "_model_module": "@jupyter-widgets/base",
      "_model_module_version": "1.2.0",
      "_model_name": "LayoutModel",
      "_view_count": null,
      "_view_module": "@jupyter-widgets/base",
      "_view_module_version": "1.2.0",
      "_view_name": "LayoutView",
      "align_content": null,
      "align_items": null,
      "align_self": null,
      "border": null,
      "bottom": null,
      "display": null,
      "flex": null,
      "flex_flow": null,
      "grid_area": null,
      "grid_auto_columns": null,
      "grid_auto_flow": null,
      "grid_auto_rows": null,
      "grid_column": null,
      "grid_gap": null,
      "grid_row": null,
      "grid_template_areas": null,
      "grid_template_columns": null,
      "grid_template_rows": null,
      "height": null,
      "justify_content": null,
      "justify_items": null,
      "left": null,
      "margin": null,
      "max_height": null,
      "max_width": null,
      "min_height": null,
      "min_width": null,
      "object_fit": null,
      "object_position": null,
      "order": null,
      "overflow": null,
      "overflow_x": null,
      "overflow_y": null,
      "padding": null,
      "right": null,
      "top": null,
      "visibility": null,
      "width": null
     }
    },
    "a23707c449f841c4813280f275ce1543": {
     "model_module": "@jupyter-widgets/base",
     "model_module_version": "1.2.0",
     "model_name": "LayoutModel",
     "state": {
      "_model_module": "@jupyter-widgets/base",
      "_model_module_version": "1.2.0",
      "_model_name": "LayoutModel",
      "_view_count": null,
      "_view_module": "@jupyter-widgets/base",
      "_view_module_version": "1.2.0",
      "_view_name": "LayoutView",
      "align_content": null,
      "align_items": null,
      "align_self": null,
      "border": null,
      "bottom": null,
      "display": null,
      "flex": null,
      "flex_flow": null,
      "grid_area": null,
      "grid_auto_columns": null,
      "grid_auto_flow": null,
      "grid_auto_rows": null,
      "grid_column": null,
      "grid_gap": null,
      "grid_row": null,
      "grid_template_areas": null,
      "grid_template_columns": null,
      "grid_template_rows": null,
      "height": null,
      "justify_content": null,
      "justify_items": null,
      "left": null,
      "margin": null,
      "max_height": null,
      "max_width": null,
      "min_height": null,
      "min_width": null,
      "object_fit": null,
      "object_position": null,
      "order": null,
      "overflow": null,
      "overflow_x": null,
      "overflow_y": null,
      "padding": null,
      "right": null,
      "top": null,
      "visibility": null,
      "width": null
     }
    },
    "a498f79384a24ff3b3d5be709791baa4": {
     "model_module": "@jupyter-widgets/controls",
     "model_module_version": "1.5.0",
     "model_name": "HTMLModel",
     "state": {
      "_dom_classes": [],
      "_model_module": "@jupyter-widgets/controls",
      "_model_module_version": "1.5.0",
      "_model_name": "HTMLModel",
      "_view_count": null,
      "_view_module": "@jupyter-widgets/controls",
      "_view_module_version": "1.5.0",
      "_view_name": "HTMLView",
      "description": "",
      "description_tooltip": null,
      "layout": "IPY_MODEL_2bf28408f1774ac98fe79bdb7cec0354",
      "placeholder": "​",
      "style": "IPY_MODEL_087a3e64a3c54f49b2f5940dc1bb054c",
      "value": "Downloading: 100%"
     }
    },
    "ae79a92d52124174a6650edf1fbdcef7": {
     "model_module": "@jupyter-widgets/controls",
     "model_module_version": "1.5.0",
     "model_name": "ProgressStyleModel",
     "state": {
      "_model_module": "@jupyter-widgets/controls",
      "_model_module_version": "1.5.0",
      "_model_name": "ProgressStyleModel",
      "_view_count": null,
      "_view_module": "@jupyter-widgets/base",
      "_view_module_version": "1.2.0",
      "_view_name": "StyleView",
      "bar_color": null,
      "description_width": ""
     }
    },
    "b79b92e3d01e49ba8247aa471dc500f5": {
     "model_module": "@jupyter-widgets/controls",
     "model_module_version": "1.5.0",
     "model_name": "HTMLModel",
     "state": {
      "_dom_classes": [],
      "_model_module": "@jupyter-widgets/controls",
      "_model_module_version": "1.5.0",
      "_model_name": "HTMLModel",
      "_view_count": null,
      "_view_module": "@jupyter-widgets/controls",
      "_view_module_version": "1.5.0",
      "_view_name": "HTMLView",
      "description": "",
      "description_tooltip": null,
      "layout": "IPY_MODEL_1ea08f49cd404c3eaf0cd70bec177245",
      "placeholder": "​",
      "style": "IPY_MODEL_95be7fad66104435bea0e73ca79061dc",
      "value": "Downloading: 100%"
     }
    },
    "bbd389f8eca6423cb5f83c614347debe": {
     "model_module": "@jupyter-widgets/base",
     "model_module_version": "1.2.0",
     "model_name": "LayoutModel",
     "state": {
      "_model_module": "@jupyter-widgets/base",
      "_model_module_version": "1.2.0",
      "_model_name": "LayoutModel",
      "_view_count": null,
      "_view_module": "@jupyter-widgets/base",
      "_view_module_version": "1.2.0",
      "_view_name": "LayoutView",
      "align_content": null,
      "align_items": null,
      "align_self": null,
      "border": null,
      "bottom": null,
      "display": null,
      "flex": null,
      "flex_flow": null,
      "grid_area": null,
      "grid_auto_columns": null,
      "grid_auto_flow": null,
      "grid_auto_rows": null,
      "grid_column": null,
      "grid_gap": null,
      "grid_row": null,
      "grid_template_areas": null,
      "grid_template_columns": null,
      "grid_template_rows": null,
      "height": null,
      "justify_content": null,
      "justify_items": null,
      "left": null,
      "margin": null,
      "max_height": null,
      "max_width": null,
      "min_height": null,
      "min_width": null,
      "object_fit": null,
      "object_position": null,
      "order": null,
      "overflow": null,
      "overflow_x": null,
      "overflow_y": null,
      "padding": null,
      "right": null,
      "top": null,
      "visibility": null,
      "width": null
     }
    },
    "c0dfefdfc53246878dfc073f4a161d86": {
     "model_module": "@jupyter-widgets/base",
     "model_module_version": "1.2.0",
     "model_name": "LayoutModel",
     "state": {
      "_model_module": "@jupyter-widgets/base",
      "_model_module_version": "1.2.0",
      "_model_name": "LayoutModel",
      "_view_count": null,
      "_view_module": "@jupyter-widgets/base",
      "_view_module_version": "1.2.0",
      "_view_name": "LayoutView",
      "align_content": null,
      "align_items": null,
      "align_self": null,
      "border": null,
      "bottom": null,
      "display": null,
      "flex": null,
      "flex_flow": null,
      "grid_area": null,
      "grid_auto_columns": null,
      "grid_auto_flow": null,
      "grid_auto_rows": null,
      "grid_column": null,
      "grid_gap": null,
      "grid_row": null,
      "grid_template_areas": null,
      "grid_template_columns": null,
      "grid_template_rows": null,
      "height": null,
      "justify_content": null,
      "justify_items": null,
      "left": null,
      "margin": null,
      "max_height": null,
      "max_width": null,
      "min_height": null,
      "min_width": null,
      "object_fit": null,
      "object_position": null,
      "order": null,
      "overflow": null,
      "overflow_x": null,
      "overflow_y": null,
      "padding": null,
      "right": null,
      "top": null,
      "visibility": null,
      "width": null
     }
    },
    "c5b641fe72a844328d36d3ce0cbb9beb": {
     "model_module": "@jupyter-widgets/base",
     "model_module_version": "1.2.0",
     "model_name": "LayoutModel",
     "state": {
      "_model_module": "@jupyter-widgets/base",
      "_model_module_version": "1.2.0",
      "_model_name": "LayoutModel",
      "_view_count": null,
      "_view_module": "@jupyter-widgets/base",
      "_view_module_version": "1.2.0",
      "_view_name": "LayoutView",
      "align_content": null,
      "align_items": null,
      "align_self": null,
      "border": null,
      "bottom": null,
      "display": null,
      "flex": null,
      "flex_flow": null,
      "grid_area": null,
      "grid_auto_columns": null,
      "grid_auto_flow": null,
      "grid_auto_rows": null,
      "grid_column": null,
      "grid_gap": null,
      "grid_row": null,
      "grid_template_areas": null,
      "grid_template_columns": null,
      "grid_template_rows": null,
      "height": null,
      "justify_content": null,
      "justify_items": null,
      "left": null,
      "margin": null,
      "max_height": null,
      "max_width": null,
      "min_height": null,
      "min_width": null,
      "object_fit": null,
      "object_position": null,
      "order": null,
      "overflow": null,
      "overflow_x": null,
      "overflow_y": null,
      "padding": null,
      "right": null,
      "top": null,
      "visibility": null,
      "width": null
     }
    },
    "c62eacdaf959429396d7f5c1990f4e77": {
     "model_module": "@jupyter-widgets/controls",
     "model_module_version": "1.5.0",
     "model_name": "FloatProgressModel",
     "state": {
      "_dom_classes": [],
      "_model_module": "@jupyter-widgets/controls",
      "_model_module_version": "1.5.0",
      "_model_name": "FloatProgressModel",
      "_view_count": null,
      "_view_module": "@jupyter-widgets/controls",
      "_view_module_version": "1.5.0",
      "_view_name": "ProgressView",
      "bar_style": "success",
      "description": "",
      "description_tooltip": null,
      "layout": "IPY_MODEL_0f9c0f6fa2784adfa3035e410d1e8bda",
      "max": 28,
      "min": 0,
      "orientation": "horizontal",
      "style": "IPY_MODEL_24b1d4513ea74e689da8999c3da2ed03",
      "value": 28
     }
    },
    "ce4a5f32c1864a11a312b0f7aa04157a": {
     "model_module": "@jupyter-widgets/base",
     "model_module_version": "1.2.0",
     "model_name": "LayoutModel",
     "state": {
      "_model_module": "@jupyter-widgets/base",
      "_model_module_version": "1.2.0",
      "_model_name": "LayoutModel",
      "_view_count": null,
      "_view_module": "@jupyter-widgets/base",
      "_view_module_version": "1.2.0",
      "_view_name": "LayoutView",
      "align_content": null,
      "align_items": null,
      "align_self": null,
      "border": null,
      "bottom": null,
      "display": null,
      "flex": null,
      "flex_flow": null,
      "grid_area": null,
      "grid_auto_columns": null,
      "grid_auto_flow": null,
      "grid_auto_rows": null,
      "grid_column": null,
      "grid_gap": null,
      "grid_row": null,
      "grid_template_areas": null,
      "grid_template_columns": null,
      "grid_template_rows": null,
      "height": null,
      "justify_content": null,
      "justify_items": null,
      "left": null,
      "margin": null,
      "max_height": null,
      "max_width": null,
      "min_height": null,
      "min_width": null,
      "object_fit": null,
      "object_position": null,
      "order": null,
      "overflow": null,
      "overflow_x": null,
      "overflow_y": null,
      "padding": null,
      "right": null,
      "top": null,
      "visibility": null,
      "width": null
     }
    },
    "ded51ac50f9a4daf9d796fee2f31da25": {
     "model_module": "@jupyter-widgets/controls",
     "model_module_version": "1.5.0",
     "model_name": "FloatProgressModel",
     "state": {
      "_dom_classes": [],
      "_model_module": "@jupyter-widgets/controls",
      "_model_module_version": "1.5.0",
      "_model_name": "FloatProgressModel",
      "_view_count": null,
      "_view_module": "@jupyter-widgets/controls",
      "_view_module_version": "1.5.0",
      "_view_name": "ProgressView",
      "bar_style": "success",
      "description": "",
      "description_tooltip": null,
      "layout": "IPY_MODEL_a1978164e6ef459994538ebc9012566a",
      "max": 231508,
      "min": 0,
      "orientation": "horizontal",
      "style": "IPY_MODEL_3951a95729354227a1698f1db3c3a25c",
      "value": 231508
     }
    },
    "e213fa00c6c0407faedfc3a2fb536490": {
     "model_module": "@jupyter-widgets/controls",
     "model_module_version": "1.5.0",
     "model_name": "DescriptionStyleModel",
     "state": {
      "_model_module": "@jupyter-widgets/controls",
      "_model_module_version": "1.5.0",
      "_model_name": "DescriptionStyleModel",
      "_view_count": null,
      "_view_module": "@jupyter-widgets/base",
      "_view_module_version": "1.2.0",
      "_view_name": "StyleView",
      "description_width": ""
     }
    },
    "e94e7c8a895b4f2094af5ea790fba436": {
     "model_module": "@jupyter-widgets/controls",
     "model_module_version": "1.5.0",
     "model_name": "HBoxModel",
     "state": {
      "_dom_classes": [],
      "_model_module": "@jupyter-widgets/controls",
      "_model_module_version": "1.5.0",
      "_model_name": "HBoxModel",
      "_view_count": null,
      "_view_module": "@jupyter-widgets/controls",
      "_view_module_version": "1.5.0",
      "_view_name": "HBoxView",
      "box_style": "",
      "children": [
       "IPY_MODEL_50c3994db51848b5ba68f62957b9d4a8",
       "IPY_MODEL_84e022f798d4434e9453b3e892f7d671",
       "IPY_MODEL_7b0d1651bd3e4915bcf78d80c50d3f31"
      ],
      "layout": "IPY_MODEL_269be68051794495a7ba640724ffcd1c"
     }
    },
    "eb934e65efec4c18907f7d5196db5c28": {
     "model_module": "@jupyter-widgets/controls",
     "model_module_version": "1.5.0",
     "model_name": "HTMLModel",
     "state": {
      "_dom_classes": [],
      "_model_module": "@jupyter-widgets/controls",
      "_model_module_version": "1.5.0",
      "_model_name": "HTMLModel",
      "_view_count": null,
      "_view_module": "@jupyter-widgets/controls",
      "_view_module_version": "1.5.0",
      "_view_name": "HTMLView",
      "description": "",
      "description_tooltip": null,
      "layout": "IPY_MODEL_536d0b02fcca41628962da417f21fadf",
      "placeholder": "​",
      "style": "IPY_MODEL_e213fa00c6c0407faedfc3a2fb536490",
      "value": " 28.0/28.0 [00:00&lt;00:00, 480B/s]"
     }
    },
    "ec106e85d98d4e2ba9bbf359e1f18f93": {
     "model_module": "@jupyter-widgets/controls",
     "model_module_version": "1.5.0",
     "model_name": "DescriptionStyleModel",
     "state": {
      "_model_module": "@jupyter-widgets/controls",
      "_model_module_version": "1.5.0",
      "_model_name": "DescriptionStyleModel",
      "_view_count": null,
      "_view_module": "@jupyter-widgets/base",
      "_view_module_version": "1.2.0",
      "_view_name": "StyleView",
      "description_width": ""
     }
    },
    "ed2b94cd5a00411888f5593aa562077a": {
     "model_module": "@jupyter-widgets/controls",
     "model_module_version": "1.5.0",
     "model_name": "DescriptionStyleModel",
     "state": {
      "_model_module": "@jupyter-widgets/controls",
      "_model_module_version": "1.5.0",
      "_model_name": "DescriptionStyleModel",
      "_view_count": null,
      "_view_module": "@jupyter-widgets/base",
      "_view_module_version": "1.2.0",
      "_view_name": "StyleView",
      "description_width": ""
     }
    }
   }
  }
 },
 "nbformat": 4,
 "nbformat_minor": 1
}
