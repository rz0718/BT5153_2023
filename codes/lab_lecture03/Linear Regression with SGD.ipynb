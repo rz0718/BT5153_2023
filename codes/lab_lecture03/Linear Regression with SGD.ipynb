{
 "cells": [
  {
   "cell_type": "markdown",
   "metadata": {
    "colab_type": "text",
    "id": "nmOt83_4ln4f"
   },
   "source": [
    "## Linear Regression with Stochastic Gradient Descent \n",
    "\n",
    "Implement linear regression methods from stracth using Numpy. This notebook would like to bridge linear regression model to neural network. In the lecture, we mentioned three key steps in neural network: neural network structures, loss function and optimization. Therefore, we will approach linear regression as neural network in the following. It will be optimized using gradient descent algorithm that gradient derivations are provided. "
   ]
  },
  {
   "cell_type": "markdown",
   "metadata": {
    "colab_type": "text",
    "id": "EFp-W1Elln4i"
   },
   "source": [
    "## Agenda\n",
    "\n",
    "1. Generating a toy dataset\n",
    "2. Neural Network Structures\n",
    "3. Loss Function\n",
    "4. Optimization\n",
    "5. Summary"
   ]
  },
  {
   "cell_type": "markdown",
   "metadata": {
    "colab_type": "text",
    "id": "6xorGoFPln4s"
   },
   "source": [
    "Single-Variable Linear Regression can be formulated as a very simple network: a one-input one-output model. The model can predict the target value y from the input value x.  "
   ]
  },
  {
   "cell_type": "markdown",
   "metadata": {
    "colab_type": "text",
    "id": "tw325rfCln4v"
   },
   "source": [
    "## Part 1: Generating a toy dataset\n",
    "\n",
    "In this example, the targets  will be generated from a function  and additive Gaussian noise sampled from , where  is the normal distribution with mean 0 and variance 0.2.  is defined as , with  the input samples, slope  and intercept .  is .\n",
    "\n",
    "We will sample 20 input samples  from the uniform distribution between 0 and 1, and then generate the target output values  by the process described above. These resulting inputs  and targets  are plotted against each other in the figure below together with the original  line without the gaussian noise. Note that  is a vector of individual input samples \n",
    ", and that  is a corresponding vector of target values \n",
    "."
   ]
  },
  {
   "cell_type": "code",
   "execution_count": 1,
   "metadata": {
    "colab": {},
    "colab_type": "code",
    "id": "EsX_GvVGln4x"
   },
   "outputs": [],
   "source": [
    "%matplotlib inline\n",
    "\n",
    "import numpy as np \n",
    "import matplotlib\n",
    "import matplotlib.pyplot as plt  # Plotting library\n",
    "import seaborn as sns \n",
    "\n",
    "np.random.seed(seed=888)"
   ]
  },
  {
   "cell_type": "code",
   "execution_count": 10,
   "metadata": {},
   "outputs": [],
   "source": [
    "# Define the vector of input samples as x, with 20 values \n",
    "# sampled from a uniform distribution between 0 and 1\n",
    "x = np.random.uniform(0, 1, 20)\n",
    "\n",
    "# Generate the target values t from x with small gaussian noise \n",
    "# so the estimation won't be perfect.\n",
    "# Define a function f that represents the line that generates t \n",
    "# without noise.\n",
    "f = lambda x: x * 2.5\n",
    "\n",
    "# Create the targets t with some gaussian noise\n",
    "noise_variance = 0.2  # Variance of the gaussian noise\n",
    "# Gaussian noise error for each sample in x\n",
    "noise = np.random.randn(x.shape[0]) * noise_variance\n",
    "# Create targets t\n",
    "t = f(x) + noise"
   ]
  },
  {
   "cell_type": "code",
   "execution_count": 11,
   "metadata": {},
   "outputs": [
    {
     "data": {
      "image/png": "[encoded data removed]",
      "text/plain": [
       "<Figure size 500x300 with 1 Axes>"
      ]
     },
     "metadata": {},
     "output_type": "display_data"
    }
   ],
   "source": [
    "# Plot the target t versus the input x\n",
    "plt.figure(figsize=(5, 3))\n",
    "plt.plot(x, t, 'o', label='$y$')\n",
    "# Plot the initial line\n",
    "plt.plot([0, 1], [f(0), f(1)], 'b--', label='$f(x)$')\n",
    "plt.xlabel('$x$', fontsize=12)\n",
    "plt.ylabel('$y$', fontsize=12)\n",
    "plt.axis((0, 1, 0, 2))\n",
    "plt.title('inputs (x) vs targets (y)')\n",
    "plt.legend(loc=2)\n",
    "plt.show()\n",
    "#"
   ]
  },
  {
   "cell_type": "markdown",
   "metadata": {},
   "source": [
    "## Part 2: Neural network structure\n",
    "\n",
    "The network is trying to learn the mapping from input x to target y. The transformation here would be the input $x$ multiply the wegiht $w$ to generate the predicted output $\\hat{y}$. The predicted  $\\hat{y}$ should be as close as possible to the ground-truth $y$. Here, for simplicity, we ignore the bias term. The simple linear regression can be represented graphically:\n",
    "\n",
    "\n",
    "<img src=\"../notebook_imgs/graph_linearregression.jpg\" width=\"40%\">"
   ]
  },
  {
   "cell_type": "code",
   "execution_count": 12,
   "metadata": {
    "colab": {},
    "colab_type": "code",
    "id": "rCcLz_8Wln47"
   },
   "outputs": [],
   "source": [
    "def nn(x, w):\n",
    "    \"\"\"Output function predicted y = x * w\"\"\"\n",
    "    return x * w"
   ]
  },
  {
   "cell_type": "markdown",
   "metadata": {},
   "source": [
    "The above model/structure represents the infinite function space which is parameterized by $w$. We need to find the best model. Or we can ask: how can we evaluate each model in that infinite function space. To answer that, we need to evaluate each function, i.e., loss function, over all samples. "
   ]
  },
  {
   "cell_type": "markdown",
   "metadata": {},
   "source": [
    "## Part 3: Loss function\n",
    "\n",
    "We will optimize the model by tuning parameter $w$ so that the mean squared error (MSE) along all samples is minimized.\n",
    "\n",
    "For regression problem, we usually use the mean squared error defined as $\\frac{1}{N}\\sum_{i=1}^{N}||y_i-\\hat{y}_i||^2$ where N is the number of samples in the training set. Therefore, the optimization goal is: \n",
    "\n",
    "$argmin_w\\frac{1}{N}\\sum_{i=1}^{N}||y_i-\\hat{y}_i||^2$ . "
   ]
  },
  {
   "cell_type": "code",
   "execution_count": 13,
   "metadata": {},
   "outputs": [],
   "source": [
    "def loss(y_bar, y):\n",
    "    \"\"\"MSE loss function\"\"\"\n",
    "    return np.mean((y_bar - y)**2)"
   ]
  },
  {
   "cell_type": "markdown",
   "metadata": {},
   "source": [
    "we can also show the loss curve as below. The loss curve show the loss values under different parameters. A shown below, the value $w=2.5$ is at the bottom. And the value is the same slope that we choose for $f(x)$. \n",
    "\n",
    "This function here is convex so that there is the global optimal point. \n"
   ]
  },
  {
   "cell_type": "code",
   "execution_count": null,
   "metadata": {},
   "outputs": [],
   "source": [
    "# Plot the loss vs the given weight w\n",
    "\n",
    "# Vector of weights for which we want to plot the loss\n",
    "ws = np.linspace(0, 5, num=100)  # weight values\n",
    "# loss for each weight in ws\n",
    "loss_ws = np.vectorize(lambda w: loss(nn(x, w) , t))(ws)\n",
    "\n",
    "# Plot\n",
    "plt.figure(figsize=(5, 3))\n",
    "plt.plot(ws, loss_ws, 'r--', label='loss')\n",
    "plt.xlabel('$w$', fontsize=12)\n",
    "plt.ylabel('$\\\\xi$', fontsize=12)\n",
    "plt.title('loss function with respect to $w$')\n",
    "plt.xlim(0, 5)\n",
    "plt.legend()\n",
    "plt.show()\n",
    "#"
   ]
  },
  {
   "cell_type": "markdown",
   "metadata": {},
   "source": [
    "## Part 4: Optimization\n",
    "\n",
    "For a simple loss function like in this example, you can see easily what the optimal weight should be. However, in practice the error surface can be quite complex with many hills and valleys, or have a high dimensionality (each parameter adds a new dimension). This is why we use [optimization techniques](https://en.wikipedia.org/wiki/Mathematical_optimization) like gradient descent to find the minimum of the error function.\n",
    "\n",
    "### Gradient descent\n",
    "\n",
    "One optimization algorithm commonly used to train neural networks is the [gradient descent](http://en.wikipedia.org/wiki/Gradient_descent) algorithm. The gradient descent algorithm works by taking the [gradient](http://en.wikipedia.org/wiki/Gradient) ([derivative](http://en.wikipedia.org/wiki/Derivative)) of the loss function $\\xi$ with respect to the parameters at a specific position on this loss function, and updates the parameters in the direction of the negative gradient (down along the loss function).\n",
    "The parameter $w$ is iteratively updated by taking steps proportional to the negative of the gradient:\n",
    "$$\n",
    "w(k+1) = w(k) - \\Delta w(k)\n",
    "$$\n",
    "\n",
    "With $w(k)$ the value of $w$ at iteration $k$ during the gradient descent.  \n",
    "$\\Delta w$ is defined as:\n",
    "$$\n",
    "\\Delta w = \\mu \\frac{\\partial \\xi}{\\partial w}\n",
    "$$\n",
    "\n",
    "With $\\mu$ the learning rate, which is how big of a step you take along the gradient, and ${\\partial \\xi}/{\\partial w}$ the gradient of the loss function $\\xi$ with respect to the weight $w$. For each sample $i$ this gradient can be splitted according to the [chain rule](http://en.wikipedia.org/wiki/Chain_rule) into:\n",
    "\n",
    "$$\n",
    "\\frac{\\partial \\xi_i}{\\partial w} = \\frac{\\partial \\xi_i}{\\partial y_i} \\frac{\\partial y_i}{\\partial w}\n",
    "$$\n",
    "\n",
    "Where $\\xi_i$ is the squared error loss, so the ${\\partial \\xi_i}/{\\partial y_i}$ term can be written as:\n",
    "\n",
    "$$\n",
    "\\frac{\\partial \\xi_i}{\\partial y_i} = \\frac{\\partial (t_i - y_i)^2}{\\partial y_i} = - 2 (t_i - y_i) = 2 (y_i - t_i)\n",
    "$$\n",
    "\n",
    "And since $y_i = x_i \\cdot w$ we can write ${\\partial y_i}/{\\partial w}$ as:\n",
    "\n",
    "$$\n",
    "\\frac{\\partial y_i}{\\partial w} = \\frac{\\partial (x_i \\cdot w)}{\\partial w} = x_i\n",
    "$$\n",
    "\n",
    "So the full update function $\\Delta w$ for sample $i$ will become:\n",
    "\n",
    "$$\n",
    "\\Delta w = \\mu \\cdot \\frac{\\partial \\xi_i}{\\partial w} = \\mu \\cdot 2 x_i (y_i - t_i)\n",
    "$$\n",
    "\n",
    "In the batch processing, we just add up all the gradients for each sample:\n",
    "\n",
    "$$\n",
    "\\Delta w = \\mu * 2 * \\frac{1}{N} \\sum_{i=1}^{N} x_i (y_i - t_i)\n",
    "$$\n",
    "\n",
    "The gradient descent algorithm is typically initialised by starting with random initial parameters. After initiating these parameters we can start updating these parameters with $\\Delta w$ until convergence. The learning rate needs to be tuned separately as a hyperparameter for each neural network.\n",
    "\n",
    "The gradient ${\\partial \\xi}/{\\partial w}$ is implemented by the `gradient(w, x, t)` function. $\\Delta w$ is computed by the `delta_w(w_k, x, t, learning_rate)`. The loop below performs 4 iterations of gradient descent while printing out the parameter value and current loss.\n"
   ]
  },
  {
   "cell_type": "code",
   "execution_count": 17,
   "metadata": {},
   "outputs": [
    {
     "name": "stdout",
     "output_type": "stream",
     "text": [
      "w(0): 0.8663 \t loss: 0.9100\n",
      "w(1): 1.8585 \t loss: 0.1600\n",
      "w(2): 2.2269 \t loss: 0.0566\n",
      "w(3): 2.3636 \t loss: 0.0424\n",
      "w(4): 2.4143 \t loss: 0.0404\n"
     ]
    }
   ],
   "source": [
    "def gradient(w, x, t):\n",
    "    \"\"\"Gradient function. (Remember that y = nn(x, w) = x * w)\"\"\"\n",
    "    return 2 * x * (nn(x, w) - t)\n",
    "\n",
    "\n",
    "def delta_w(w_k, x, t, learning_rate):\n",
    "    \"\"\"Update function delta w\"\"\"\n",
    "    return learning_rate * np.mean(gradient(w_k, x, t))\n",
    "\n",
    "\n",
    "# Initial weight parameter\n",
    "w = np.random.rand()\n",
    "# Set the learning rate\n",
    "learning_rate = 0.9\n",
    "\n",
    "# Perform the gradient descent updates, and print the weights and loss:\n",
    "nb_of_iterations = 4  # number of gradient descent updates\n",
    "w_loss = [(w, loss(nn(x, w), t))] # Keep track of weight and loss values\n",
    "for i in range(nb_of_iterations):\n",
    "    dw = delta_w(w, x, t, learning_rate)  # Delta w update\n",
    "    w = w - dw  # Update the current weight parameter\n",
    "    w_loss.append((w, loss(nn(x, w), t)))  # Save weight and loss\n",
    "\n",
    "# Print the final w, and loss\n",
    "for i in range(0, len(w_loss)):\n",
    "    print(f'w({i}): {w_loss[i][0]:.4f} \\t loss: {w_loss[i][1]:.4f}')"
   ]
  },
  {
   "cell_type": "code",
   "execution_count": 18,
   "metadata": {},
   "outputs": [
    {
     "data": {
      "image/png": "[encoded data removed]",
      "text/plain": [
       "<Figure size 600x400 with 1 Axes>"
      ]
     },
     "metadata": {},
     "output_type": "display_data"
    }
   ],
   "source": [
    "# Visualise the gradient descent updates\n",
    "plt.figure(figsize=(6, 4))\n",
    "plt.plot(ws, loss_ws, 'r--', label='loss')  # Loss curve\n",
    "# Plot the updates\n",
    "for i in range(0, len(w_loss)-1):\n",
    "    w1, c1 = w_loss[i]\n",
    "    w2, c2 = w_loss[i+1]\n",
    "    plt.plot(w1, c1, 'bo')\n",
    "    plt.plot([w1, w2],[c1, c2], 'b-')\n",
    "    plt.text(w1, c1+0.05, f'${i}$')\n",
    "plt.plot(w2, c2, 'bo', label='$w(k)$')\n",
    "plt.text(w2, c2+0.05, f'${i+1}$')\n",
    "# Show figure\n",
    "plt.xlabel('$w$', fontsize=12)\n",
    "plt.ylabel('$\\\\xi$', fontsize=12)\n",
    "plt.title('Gradient descent updates plotted on loss function')\n",
    "plt.xlim(0, 4)\n",
    "plt.legend(loc=1)\n",
    "plt.show()\n",
    "#"
   ]
  },
  {
   "cell_type": "markdown",
   "metadata": {},
   "source": [
    "## Part 5: Summary\n",
    "\n",
    "We can see how single variable linear regression can be approached as neural network. "
   ]
  }
 ],
 "metadata": {
  "colab": {
   "name": "09 Introduction to Keras.ipynb",
   "provenance": [],
   "version": "0.3.2"
  },
  "kernelspec": {
   "display_name": "Python 3 (ipykernel)",
   "language": "python",
   "name": "python3"
  },
  "language_info": {
   "codemirror_mode": {
    "name": "ipython",
    "version": 3
   },
   "file_extension": ".py",
   "mimetype": "text/x-python",
   "name": "python",
   "nbconvert_exporter": "python",
   "pygments_lexer": "ipython3",
   "version": "3.9.15"
  }
 },
 "nbformat": 4,
 "nbformat_minor": 1
}
