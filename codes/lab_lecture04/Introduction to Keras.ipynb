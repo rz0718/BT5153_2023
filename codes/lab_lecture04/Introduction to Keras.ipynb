{
 "cells": [
  {
   "cell_type": "markdown",
   "metadata": {
    "colab_type": "text",
    "id": "nmOt83_4ln4f"
   },
   "source": [
    "<img src=\"../notebook_imgs/keras-logo-small.jpg\" width=\"20%\" />\n",
    "\n",
    "## Keras: The Python Deep Learning library"
   ]
  },
  {
   "cell_type": "markdown",
   "metadata": {
    "colab_type": "text",
    "id": "EFp-W1Elln4i"
   },
   "source": [
    "## Agenda\n",
    "\n",
    "1. Load the Fashion-MNIST database of fashion articles\n",
    "2. Neural Network in Keras\n",
    "3. Sequential API in Keras\n",
    "4. Functional API in Keras\n",
    "5. Compile and use the model\n",
    "6. Model Save and Load\n",
    "7. Summary"
   ]
  },
  {
   "cell_type": "markdown",
   "metadata": {
    "colab_type": "text",
    "id": "6xorGoFPln4s"
   },
   "source": [
    "* Keras is a minimalist, highly modular neural networks library, written in Python and capable of running on top of either TensorFlow, CNTK or Theano. \n",
    "\n",
    "* It was developed with a focus on enabling fast experimentation. Being able to go from idea to result with the least possible delay is key to doing good research.\n",
    "ref: https://keras.io/\n",
    "\n",
    "* Tensorflow is a deep learning lib for numerical computation and machine intelligence. As a open source resource, data flow graphs are adopted for numerical computation. Mathematical operations are represented by nodes and tensors are represented by graph edges. It is sometimes extremely technical.\n",
    "\n",
    "* In contrast, Kera makes deep neural network coding simple. It also runs seamlessly on CPU and GPU machines."
   ]
  },
  {
   "cell_type": "markdown",
   "metadata": {},
   "source": [
    "Sklearn and Keras "
   ]
  },
  {
   "cell_type": "markdown",
   "metadata": {},
   "source": [
    "* Pipeline for SKlearn\n",
    "\n",
    "<img src=\"../notebook_imgs/sklearn_pipeline.png\" width=\"40%\">"
   ]
  },
  {
   "cell_type": "markdown",
   "metadata": {},
   "source": [
    "* Pipeline for Keras\n",
    "\n",
    "<img src=\"../notebook_imgs/k_pipeline.png\" width=\"40%\">"
   ]
  },
  {
   "cell_type": "markdown",
   "metadata": {
    "colab_type": "text",
    "id": "tw325rfCln4v"
   },
   "source": [
    "## Part 1: Load the data from Keras\n",
    "\n",
    "- The data format in Keras is Numpy Array.\n",
    "- For deep learning, the input data is tensor.\n",
    "\n",
    "   1. ```2D tensor```: data table  \n",
    "   2. ```3D tensor```: sequence data , images data black/white\n",
    "   3. ```4D tensor```: images data RGB values\n",
    "   4. ```5D tensor```: videos data"
   ]
  },
  {
   "cell_type": "code",
   "execution_count": 1,
   "metadata": {
    "colab": {},
    "colab_type": "code",
    "id": "EsX_GvVGln4x"
   },
   "outputs": [],
   "source": [
    "import pandas as pd\n",
    "import numpy as np\n",
    "from tensorflow import keras"
   ]
  },
  {
   "cell_type": "code",
   "execution_count": 2,
   "metadata": {},
   "outputs": [],
   "source": [
    "# load the Fashion-MNIST database of fashion articles\n",
    "data = keras.datasets.fashion_mnist"
   ]
  },
  {
   "cell_type": "code",
   "execution_count": 3,
   "metadata": {
    "colab": {},
    "colab_type": "code",
    "id": "rCcLz_8Wln47"
   },
   "outputs": [
    {
     "name": "stdout",
     "output_type": "stream",
     "text": [
      "(60000, 28, 28)\n",
      "(10000, 28, 28)\n",
      "(60000,)\n",
      "(10000,)\n"
     ]
    }
   ],
   "source": [
    "(x_train, y_train),(x_test, y_test) = data.load_data()\n",
    "x_train, x_test = x_train / 255.0, x_test / 255.0\n",
    "\n",
    "print( x_train.shape )\n",
    "print( x_test.shape )\n",
    "print( y_train.shape )\n",
    "print( y_test.shape )"
   ]
  },
  {
   "cell_type": "code",
   "execution_count": 4,
   "metadata": {},
   "outputs": [
    {
     "data": {
      "text/plain": [
       "'Ankle boot'"
      ]
     },
     "execution_count": 4,
     "metadata": {},
     "output_type": "execute_result"
    }
   ],
   "source": [
    "# the known class mapping\n",
    "class_names = [ \"T-shirt/top\", \"Trouser\", \"Pullover\", \n",
    "                \"Dress\", \"Coat\", \"Sandal\", \"Shirt\",\n",
    "                \"Sneaker\", \"Bag\", \"Ankle boot\" ]\n",
    "\n",
    "class_names[y_train[0]]"
   ]
  },
  {
   "cell_type": "code",
   "execution_count": 5,
   "metadata": {},
   "outputs": [
    {
     "data": {
      "text/plain": [
       "9"
      ]
     },
     "execution_count": 5,
     "metadata": {},
     "output_type": "execute_result"
    }
   ],
   "source": [
    "y_train[0]"
   ]
  },
  {
   "cell_type": "code",
   "execution_count": 8,
   "metadata": {},
   "outputs": [],
   "source": [
    "from tensorflow.keras.utils import to_categorical\n",
    "y_train = to_categorical(y_train)\n",
    "y_test  = to_categorical(y_test)"
   ]
  },
  {
   "cell_type": "code",
   "execution_count": 9,
   "metadata": {},
   "outputs": [
    {
     "data": {
      "text/plain": [
       "array([[0., 0., 0., ..., 0., 0., 1.],\n",
       "       [1., 0., 0., ..., 0., 0., 0.],\n",
       "       [1., 0., 0., ..., 0., 0., 0.],\n",
       "       ...,\n",
       "       [0., 0., 0., ..., 0., 0., 0.],\n",
       "       [1., 0., 0., ..., 0., 0., 0.],\n",
       "       [0., 0., 0., ..., 0., 0., 0.]], dtype=float32)"
      ]
     },
     "execution_count": 9,
     "metadata": {},
     "output_type": "execute_result"
    }
   ],
   "source": [
    "y_train"
   ]
  },
  {
   "cell_type": "code",
   "execution_count": 10,
   "metadata": {},
   "outputs": [
    {
     "data": {
      "text/plain": [
       "array([[0.        , 0.        , 0.        , 0.        , 0.        ,\n",
       "        0.        , 0.        , 0.        , 0.        , 0.        ,\n",
       "        0.        , 0.        , 0.        , 0.        , 0.        ,\n",
       "        0.        , 0.        , 0.        , 0.        , 0.        ,\n",
       "        0.        , 0.        , 0.        , 0.        , 0.        ,\n",
       "        0.        , 0.        , 0.        ],\n",
       "       [0.        , 0.        , 0.        , 0.        , 0.        ,\n",
       "        0.        , 0.        , 0.        , 0.        , 0.        ,\n",
       "        0.        , 0.        , 0.        , 0.        , 0.        ,\n",
       "        0.        , 0.        , 0.        , 0.        , 0.        ,\n",
       "        0.        , 0.        , 0.        , 0.        , 0.        ,\n",
       "        0.        , 0.        , 0.        ],\n",
       "       [0.        , 0.        , 0.        , 0.        , 0.        ,\n",
       "        0.        , 0.        , 0.        , 0.        , 0.        ,\n",
       "        0.        , 0.        , 0.        , 0.        , 0.        ,\n",
       "        0.        , 0.        , 0.        , 0.        , 0.        ,\n",
       "        0.        , 0.        , 0.        , 0.        , 0.        ,\n",
       "        0.        , 0.        , 0.        ],\n",
       "       [0.        , 0.        , 0.        , 0.        , 0.        ,\n",
       "        0.        , 0.        , 0.        , 0.        , 0.        ,\n",
       "        0.        , 0.        , 0.00392157, 0.        , 0.        ,\n",
       "        0.05098039, 0.28627451, 0.        , 0.        , 0.00392157,\n",
       "        0.01568627, 0.        , 0.        , 0.        , 0.        ,\n",
       "        0.00392157, 0.00392157, 0.        ],\n",
       "       [0.        , 0.        , 0.        , 0.        , 0.        ,\n",
       "        0.        , 0.        , 0.        , 0.        , 0.        ,\n",
       "        0.        , 0.        , 0.01176471, 0.        , 0.14117647,\n",
       "        0.53333333, 0.49803922, 0.24313725, 0.21176471, 0.        ,\n",
       "        0.        , 0.        , 0.00392157, 0.01176471, 0.01568627,\n",
       "        0.        , 0.        , 0.01176471],\n",
       "       [0.        , 0.        , 0.        , 0.        , 0.        ,\n",
       "        0.        , 0.        , 0.        , 0.        , 0.        ,\n",
       "        0.        , 0.        , 0.02352941, 0.        , 0.4       ,\n",
       "        0.8       , 0.69019608, 0.5254902 , 0.56470588, 0.48235294,\n",
       "        0.09019608, 0.        , 0.        , 0.        , 0.        ,\n",
       "        0.04705882, 0.03921569, 0.        ],\n",
       "       [0.        , 0.        , 0.        , 0.        , 0.        ,\n",
       "        0.        , 0.        , 0.        , 0.        , 0.        ,\n",
       "        0.        , 0.        , 0.        , 0.        , 0.60784314,\n",
       "        0.9254902 , 0.81176471, 0.69803922, 0.41960784, 0.61176471,\n",
       "        0.63137255, 0.42745098, 0.25098039, 0.09019608, 0.30196078,\n",
       "        0.50980392, 0.28235294, 0.05882353],\n",
       "       [0.        , 0.        , 0.        , 0.        , 0.        ,\n",
       "        0.        , 0.        , 0.        , 0.        , 0.        ,\n",
       "        0.        , 0.00392157, 0.        , 0.27058824, 0.81176471,\n",
       "        0.8745098 , 0.85490196, 0.84705882, 0.84705882, 0.63921569,\n",
       "        0.49803922, 0.4745098 , 0.47843137, 0.57254902, 0.55294118,\n",
       "        0.34509804, 0.6745098 , 0.25882353],\n",
       "       [0.        , 0.        , 0.        , 0.        , 0.        ,\n",
       "        0.        , 0.        , 0.        , 0.        , 0.00392157,\n",
       "        0.00392157, 0.00392157, 0.        , 0.78431373, 0.90980392,\n",
       "        0.90980392, 0.91372549, 0.89803922, 0.8745098 , 0.8745098 ,\n",
       "        0.84313725, 0.83529412, 0.64313725, 0.49803922, 0.48235294,\n",
       "        0.76862745, 0.89803922, 0.        ],\n",
       "       [0.        , 0.        , 0.        , 0.        , 0.        ,\n",
       "        0.        , 0.        , 0.        , 0.        , 0.        ,\n",
       "        0.        , 0.        , 0.        , 0.71764706, 0.88235294,\n",
       "        0.84705882, 0.8745098 , 0.89411765, 0.92156863, 0.89019608,\n",
       "        0.87843137, 0.87058824, 0.87843137, 0.86666667, 0.8745098 ,\n",
       "        0.96078431, 0.67843137, 0.        ],\n",
       "       [0.        , 0.        , 0.        , 0.        , 0.        ,\n",
       "        0.        , 0.        , 0.        , 0.        , 0.        ,\n",
       "        0.        , 0.        , 0.        , 0.75686275, 0.89411765,\n",
       "        0.85490196, 0.83529412, 0.77647059, 0.70588235, 0.83137255,\n",
       "        0.82352941, 0.82745098, 0.83529412, 0.8745098 , 0.8627451 ,\n",
       "        0.95294118, 0.79215686, 0.        ],\n",
       "       [0.        , 0.        , 0.        , 0.        , 0.        ,\n",
       "        0.        , 0.        , 0.        , 0.        , 0.00392157,\n",
       "        0.01176471, 0.        , 0.04705882, 0.85882353, 0.8627451 ,\n",
       "        0.83137255, 0.85490196, 0.75294118, 0.6627451 , 0.89019608,\n",
       "        0.81568627, 0.85490196, 0.87843137, 0.83137255, 0.88627451,\n",
       "        0.77254902, 0.81960784, 0.20392157],\n",
       "       [0.        , 0.        , 0.        , 0.        , 0.        ,\n",
       "        0.        , 0.        , 0.        , 0.        , 0.        ,\n",
       "        0.02352941, 0.        , 0.38823529, 0.95686275, 0.87058824,\n",
       "        0.8627451 , 0.85490196, 0.79607843, 0.77647059, 0.86666667,\n",
       "        0.84313725, 0.83529412, 0.87058824, 0.8627451 , 0.96078431,\n",
       "        0.46666667, 0.65490196, 0.21960784],\n",
       "       [0.        , 0.        , 0.        , 0.        , 0.        ,\n",
       "        0.        , 0.        , 0.        , 0.        , 0.01568627,\n",
       "        0.        , 0.        , 0.21568627, 0.9254902 , 0.89411765,\n",
       "        0.90196078, 0.89411765, 0.94117647, 0.90980392, 0.83529412,\n",
       "        0.85490196, 0.8745098 , 0.91764706, 0.85098039, 0.85098039,\n",
       "        0.81960784, 0.36078431, 0.        ],\n",
       "       [0.        , 0.        , 0.00392157, 0.01568627, 0.02352941,\n",
       "        0.02745098, 0.00784314, 0.        , 0.        , 0.        ,\n",
       "        0.        , 0.        , 0.92941176, 0.88627451, 0.85098039,\n",
       "        0.8745098 , 0.87058824, 0.85882353, 0.87058824, 0.86666667,\n",
       "        0.84705882, 0.8745098 , 0.89803922, 0.84313725, 0.85490196,\n",
       "        1.        , 0.30196078, 0.        ],\n",
       "       [0.        , 0.01176471, 0.        , 0.        , 0.        ,\n",
       "        0.        , 0.        , 0.        , 0.        , 0.24313725,\n",
       "        0.56862745, 0.8       , 0.89411765, 0.81176471, 0.83529412,\n",
       "        0.86666667, 0.85490196, 0.81568627, 0.82745098, 0.85490196,\n",
       "        0.87843137, 0.8745098 , 0.85882353, 0.84313725, 0.87843137,\n",
       "        0.95686275, 0.62352941, 0.        ],\n",
       "       [0.        , 0.        , 0.        , 0.        , 0.07058824,\n",
       "        0.17254902, 0.32156863, 0.41960784, 0.74117647, 0.89411765,\n",
       "        0.8627451 , 0.87058824, 0.85098039, 0.88627451, 0.78431373,\n",
       "        0.80392157, 0.82745098, 0.90196078, 0.87843137, 0.91764706,\n",
       "        0.69019608, 0.7372549 , 0.98039216, 0.97254902, 0.91372549,\n",
       "        0.93333333, 0.84313725, 0.        ],\n",
       "       [0.        , 0.22352941, 0.73333333, 0.81568627, 0.87843137,\n",
       "        0.86666667, 0.87843137, 0.81568627, 0.8       , 0.83921569,\n",
       "        0.81568627, 0.81960784, 0.78431373, 0.62352941, 0.96078431,\n",
       "        0.75686275, 0.80784314, 0.8745098 , 1.        , 1.        ,\n",
       "        0.86666667, 0.91764706, 0.86666667, 0.82745098, 0.8627451 ,\n",
       "        0.90980392, 0.96470588, 0.        ],\n",
       "       [0.01176471, 0.79215686, 0.89411765, 0.87843137, 0.86666667,\n",
       "        0.82745098, 0.82745098, 0.83921569, 0.80392157, 0.80392157,\n",
       "        0.80392157, 0.8627451 , 0.94117647, 0.31372549, 0.58823529,\n",
       "        1.        , 0.89803922, 0.86666667, 0.7372549 , 0.60392157,\n",
       "        0.74901961, 0.82352941, 0.8       , 0.81960784, 0.87058824,\n",
       "        0.89411765, 0.88235294, 0.        ],\n",
       "       [0.38431373, 0.91372549, 0.77647059, 0.82352941, 0.87058824,\n",
       "        0.89803922, 0.89803922, 0.91764706, 0.97647059, 0.8627451 ,\n",
       "        0.76078431, 0.84313725, 0.85098039, 0.94509804, 0.25490196,\n",
       "        0.28627451, 0.41568627, 0.45882353, 0.65882353, 0.85882353,\n",
       "        0.86666667, 0.84313725, 0.85098039, 0.8745098 , 0.8745098 ,\n",
       "        0.87843137, 0.89803922, 0.11372549],\n",
       "       [0.29411765, 0.8       , 0.83137255, 0.8       , 0.75686275,\n",
       "        0.80392157, 0.82745098, 0.88235294, 0.84705882, 0.7254902 ,\n",
       "        0.77254902, 0.80784314, 0.77647059, 0.83529412, 0.94117647,\n",
       "        0.76470588, 0.89019608, 0.96078431, 0.9372549 , 0.8745098 ,\n",
       "        0.85490196, 0.83137255, 0.81960784, 0.87058824, 0.8627451 ,\n",
       "        0.86666667, 0.90196078, 0.2627451 ],\n",
       "       [0.18823529, 0.79607843, 0.71764706, 0.76078431, 0.83529412,\n",
       "        0.77254902, 0.7254902 , 0.74509804, 0.76078431, 0.75294118,\n",
       "        0.79215686, 0.83921569, 0.85882353, 0.86666667, 0.8627451 ,\n",
       "        0.9254902 , 0.88235294, 0.84705882, 0.78039216, 0.80784314,\n",
       "        0.72941176, 0.70980392, 0.69411765, 0.6745098 , 0.70980392,\n",
       "        0.80392157, 0.80784314, 0.45098039],\n",
       "       [0.        , 0.47843137, 0.85882353, 0.75686275, 0.70196078,\n",
       "        0.67058824, 0.71764706, 0.76862745, 0.8       , 0.82352941,\n",
       "        0.83529412, 0.81176471, 0.82745098, 0.82352941, 0.78431373,\n",
       "        0.76862745, 0.76078431, 0.74901961, 0.76470588, 0.74901961,\n",
       "        0.77647059, 0.75294118, 0.69019608, 0.61176471, 0.65490196,\n",
       "        0.69411765, 0.82352941, 0.36078431],\n",
       "       [0.        , 0.        , 0.29019608, 0.74117647, 0.83137255,\n",
       "        0.74901961, 0.68627451, 0.6745098 , 0.68627451, 0.70980392,\n",
       "        0.7254902 , 0.7372549 , 0.74117647, 0.7372549 , 0.75686275,\n",
       "        0.77647059, 0.8       , 0.81960784, 0.82352941, 0.82352941,\n",
       "        0.82745098, 0.7372549 , 0.7372549 , 0.76078431, 0.75294118,\n",
       "        0.84705882, 0.66666667, 0.        ],\n",
       "       [0.00784314, 0.        , 0.        , 0.        , 0.25882353,\n",
       "        0.78431373, 0.87058824, 0.92941176, 0.9372549 , 0.94901961,\n",
       "        0.96470588, 0.95294118, 0.95686275, 0.86666667, 0.8627451 ,\n",
       "        0.75686275, 0.74901961, 0.70196078, 0.71372549, 0.71372549,\n",
       "        0.70980392, 0.69019608, 0.65098039, 0.65882353, 0.38823529,\n",
       "        0.22745098, 0.        , 0.        ],\n",
       "       [0.        , 0.        , 0.        , 0.        , 0.        ,\n",
       "        0.        , 0.        , 0.15686275, 0.23921569, 0.17254902,\n",
       "        0.28235294, 0.16078431, 0.1372549 , 0.        , 0.        ,\n",
       "        0.        , 0.        , 0.        , 0.        , 0.        ,\n",
       "        0.        , 0.        , 0.        , 0.        , 0.        ,\n",
       "        0.        , 0.        , 0.        ],\n",
       "       [0.        , 0.        , 0.        , 0.        , 0.        ,\n",
       "        0.        , 0.        , 0.        , 0.        , 0.        ,\n",
       "        0.        , 0.        , 0.        , 0.        , 0.        ,\n",
       "        0.        , 0.        , 0.        , 0.        , 0.        ,\n",
       "        0.        , 0.        , 0.        , 0.        , 0.        ,\n",
       "        0.        , 0.        , 0.        ],\n",
       "       [0.        , 0.        , 0.        , 0.        , 0.        ,\n",
       "        0.        , 0.        , 0.        , 0.        , 0.        ,\n",
       "        0.        , 0.        , 0.        , 0.        , 0.        ,\n",
       "        0.        , 0.        , 0.        , 0.        , 0.        ,\n",
       "        0.        , 0.        , 0.        , 0.        , 0.        ,\n",
       "        0.        , 0.        , 0.        ]])"
      ]
     },
     "execution_count": 10,
     "metadata": {},
     "output_type": "execute_result"
    }
   ],
   "source": [
    "x_train[0]"
   ]
  },
  {
   "cell_type": "code",
   "execution_count": 11,
   "metadata": {},
   "outputs": [
    {
     "data": {
      "text/plain": [
       "<matplotlib.image.AxesImage at 0x17b6bac70>"
      ]
     },
     "execution_count": 11,
     "metadata": {},
     "output_type": "execute_result"
    },
    {
     "data": {
      "image/png": "[encoded data removed]",
      "text/plain": [
       "<Figure size 640x480 with 1 Axes>"
      ]
     },
     "metadata": {},
     "output_type": "display_data"
    }
   ],
   "source": [
    "import matplotlib.pyplot as plt\n",
    "%matplotlib inline\n",
    "plt.imshow(x_train[0])"
   ]
  },
  {
   "cell_type": "code",
   "execution_count": 12,
   "metadata": {},
   "outputs": [
    {
     "data": {
      "text/plain": [
       "<matplotlib.image.AxesImage at 0x17b7bfe20>"
      ]
     },
     "execution_count": 12,
     "metadata": {},
     "output_type": "execute_result"
    },
    {
     "data": {
      "image/png": "[encoded data removed]",
      "text/plain": [
       "<Figure size 640x480 with 1 Axes>"
      ]
     },
     "metadata": {},
     "output_type": "display_data"
    }
   ],
   "source": [
    "plt.imshow(x_train[1])"
   ]
  },
  {
   "cell_type": "code",
   "execution_count": 13,
   "metadata": {},
   "outputs": [
    {
     "data": {
      "text/plain": [
       "<matplotlib.image.AxesImage at 0x17c037eb0>"
      ]
     },
     "execution_count": 13,
     "metadata": {},
     "output_type": "execute_result"
    },
    {
     "data": {
      "image/png": "[encoded data removed]",
      "text/plain": [
       "<Figure size 640x480 with 1 Axes>"
      ]
     },
     "metadata": {},
     "output_type": "display_data"
    }
   ],
   "source": [
    "plt.imshow(x_train[-1])"
   ]
  },
  {
   "cell_type": "markdown",
   "metadata": {
    "colab": {},
    "colab_type": "code",
    "id": "m6kPcz2dln5B"
   },
   "source": [
    "## Part 2: Neural Network in Keras"
   ]
  },
  {
   "cell_type": "markdown",
   "metadata": {},
   "source": [
    "In keras, four components are required to build a neural network:\n",
    "\n",
    "1. Layers and models \n",
    "2. Input and output\n",
    "3. Loss function\n",
    "4. Optimizer\n",
    "\n",
    "These four components works as:\n",
    "\n",
    "Multiple **layers** can connected together to form a **model**. Then, the **input** will be mapped by the **model** to the prediction. The prediction will be compared to the **output** in the **loss function** to derive the loss value. **Optimizer** then updates the model parameters to reduce the loss value. "
   ]
  },
  {
   "cell_type": "markdown",
   "metadata": {},
   "source": [
    ">**Layer**\n",
    "\n",
    "        The basic class in keras. Different layers are used for different data types. For example,\n",
    "\n",
    "        1. 2D data (num of samples, num of features): ```Dense```\n",
    "        2. 3D data (num of samples, length of sequence, num of features): ```RNN```, ```GRU```,```LSTM```,```Conv1D```\n",
    "        3. 4D data (num of samples, width, height, num of channels): ```Conv2D```"
   ]
  },
  {
   "cell_type": "markdown",
   "metadata": {},
   "source": [
    ">**Model**\n",
    "\n",
    "       Model is the directed acyclic graph of layers. For example, it can be the stacking of multiple layers in the mode of     \n",
    "       ```single input to single output```"
   ]
  },
  {
   "cell_type": "markdown",
   "metadata": {},
   "source": [
    ">**Loss function**\n",
    "\n",
    "        How to evaluate the model for the tasks.  Some simple ginelines to choose a loss function are given:\n",
    "\n",
    "        1. Binary Classification ```binary_crossentropy```\n",
    "        2. Multi-class Classification: ```categorical_crossentropy```\n",
    "        3. Regression: ```mean_squared_error```"
   ]
  },
  {
   "cell_type": "markdown",
   "metadata": {},
   "source": [
    ">**Optimizer**\n",
    "    \n",
    "        Various variants of Optimizers are provided by Keras:\n",
    "\n",
    "        * SGD\n",
    "        * Adagrad\n",
    "        * Adadelta\n",
    "        * RMSprop\n",
    "        * Adam\n",
    "        * AdaMax\n",
    "        * AMSGrad\n",
    "        * etc\n",
    "\n",
    "http://ruder.io/optimizing-gradient-descent/.\n",
    "\n",
    "<img src=\"https://ruder.io/content/images/2016/09/saddle_point_evaluation_optimizers.gif\" width=\"40%\">\n",
    "\n",
    "Source & Reference: https://ruder.io/content/images/2016/09/saddle_point_evaluation_optimizers.gif"
   ]
  },
  {
   "cell_type": "markdown",
   "metadata": {},
   "source": [
    "## Part 3: Sequential Method (Linear Stack)\n",
    "\n",
    "The sequential method allows you to create models ```layer-by-layer``` for most problems, i.e., a linear stacking of layers. It is limited in that it does not allow you to create models that share layers or have ```multiple inputs or outputs```.\n",
    "\n",
    "Some models structures are shown as below:\n",
    "\n",
    "1. Layer-by-Layer or Single input Single Output\n",
    "\n",
    "<img src=\"../notebook_imgs/sinsout.png\" width=\"10%\">\n",
    "\n",
    "2. Multiple Inputs\n",
    "\n",
    "Housing price prediction based on images and tabular data\n",
    "\n",
    "<img src=\"../notebook_imgs/mult-input.jpg\" width=\"40%\">\n",
    "\n",
    "3. Multiple Outputs\n",
    "\n",
    "Object and color recognition from images\n",
    "\n",
    "<img src=\"../notebook_imgs/mult-output.jpg\" width=\"40%\">"
   ]
  },
  {
   "cell_type": "code",
   "execution_count": 14,
   "metadata": {},
   "outputs": [],
   "source": [
    "model = keras.models.Sequential() # create a container\n",
    "\n",
    "# Then, use add() to insert layers into the container\n",
    "model.add(keras.layers.Flatten(input_shape=[28,28]))\n",
    "model.add(keras.layers.Dense(100, activation='relu'))\n",
    "model.add(keras.layers.Dense(10, activation='softmax'))"
   ]
  },
  {
   "cell_type": "markdown",
   "metadata": {},
   "source": [
    "\n",
    "\n",
    "<img src=\"../notebook_imgs/flatten.jpg\" width=\"40%\">\n",
    "\n",
    "<img src=\"../notebook_imgs/dense.png\" width=\"40%\">"
   ]
  },
  {
   "cell_type": "code",
   "execution_count": 15,
   "metadata": {},
   "outputs": [
    {
     "data": {
      "text/plain": [
       "[<keras.layers.core.Flatten at 0x17c067f40>,\n",
       " <keras.layers.core.Dense at 0x17c067ca0>,\n",
       " <keras.layers.core.Dense at 0x17c099b80>]"
      ]
     },
     "execution_count": 15,
     "metadata": {},
     "output_type": "execute_result"
    }
   ],
   "source": [
    "model.layers"
   ]
  },
  {
   "cell_type": "code",
   "execution_count": 16,
   "metadata": {},
   "outputs": [
    {
     "name": "stdout",
     "output_type": "stream",
     "text": [
      "Model: \"sequential\"\n",
      "_________________________________________________________________\n",
      "Layer (type)                 Output Shape              Param #   \n",
      "=================================================================\n",
      "flatten (Flatten)            (None, 784)               0         \n",
      "_________________________________________________________________\n",
      "dense (Dense)                (None, 100)               78500     \n",
      "_________________________________________________________________\n",
      "dense_1 (Dense)              (None, 10)                1010      \n",
      "=================================================================\n",
      "Total params: 79,510\n",
      "Trainable params: 79,510\n",
      "Non-trainable params: 0\n",
      "_________________________________________________________________\n"
     ]
    }
   ],
   "source": [
    "model.summary()"
   ]
  },
  {
   "cell_type": "markdown",
   "metadata": {},
   "source": [
    "## Part 4: Functional Method (graph)\n",
    "\n",
    "the functional API allows you to create models that have a lot more flexibility as you can easily define models where layers connect to more than just the previous and next layers. In fact, you can connect layers to (literally) any other layer. As a result, creating complex networks such as siamese networks and residual networks become possible.\n",
    "\n",
    "The idea is that the layer is used a function"
   ]
  },
  {
   "cell_type": "code",
   "execution_count": 17,
   "metadata": {
    "colab": {},
    "colab_type": "code",
    "id": "YqcrBH_nln8k"
   },
   "outputs": [],
   "source": [
    "from keras.models import Model\n",
    "from keras.layers import Input,  Dense, Flatten"
   ]
  },
  {
   "cell_type": "code",
   "execution_count": 18,
   "metadata": {
    "colab": {},
    "colab_type": "code",
    "id": "NWHp7Vqcln81",
    "outputId": "93f810f5-dd8d-4ddf-b9bc-fc3039b76d85"
   },
   "outputs": [],
   "source": [
    "imgs = Input(shape=[28,28])\n",
    "# Flatten() is a function\n",
    "x = Flatten()(imgs)\n",
    "#  Dense(100, activation='relu') is a function\n",
    "x = Dense(100, activation='relu')(x)\n",
    "#  Dense(10, activation='softmax') is a function\n",
    "imglabel = Dense(10, activation='softmax')(x)\n",
    "# Using such 'functions', input is mapped to output\n",
    "# Using Model to build the final connections.\n",
    "model = Model( inputs = [imgs], outputs=[imglabel])"
   ]
  },
  {
   "cell_type": "code",
   "execution_count": 19,
   "metadata": {},
   "outputs": [
    {
     "name": "stdout",
     "output_type": "stream",
     "text": [
      "Model: \"model\"\n",
      "_________________________________________________________________\n",
      "Layer (type)                 Output Shape              Param #   \n",
      "=================================================================\n",
      "input_1 (InputLayer)         [(None, 28, 28)]          0         \n",
      "_________________________________________________________________\n",
      "flatten_1 (Flatten)          (None, 784)               0         \n",
      "_________________________________________________________________\n",
      "dense_2 (Dense)              (None, 100)               78500     \n",
      "_________________________________________________________________\n",
      "dense_3 (Dense)              (None, 10)                1010      \n",
      "=================================================================\n",
      "Total params: 79,510\n",
      "Trainable params: 79,510\n",
      "Non-trainable params: 0\n",
      "_________________________________________________________________\n"
     ]
    }
   ],
   "source": [
    "model.summary()"
   ]
  },
  {
   "cell_type": "markdown",
   "metadata": {},
   "source": [
    "---\n",
    "Sequential API VS Functional API\n",
    "\n",
    "<img src=\"../notebook_imgs/matchm.png\" width=\"40%\">"
   ]
  },
  {
   "cell_type": "markdown",
   "metadata": {
    "colab_type": "text",
    "id": "vcZ0qF8zln9T"
   },
   "source": [
    "## Part 5:  Compile and use the model\n",
    "\n",
    "    1. loss and optimizer are two reuqired arguments for compiling a keras model\n",
    "    2. metrics can be set to monitor the performance during training"
   ]
  },
  {
   "cell_type": "code",
   "execution_count": 20,
   "metadata": {
    "colab": {},
    "colab_type": "code",
    "id": "Roo1CyZrln9Y"
   },
   "outputs": [],
   "source": [
    "# Selection of optimization is quite important, you may try 'sgd' to replace 'adam' and compare the performances \n",
    "model.compile(optimizer='adam',\n",
    "              loss='categorical_crossentropy',\n",
    "              metrics=['acc'])"
   ]
  },
  {
   "cell_type": "code",
   "execution_count": 21,
   "metadata": {
    "colab": {},
    "colab_type": "code",
    "id": "ka-DjoR3ln9e",
    "outputId": "7c718187-42fe-47cd-80a6-65479a666fe7"
   },
   "outputs": [
    {
     "name": "stdout",
     "output_type": "stream",
     "text": [
      "Epoch 1/20\n",
      "  94/1875 [>.............................] - ETA: 0s - loss: 1.0023 - acc: 0.6699  "
     ]
    },
    {
     "name": "stderr",
     "output_type": "stream",
     "text": [
      "2022-12-30 11:11:55.303919: I tensorflow/compiler/mlir/mlir_graph_optimization_pass.cc:185] None of the MLIR Optimization Passes are enabled (registered 2)\n",
      "2022-12-30 11:11:55.304570: W tensorflow/core/platform/profile_utils/cpu_utils.cc:128] Failed to get CPU frequency: 0 Hz\n"
     ]
    },
    {
     "name": "stdout",
     "output_type": "stream",
     "text": [
      "1875/1875 [==============================] - 1s 546us/step - loss: 0.5076 - acc: 0.8231\n",
      "Epoch 2/20\n",
      "1875/1875 [==============================] - 1s 540us/step - loss: 0.3821 - acc: 0.8626\n",
      "Epoch 3/20\n",
      "1875/1875 [==============================] - 1s 549us/step - loss: 0.3458 - acc: 0.8751\n",
      "Epoch 4/20\n",
      "1875/1875 [==============================] - 1s 545us/step - loss: 0.3188 - acc: 0.8831\n",
      "Epoch 5/20\n",
      "1875/1875 [==============================] - 1s 540us/step - loss: 0.3003 - acc: 0.8901\n",
      "Epoch 6/20\n",
      "1875/1875 [==============================] - 1s 543us/step - loss: 0.2876 - acc: 0.8929\n",
      "Epoch 7/20\n",
      "1875/1875 [==============================] - 1s 537us/step - loss: 0.2736 - acc: 0.8997\n",
      "Epoch 8/20\n",
      "1875/1875 [==============================] - 1s 537us/step - loss: 0.2637 - acc: 0.9028\n",
      "Epoch 9/20\n",
      "1875/1875 [==============================] - 1s 544us/step - loss: 0.2535 - acc: 0.9054\n",
      "Epoch 10/20\n",
      "1875/1875 [==============================] - 1s 545us/step - loss: 0.2460 - acc: 0.9081\n",
      "Epoch 11/20\n",
      "1875/1875 [==============================] - 1s 530us/step - loss: 0.2372 - acc: 0.9118\n",
      "Epoch 12/20\n",
      "1875/1875 [==============================] - 1s 533us/step - loss: 0.2285 - acc: 0.9159\n",
      "Epoch 13/20\n",
      "1875/1875 [==============================] - 1s 550us/step - loss: 0.2239 - acc: 0.9157\n",
      "Epoch 14/20\n",
      "1875/1875 [==============================] - 1s 550us/step - loss: 0.2163 - acc: 0.9199\n",
      "Epoch 15/20\n",
      "1875/1875 [==============================] - 1s 550us/step - loss: 0.2104 - acc: 0.9213\n",
      "Epoch 16/20\n",
      "1875/1875 [==============================] - 1s 549us/step - loss: 0.2041 - acc: 0.9239\n",
      "Epoch 17/20\n",
      "1875/1875 [==============================] - 1s 539us/step - loss: 0.1986 - acc: 0.9260\n",
      "Epoch 18/20\n",
      "1875/1875 [==============================] - 1s 550us/step - loss: 0.1931 - acc: 0.9274\n",
      "Epoch 19/20\n",
      "1875/1875 [==============================] - 1s 553us/step - loss: 0.1891 - acc: 0.9284\n",
      "Epoch 20/20\n",
      "1875/1875 [==============================] - 1s 560us/step - loss: 0.1842 - acc: 0.9307\n"
     ]
    },
    {
     "data": {
      "text/plain": [
       "<keras.callbacks.History at 0x17f861490>"
      ]
     },
     "execution_count": 21,
     "metadata": {},
     "output_type": "execute_result"
    }
   ],
   "source": [
    "model.fit(x_train, y_train, epochs=20)"
   ]
  },
  {
   "cell_type": "markdown",
   "metadata": {
    "colab_type": "text",
    "id": "F5yLLhZXln9s"
   },
   "source": [
    "#### Model Prediction"
   ]
  },
  {
   "cell_type": "code",
   "execution_count": 22,
   "metadata": {
    "colab": {},
    "colab_type": "code",
    "id": "Nfre1tJ8ln9t",
    "outputId": "fe825ec5-159e-4fd7-c2b3-ebbe9f4c5f4b"
   },
   "outputs": [
    {
     "name": "stdout",
     "output_type": "stream",
     "text": [
      "[[1.7738679e-10 2.7670289e-08 1.8701666e-08 6.1741976e-15 1.6034091e-10\n",
      "  2.3047527e-05 2.5309093e-12 8.0729716e-02 2.8507063e-08 9.1924721e-01]]\n"
     ]
    }
   ],
   "source": [
    "# check the predicted results\n",
    "prob = model.predict(x_test[0:1])\n",
    "\n",
    "print(prob)"
   ]
  },
  {
   "cell_type": "code",
   "execution_count": 23,
   "metadata": {},
   "outputs": [
    {
     "name": "stdout",
     "output_type": "stream",
     "text": [
      "9\n",
      "[0. 0. 0. 0. 0. 0. 0. 0. 0. 1.]\n",
      "9\n"
     ]
    }
   ],
   "source": [
    "import numpy as np\n",
    "print( np.argmax(prob) )\n",
    "print( y_test[0] )\n",
    "print( np.argmax(y_test[0]) )"
   ]
  },
  {
   "cell_type": "code",
   "execution_count": 24,
   "metadata": {},
   "outputs": [
    {
     "data": {
      "text/plain": [
       "<matplotlib.image.AxesImage at 0x17fce6be0>"
      ]
     },
     "execution_count": 24,
     "metadata": {},
     "output_type": "execute_result"
    },
    {
     "data": {
      "image/png": "[encoded data removed]",
      "text/plain": [
       "<Figure size 640x480 with 1 Axes>"
      ]
     },
     "metadata": {},
     "output_type": "display_data"
    }
   ],
   "source": [
    "plt.imshow(x_test[0])"
   ]
  },
  {
   "cell_type": "code",
   "execution_count": 25,
   "metadata": {
    "colab": {},
    "colab_type": "code",
    "id": "wqgbUZ4iln94",
    "outputId": "bf037f7f-3b93-4586-e9b9-8afbabc5ced4"
   },
   "outputs": [
    {
     "name": "stdout",
     "output_type": "stream",
     "text": [
      "313/313 [==============================] - 0s 328us/step - loss: 0.3551 - acc: 0.8863\n",
      "Model loss: 0.355096\n",
      "Model accuracy: 0.886300\n"
     ]
    }
   ],
   "source": [
    "# First value is loss, second is accuracy.\n",
    "result = model.evaluate( x_test, y_test )\n",
    "print('Model loss: %f' % result[0])\n",
    "print('Model accuracy: %f' % result[1])"
   ]
  },
  {
   "cell_type": "markdown",
   "metadata": {
    "colab_type": "text",
    "id": "xs9AcLt5ln-T"
   },
   "source": [
    "## Part 6: Model Save and Load\n",
    "\n",
    ">The model has a `save` method, which saves all the details necessary to reconstitue the model. You can check the following example:\n",
    "\n",
    "https://keras.io/getting-started/faq/#how-can-i-save-a-keras-model"
   ]
  },
  {
   "cell_type": "code",
   "execution_count": 26,
   "metadata": {
    "colab": {},
    "colab_type": "code",
    "id": "8u5V5UK5ln-U"
   },
   "outputs": [
    {
     "name": "stdout",
     "output_type": "stream",
     "text": [
      "[[1.5274683e-13 1.0000000e+00 7.1315627e-16 1.1373366e-14 2.8584992e-15\n",
      "  1.6580753e-22 3.1965943e-16 3.8819574e-28 4.6539278e-16 4.2512312e-22]]\n"
     ]
    }
   ],
   "source": [
    "from keras.models import load_model\n",
    "\n",
    "model.save('my_model.h5')  # creates a HDF5 file 'my_model.h5'\n",
    "del model  # deletes the existing model\n",
    "\n",
    "# returns a compiled model\n",
    "# identical to the previous one\n",
    "model = load_model('my_model.h5')\n",
    "prob = model.predict(x_test[2:3])\n",
    "print(prob)"
   ]
  },
  {
   "cell_type": "code",
   "execution_count": 27,
   "metadata": {},
   "outputs": [
    {
     "name": "stdout",
     "output_type": "stream",
     "text": [
      "Predict class = 1\n",
      "Trouser\n"
     ]
    }
   ],
   "source": [
    "predicted_class = np.argmax(prob)\n",
    "print('Predict class = %d' % predicted_class)\n",
    "print(class_names[predicted_class])"
   ]
  },
  {
   "cell_type": "code",
   "execution_count": 28,
   "metadata": {},
   "outputs": [
    {
     "data": {
      "text/plain": [
       "<matplotlib.image.AxesImage at 0x17f95a370>"
      ]
     },
     "execution_count": 28,
     "metadata": {},
     "output_type": "execute_result"
    },
    {
     "data": {
      "image/png": "[encoded data removed]",
      "text/plain": [
       "<Figure size 640x480 with 1 Axes>"
      ]
     },
     "metadata": {},
     "output_type": "display_data"
    }
   ],
   "source": [
    "plt.imshow(x_test[2])"
   ]
  },
  {
   "cell_type": "markdown",
   "metadata": {},
   "source": [
    "## Part 7: Summary\n",
    "\n",
    "We will use CNN to address this \"toy\" image classification problem. And, to prevent overfitting, validation dataset is created. And we will try some regularization tricks for deep learning."
   ]
  },
  {
   "cell_type": "code",
   "execution_count": 29,
   "metadata": {},
   "outputs": [],
   "source": [
    "from keras.layers import Conv2D, MaxPooling2D, Input, Flatten, Dense, Dropout\n",
    "from keras.models import Model\n",
    "import keras\n",
    "data = keras.datasets.fashion_mnist\n",
    "(x_train_all, y_train_all), (x_test, y_test) = data.load_data()"
   ]
  },
  {
   "cell_type": "code",
   "execution_count": 30,
   "metadata": {},
   "outputs": [],
   "source": [
    "x_train_all = x_train_all.reshape(60000, 28, 28, 1)\n",
    "x_test  = x_test.reshape(10000, 28, 28, 1)\n",
    "\n",
    "x_val, x_train = x_train_all[:5000] / 255.0, x_train_all[5000:] / 255.0\n",
    "y_val, y_train = y_train_all[:5000] , y_train_all[5000:] "
   ]
  },
  {
   "cell_type": "code",
   "execution_count": 31,
   "metadata": {},
   "outputs": [
    {
     "data": {
      "text/plain": [
       "26"
      ]
     },
     "execution_count": 31,
     "metadata": {},
     "output_type": "execute_result"
    }
   ],
   "source": [
    "(28 - (3-1) )"
   ]
  },
  {
   "cell_type": "code",
   "execution_count": 32,
   "metadata": {},
   "outputs": [],
   "source": [
    "imgs = Input(shape=[28,28, 1])\n",
    "\n",
    "x = Conv2D(64, (3,3), activation='relu', input_shape=(28,28,1))(imgs)\n",
    "x = MaxPooling2D(2,2)(x) \n",
    "x = Conv2D(64, (3,3), activation='relu')(x) \n",
    "x = MaxPooling2D(2,2)(x) \n",
    "x = Flatten()(x)\n",
    "# x=Dropout(0.5)(x) \n",
    "x = Dense(128, activation='relu')(x)\n",
    "imglabel = Dense(10, activation='softmax')(x)\n",
    "model = Model( inputs = [imgs], outputs=[imglabel])"
   ]
  },
  {
   "cell_type": "code",
   "execution_count": 33,
   "metadata": {},
   "outputs": [],
   "source": [
    "model.compile(optimizer='adam',\n",
    "              loss='sparse_categorical_crossentropy',\n",
    "              metrics=['acc'])"
   ]
  },
  {
   "cell_type": "code",
   "execution_count": 34,
   "metadata": {},
   "outputs": [
    {
     "name": "stdout",
     "output_type": "stream",
     "text": [
      "Epoch 1/20\n",
      "1719/1719 [==============================] - 15s 8ms/step - loss: 0.4516 - acc: 0.8364 - val_loss: 0.3319 - val_acc: 0.8814\n",
      "Epoch 2/20\n",
      "1719/1719 [==============================] - 15s 9ms/step - loss: 0.3050 - acc: 0.8879 - val_loss: 0.3007 - val_acc: 0.8902\n",
      "Epoch 3/20\n",
      "1719/1719 [==============================] - 15s 9ms/step - loss: 0.2573 - acc: 0.9048 - val_loss: 0.2775 - val_acc: 0.8984\n",
      "Epoch 4/20\n",
      "1719/1719 [==============================] - 16s 9ms/step - loss: 0.2247 - acc: 0.9157 - val_loss: 0.2467 - val_acc: 0.9116\n",
      "Epoch 5/20\n",
      "1719/1719 [==============================] - 15s 9ms/step - loss: 0.1984 - acc: 0.9263 - val_loss: 0.2369 - val_acc: 0.9148\n",
      "Epoch 6/20\n",
      "1719/1719 [==============================] - 15s 9ms/step - loss: 0.1737 - acc: 0.9341 - val_loss: 0.2385 - val_acc: 0.9170\n",
      "Epoch 7/20\n",
      "1719/1719 [==============================] - 17s 10ms/step - loss: 0.1540 - acc: 0.9416 - val_loss: 0.2433 - val_acc: 0.9120\n",
      "Epoch 8/20\n",
      "1719/1719 [==============================] - 17s 10ms/step - loss: 0.1343 - acc: 0.9499 - val_loss: 0.2377 - val_acc: 0.9192\n",
      "Epoch 9/20\n",
      "1719/1719 [==============================] - 17s 10ms/step - loss: 0.1198 - acc: 0.9548 - val_loss: 0.2394 - val_acc: 0.9202\n",
      "Epoch 10/20\n",
      "1719/1719 [==============================] - 18s 10ms/step - loss: 0.1058 - acc: 0.9598 - val_loss: 0.2827 - val_acc: 0.9112\n",
      "Epoch 11/20\n",
      "1719/1719 [==============================] - 18s 10ms/step - loss: 0.0941 - acc: 0.9647 - val_loss: 0.3204 - val_acc: 0.9128\n",
      "Epoch 12/20\n",
      "1719/1719 [==============================] - 16s 10ms/step - loss: 0.0813 - acc: 0.9697 - val_loss: 0.3257 - val_acc: 0.9154\n",
      "Epoch 13/20\n",
      "1719/1719 [==============================] - 17s 10ms/step - loss: 0.0756 - acc: 0.9710 - val_loss: 0.3441 - val_acc: 0.9058\n",
      "Epoch 14/20\n",
      "1719/1719 [==============================] - 17s 10ms/step - loss: 0.0646 - acc: 0.9753 - val_loss: 0.3784 - val_acc: 0.9054\n",
      "Epoch 15/20\n",
      "1719/1719 [==============================] - 17s 10ms/step - loss: 0.0590 - acc: 0.9774 - val_loss: 0.3812 - val_acc: 0.9092\n",
      "Epoch 16/20\n",
      "1719/1719 [==============================] - 17s 10ms/step - loss: 0.0530 - acc: 0.9799 - val_loss: 0.4280 - val_acc: 0.9118\n",
      "Epoch 17/20\n",
      "1719/1719 [==============================] - 17s 10ms/step - loss: 0.0489 - acc: 0.9814 - val_loss: 0.4092 - val_acc: 0.9126\n",
      "Epoch 18/20\n",
      "1719/1719 [==============================] - 17s 10ms/step - loss: 0.0446 - acc: 0.9833 - val_loss: 0.4362 - val_acc: 0.9122\n",
      "Epoch 19/20\n",
      "1719/1719 [==============================] - 17s 10ms/step - loss: 0.0437 - acc: 0.9839 - val_loss: 0.4958 - val_acc: 0.9136\n",
      "Epoch 20/20\n",
      "1719/1719 [==============================] - 17s 10ms/step - loss: 0.0379 - acc: 0.9858 - val_loss: 0.5119 - val_acc: 0.9088\n"
     ]
    }
   ],
   "source": [
    "history = model.fit(x_train, \n",
    "          y_train, \n",
    "          epochs=20,\n",
    "          validation_data=(x_val, y_val))"
   ]
  },
  {
   "cell_type": "code",
   "execution_count": 35,
   "metadata": {},
   "outputs": [],
   "source": [
    "acc = history.history['acc']\n",
    "val_acc = history.history['val_acc']"
   ]
  },
  {
   "cell_type": "code",
   "execution_count": 36,
   "metadata": {},
   "outputs": [],
   "source": [
    "loss = history.history['loss']\n",
    "val_loss = history.history['val_loss']"
   ]
  },
  {
   "cell_type": "code",
   "execution_count": 37,
   "metadata": {},
   "outputs": [
    {
     "data": {
      "image/png": "[encoded data removed]",
      "text/plain": [
       "<Figure size 1200x600 with 2 Axes>"
      ]
     },
     "metadata": {},
     "output_type": "display_data"
    }
   ],
   "source": [
    "epoch_number = range(len(acc))\n",
    "import matplotlib.pyplot as plt\n",
    "%matplotlib inline\n",
    "plt.figure(figsize=(12, 6), dpi=100)\n",
    "plt.subplot(2,1,1)\n",
    "plt.plot(epoch_number, acc, 'r', label='train acc')\n",
    "plt.plot(epoch_number, val_acc, 'b', label='val acc')\n",
    "plt.title('Train and Validation Accuracy')\n",
    "plt.legend()\n",
    "\n",
    "plt.subplot(2,1,2)\n",
    "plt.plot(epoch_number, loss, 'r', label='train loss')\n",
    "plt.plot(epoch_number, val_loss, 'b', label='val loss')\n",
    "plt.title('Train and Validation Loss')\n",
    "plt.legend()\n",
    "\n",
    "plt.show()"
   ]
  },
  {
   "cell_type": "code",
   "execution_count": 38,
   "metadata": {},
   "outputs": [
    {
     "data": {
      "image/png": "[encoded data removed]",
      "text/plain": [
       "<Figure size 640x480 with 1 Axes>"
      ]
     },
     "metadata": {},
     "output_type": "display_data"
    }
   ],
   "source": [
    "plt.plot(epoch_number, acc, 'r', label='train acc')\n",
    "plt.plot(epoch_number, val_acc, 'b', label='val acc')\n",
    "plt.title('Train and Validation Accuracy')\n",
    "plt.legend()\n",
    "\n",
    "plt.show()"
   ]
  },
  {
   "cell_type": "markdown",
   "metadata": {},
   "source": [
    "##### Overfitting\n",
    "Training acc is over 98.7%, while validation acc is only 91.8%.  Try to add the dropout layer.\n",
    "\n",
    "An gentle introduction to Dropout technique\n",
    "\n",
    "https://medium.com/@amarbudhiraja/https-medium-com-amarbudhiraja-learning-less-to-learn-better-dropout-in-deep-machine-learning-74334da4bfc5"
   ]
  }
 ],
 "metadata": {
  "colab": {
   "name": "09 Introduction to Keras.ipynb",
   "provenance": [],
   "version": "0.3.2"
  },
  "kernelspec": {
   "display_name": "Python 3 (ipykernel)",
   "language": "python",
   "name": "python3"
  },
  "language_info": {
   "codemirror_mode": {
    "name": "ipython",
    "version": 3
   },
   "file_extension": ".py",
   "mimetype": "text/x-python",
   "name": "python",
   "nbconvert_exporter": "python",
   "pygments_lexer": "ipython3",
   "version": "3.9.15"
  }
 },
 "nbformat": 4,
 "nbformat_minor": 1
}
