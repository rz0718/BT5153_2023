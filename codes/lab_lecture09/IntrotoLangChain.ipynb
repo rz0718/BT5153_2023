{
  "nbformat": 4,
  "nbformat_minor": 0,
  "metadata": {
    "colab": {
      "provenance": []
    },
    "kernelspec": {
      "name": "python3",
      "display_name": "Python 3"
    },
    "language_info": {
      "name": "python"
    },
    "widgets": {
      "application/vnd.jupyter.widget-state+json": {
        "d9dd34527fb94b1db9ddb32ce9d8feca": {
          "model_module": "@jupyter-widgets/controls",
          "model_name": "HBoxModel",
          "model_module_version": "1.5.0",
          "state": {
            "_dom_classes": [],
            "_model_module": "@jupyter-widgets/controls",
            "_model_module_version": "1.5.0",
            "_model_name": "HBoxModel",
            "_view_count": null,
            "_view_module": "@jupyter-widgets/controls",
            "_view_module_version": "1.5.0",
            "_view_name": "HBoxView",
            "box_style": "",
            "children": [
              "IPY_MODEL_cc55e2fe2b0d4ad4b209c5d2063ceac2",
              "IPY_MODEL_4a7a3e00f6e14de7a2c751112fa7ef75",
              "IPY_MODEL_ee56ef9727ed4fcb835463648ec9daad"
            ],
            "layout": "IPY_MODEL_a6cf84666bd243e28e2692598b1b601a"
          }
        },
        "cc55e2fe2b0d4ad4b209c5d2063ceac2": {
          "model_module": "@jupyter-widgets/controls",
          "model_name": "HTMLModel",
          "model_module_version": "1.5.0",
          "state": {
            "_dom_classes": [],
            "_model_module": "@jupyter-widgets/controls",
            "_model_module_version": "1.5.0",
            "_model_name": "HTMLModel",
            "_view_count": null,
            "_view_module": "@jupyter-widgets/controls",
            "_view_module_version": "1.5.0",
            "_view_name": "HTMLView",
            "description": "",
            "description_tooltip": null,
            "layout": "IPY_MODEL_97be1225f4e4470eaccdf34b2221dfde",
            "placeholder": "​",
            "style": "IPY_MODEL_aa65a9e0a33a4d44b2f896d40d97cf0d",
            "value": "tokenizer_config.json: 100%"
          }
        },
        "4a7a3e00f6e14de7a2c751112fa7ef75": {
          "model_module": "@jupyter-widgets/controls",
          "model_name": "FloatProgressModel",
          "model_module_version": "1.5.0",
          "state": {
            "_dom_classes": [],
            "_model_module": "@jupyter-widgets/controls",
            "_model_module_version": "1.5.0",
            "_model_name": "FloatProgressModel",
            "_view_count": null,
            "_view_module": "@jupyter-widgets/controls",
            "_view_module_version": "1.5.0",
            "_view_name": "ProgressView",
            "bar_style": "success",
            "description": "",
            "description_tooltip": null,
            "layout": "IPY_MODEL_52f8202394b74a23b00d0004c5fb3b9e",
            "max": 2537,
            "min": 0,
            "orientation": "horizontal",
            "style": "IPY_MODEL_f851a55ef2d54041930abb9b4f48d65c",
            "value": 2537
          }
        },
        "ee56ef9727ed4fcb835463648ec9daad": {
          "model_module": "@jupyter-widgets/controls",
          "model_name": "HTMLModel",
          "model_module_version": "1.5.0",
          "state": {
            "_dom_classes": [],
            "_model_module": "@jupyter-widgets/controls",
            "_model_module_version": "1.5.0",
            "_model_name": "HTMLModel",
            "_view_count": null,
            "_view_module": "@jupyter-widgets/controls",
            "_view_module_version": "1.5.0",
            "_view_name": "HTMLView",
            "description": "",
            "description_tooltip": null,
            "layout": "IPY_MODEL_313534a521fb4c75880e6188ec895032",
            "placeholder": "​",
            "style": "IPY_MODEL_3ed255d3cccb4d1c8fb45e913f7d029e",
            "value": " 2.54k/2.54k [00:00&lt;00:00, 58.5kB/s]"
          }
        },
        "a6cf84666bd243e28e2692598b1b601a": {
          "model_module": "@jupyter-widgets/base",
          "model_name": "LayoutModel",
          "model_module_version": "1.2.0",
          "state": {
            "_model_module": "@jupyter-widgets/base",
            "_model_module_version": "1.2.0",
            "_model_name": "LayoutModel",
            "_view_count": null,
            "_view_module": "@jupyter-widgets/base",
            "_view_module_version": "1.2.0",
            "_view_name": "LayoutView",
            "align_content": null,
            "align_items": null,
            "align_self": null,
            "border": null,
            "bottom": null,
            "display": null,
            "flex": null,
            "flex_flow": null,
            "grid_area": null,
            "grid_auto_columns": null,
            "grid_auto_flow": null,
            "grid_auto_rows": null,
            "grid_column": null,
            "grid_gap": null,
            "grid_row": null,
            "grid_template_areas": null,
            "grid_template_columns": null,
            "grid_template_rows": null,
            "height": null,
            "justify_content": null,
            "justify_items": null,
            "left": null,
            "margin": null,
            "max_height": null,
            "max_width": null,
            "min_height": null,
            "min_width": null,
            "object_fit": null,
            "object_position": null,
            "order": null,
            "overflow": null,
            "overflow_x": null,
            "overflow_y": null,
            "padding": null,
            "right": null,
            "top": null,
            "visibility": null,
            "width": null
          }
        },
        "97be1225f4e4470eaccdf34b2221dfde": {
          "model_module": "@jupyter-widgets/base",
          "model_name": "LayoutModel",
          "model_module_version": "1.2.0",
          "state": {
            "_model_module": "@jupyter-widgets/base",
            "_model_module_version": "1.2.0",
            "_model_name": "LayoutModel",
            "_view_count": null,
            "_view_module": "@jupyter-widgets/base",
            "_view_module_version": "1.2.0",
            "_view_name": "LayoutView",
            "align_content": null,
            "align_items": null,
            "align_self": null,
            "border": null,
            "bottom": null,
            "display": null,
            "flex": null,
            "flex_flow": null,
            "grid_area": null,
            "grid_auto_columns": null,
            "grid_auto_flow": null,
            "grid_auto_rows": null,
            "grid_column": null,
            "grid_gap": null,
            "grid_row": null,
            "grid_template_areas": null,
            "grid_template_columns": null,
            "grid_template_rows": null,
            "height": null,
            "justify_content": null,
            "justify_items": null,
            "left": null,
            "margin": null,
            "max_height": null,
            "max_width": null,
            "min_height": null,
            "min_width": null,
            "object_fit": null,
            "object_position": null,
            "order": null,
            "overflow": null,
            "overflow_x": null,
            "overflow_y": null,
            "padding": null,
            "right": null,
            "top": null,
            "visibility": null,
            "width": null
          }
        },
        "aa65a9e0a33a4d44b2f896d40d97cf0d": {
          "model_module": "@jupyter-widgets/controls",
          "model_name": "DescriptionStyleModel",
          "model_module_version": "1.5.0",
          "state": {
            "_model_module": "@jupyter-widgets/controls",
            "_model_module_version": "1.5.0",
            "_model_name": "DescriptionStyleModel",
            "_view_count": null,
            "_view_module": "@jupyter-widgets/base",
            "_view_module_version": "1.2.0",
            "_view_name": "StyleView",
            "description_width": ""
          }
        },
        "52f8202394b74a23b00d0004c5fb3b9e": {
          "model_module": "@jupyter-widgets/base",
          "model_name": "LayoutModel",
          "model_module_version": "1.2.0",
          "state": {
            "_model_module": "@jupyter-widgets/base",
            "_model_module_version": "1.2.0",
            "_model_name": "LayoutModel",
            "_view_count": null,
            "_view_module": "@jupyter-widgets/base",
            "_view_module_version": "1.2.0",
            "_view_name": "LayoutView",
            "align_content": null,
            "align_items": null,
            "align_self": null,
            "border": null,
            "bottom": null,
            "display": null,
            "flex": null,
            "flex_flow": null,
            "grid_area": null,
            "grid_auto_columns": null,
            "grid_auto_flow": null,
            "grid_auto_rows": null,
            "grid_column": null,
            "grid_gap": null,
            "grid_row": null,
            "grid_template_areas": null,
            "grid_template_columns": null,
            "grid_template_rows": null,
            "height": null,
            "justify_content": null,
            "justify_items": null,
            "left": null,
            "margin": null,
            "max_height": null,
            "max_width": null,
            "min_height": null,
            "min_width": null,
            "object_fit": null,
            "object_position": null,
            "order": null,
            "overflow": null,
            "overflow_x": null,
            "overflow_y": null,
            "padding": null,
            "right": null,
            "top": null,
            "visibility": null,
            "width": null
          }
        },
        "f851a55ef2d54041930abb9b4f48d65c": {
          "model_module": "@jupyter-widgets/controls",
          "model_name": "ProgressStyleModel",
          "model_module_version": "1.5.0",
          "state": {
            "_model_module": "@jupyter-widgets/controls",
            "_model_module_version": "1.5.0",
            "_model_name": "ProgressStyleModel",
            "_view_count": null,
            "_view_module": "@jupyter-widgets/base",
            "_view_module_version": "1.2.0",
            "_view_name": "StyleView",
            "bar_color": null,
            "description_width": ""
          }
        },
        "313534a521fb4c75880e6188ec895032": {
          "model_module": "@jupyter-widgets/base",
          "model_name": "LayoutModel",
          "model_module_version": "1.2.0",
          "state": {
            "_model_module": "@jupyter-widgets/base",
            "_model_module_version": "1.2.0",
            "_model_name": "LayoutModel",
            "_view_count": null,
            "_view_module": "@jupyter-widgets/base",
            "_view_module_version": "1.2.0",
            "_view_name": "LayoutView",
            "align_content": null,
            "align_items": null,
            "align_self": null,
            "border": null,
            "bottom": null,
            "display": null,
            "flex": null,
            "flex_flow": null,
            "grid_area": null,
            "grid_auto_columns": null,
            "grid_auto_flow": null,
            "grid_auto_rows": null,
            "grid_column": null,
            "grid_gap": null,
            "grid_row": null,
            "grid_template_areas": null,
            "grid_template_columns": null,
            "grid_template_rows": null,
            "height": null,
            "justify_content": null,
            "justify_items": null,
            "left": null,
            "margin": null,
            "max_height": null,
            "max_width": null,
            "min_height": null,
            "min_width": null,
            "object_fit": null,
            "object_position": null,
            "order": null,
            "overflow": null,
            "overflow_x": null,
            "overflow_y": null,
            "padding": null,
            "right": null,
            "top": null,
            "visibility": null,
            "width": null
          }
        },
        "3ed255d3cccb4d1c8fb45e913f7d029e": {
          "model_module": "@jupyter-widgets/controls",
          "model_name": "DescriptionStyleModel",
          "model_module_version": "1.5.0",
          "state": {
            "_model_module": "@jupyter-widgets/controls",
            "_model_module_version": "1.5.0",
            "_model_name": "DescriptionStyleModel",
            "_view_count": null,
            "_view_module": "@jupyter-widgets/base",
            "_view_module_version": "1.2.0",
            "_view_name": "StyleView",
            "description_width": ""
          }
        },
        "8c902446316a49848c0091ee7ae33d48": {
          "model_module": "@jupyter-widgets/controls",
          "model_name": "HBoxModel",
          "model_module_version": "1.5.0",
          "state": {
            "_dom_classes": [],
            "_model_module": "@jupyter-widgets/controls",
            "_model_module_version": "1.5.0",
            "_model_name": "HBoxModel",
            "_view_count": null,
            "_view_module": "@jupyter-widgets/controls",
            "_view_module_version": "1.5.0",
            "_view_name": "HBoxView",
            "box_style": "",
            "children": [
              "IPY_MODEL_3571d85a8615406fb48a6e681012efb8",
              "IPY_MODEL_699d138664fe41a2ad38eaff20c555c1",
              "IPY_MODEL_87b9c51ce24e49a181e52a6a9b3e7641"
            ],
            "layout": "IPY_MODEL_04331cd077ad4f4184027714f2dbd00f"
          }
        },
        "3571d85a8615406fb48a6e681012efb8": {
          "model_module": "@jupyter-widgets/controls",
          "model_name": "HTMLModel",
          "model_module_version": "1.5.0",
          "state": {
            "_dom_classes": [],
            "_model_module": "@jupyter-widgets/controls",
            "_model_module_version": "1.5.0",
            "_model_name": "HTMLModel",
            "_view_count": null,
            "_view_module": "@jupyter-widgets/controls",
            "_view_module_version": "1.5.0",
            "_view_name": "HTMLView",
            "description": "",
            "description_tooltip": null,
            "layout": "IPY_MODEL_2df771c96fe144bfabd6de5d6ef3c335",
            "placeholder": "​",
            "style": "IPY_MODEL_2f671e9b383043818dd9b26df6b707bc",
            "value": "spiece.model: 100%"
          }
        },
        "699d138664fe41a2ad38eaff20c555c1": {
          "model_module": "@jupyter-widgets/controls",
          "model_name": "FloatProgressModel",
          "model_module_version": "1.5.0",
          "state": {
            "_dom_classes": [],
            "_model_module": "@jupyter-widgets/controls",
            "_model_module_version": "1.5.0",
            "_model_name": "FloatProgressModel",
            "_view_count": null,
            "_view_module": "@jupyter-widgets/controls",
            "_view_module_version": "1.5.0",
            "_view_name": "ProgressView",
            "bar_style": "success",
            "description": "",
            "description_tooltip": null,
            "layout": "IPY_MODEL_460a367bb85647599ef73f2ff0e24e9d",
            "max": 791656,
            "min": 0,
            "orientation": "horizontal",
            "style": "IPY_MODEL_92c66e45351b4921a520bf02bd808f26",
            "value": 791656
          }
        },
        "87b9c51ce24e49a181e52a6a9b3e7641": {
          "model_module": "@jupyter-widgets/controls",
          "model_name": "HTMLModel",
          "model_module_version": "1.5.0",
          "state": {
            "_dom_classes": [],
            "_model_module": "@jupyter-widgets/controls",
            "_model_module_version": "1.5.0",
            "_model_name": "HTMLModel",
            "_view_count": null,
            "_view_module": "@jupyter-widgets/controls",
            "_view_module_version": "1.5.0",
            "_view_name": "HTMLView",
            "description": "",
            "description_tooltip": null,
            "layout": "IPY_MODEL_b3307b7db3c44deab748d72d5e96c611",
            "placeholder": "​",
            "style": "IPY_MODEL_cf8dd359b71f4edcaea57976a23d314f",
            "value": " 792k/792k [00:00&lt;00:00, 4.75MB/s]"
          }
        },
        "04331cd077ad4f4184027714f2dbd00f": {
          "model_module": "@jupyter-widgets/base",
          "model_name": "LayoutModel",
          "model_module_version": "1.2.0",
          "state": {
            "_model_module": "@jupyter-widgets/base",
            "_model_module_version": "1.2.0",
            "_model_name": "LayoutModel",
            "_view_count": null,
            "_view_module": "@jupyter-widgets/base",
            "_view_module_version": "1.2.0",
            "_view_name": "LayoutView",
            "align_content": null,
            "align_items": null,
            "align_self": null,
            "border": null,
            "bottom": null,
            "display": null,
            "flex": null,
            "flex_flow": null,
            "grid_area": null,
            "grid_auto_columns": null,
            "grid_auto_flow": null,
            "grid_auto_rows": null,
            "grid_column": null,
            "grid_gap": null,
            "grid_row": null,
            "grid_template_areas": null,
            "grid_template_columns": null,
            "grid_template_rows": null,
            "height": null,
            "justify_content": null,
            "justify_items": null,
            "left": null,
            "margin": null,
            "max_height": null,
            "max_width": null,
            "min_height": null,
            "min_width": null,
            "object_fit": null,
            "object_position": null,
            "order": null,
            "overflow": null,
            "overflow_x": null,
            "overflow_y": null,
            "padding": null,
            "right": null,
            "top": null,
            "visibility": null,
            "width": null
          }
        },
        "2df771c96fe144bfabd6de5d6ef3c335": {
          "model_module": "@jupyter-widgets/base",
          "model_name": "LayoutModel",
          "model_module_version": "1.2.0",
          "state": {
            "_model_module": "@jupyter-widgets/base",
            "_model_module_version": "1.2.0",
            "_model_name": "LayoutModel",
            "_view_count": null,
            "_view_module": "@jupyter-widgets/base",
            "_view_module_version": "1.2.0",
            "_view_name": "LayoutView",
            "align_content": null,
            "align_items": null,
            "align_self": null,
            "border": null,
            "bottom": null,
            "display": null,
            "flex": null,
            "flex_flow": null,
            "grid_area": null,
            "grid_auto_columns": null,
            "grid_auto_flow": null,
            "grid_auto_rows": null,
            "grid_column": null,
            "grid_gap": null,
            "grid_row": null,
            "grid_template_areas": null,
            "grid_template_columns": null,
            "grid_template_rows": null,
            "height": null,
            "justify_content": null,
            "justify_items": null,
            "left": null,
            "margin": null,
            "max_height": null,
            "max_width": null,
            "min_height": null,
            "min_width": null,
            "object_fit": null,
            "object_position": null,
            "order": null,
            "overflow": null,
            "overflow_x": null,
            "overflow_y": null,
            "padding": null,
            "right": null,
            "top": null,
            "visibility": null,
            "width": null
          }
        },
        "2f671e9b383043818dd9b26df6b707bc": {
          "model_module": "@jupyter-widgets/controls",
          "model_name": "DescriptionStyleModel",
          "model_module_version": "1.5.0",
          "state": {
            "_model_module": "@jupyter-widgets/controls",
            "_model_module_version": "1.5.0",
            "_model_name": "DescriptionStyleModel",
            "_view_count": null,
            "_view_module": "@jupyter-widgets/base",
            "_view_module_version": "1.2.0",
            "_view_name": "StyleView",
            "description_width": ""
          }
        },
        "460a367bb85647599ef73f2ff0e24e9d": {
          "model_module": "@jupyter-widgets/base",
          "model_name": "LayoutModel",
          "model_module_version": "1.2.0",
          "state": {
            "_model_module": "@jupyter-widgets/base",
            "_model_module_version": "1.2.0",
            "_model_name": "LayoutModel",
            "_view_count": null,
            "_view_module": "@jupyter-widgets/base",
            "_view_module_version": "1.2.0",
            "_view_name": "LayoutView",
            "align_content": null,
            "align_items": null,
            "align_self": null,
            "border": null,
            "bottom": null,
            "display": null,
            "flex": null,
            "flex_flow": null,
            "grid_area": null,
            "grid_auto_columns": null,
            "grid_auto_flow": null,
            "grid_auto_rows": null,
            "grid_column": null,
            "grid_gap": null,
            "grid_row": null,
            "grid_template_areas": null,
            "grid_template_columns": null,
            "grid_template_rows": null,
            "height": null,
            "justify_content": null,
            "justify_items": null,
            "left": null,
            "margin": null,
            "max_height": null,
            "max_width": null,
            "min_height": null,
            "min_width": null,
            "object_fit": null,
            "object_position": null,
            "order": null,
            "overflow": null,
            "overflow_x": null,
            "overflow_y": null,
            "padding": null,
            "right": null,
            "top": null,
            "visibility": null,
            "width": null
          }
        },
        "92c66e45351b4921a520bf02bd808f26": {
          "model_module": "@jupyter-widgets/controls",
          "model_name": "ProgressStyleModel",
          "model_module_version": "1.5.0",
          "state": {
            "_model_module": "@jupyter-widgets/controls",
            "_model_module_version": "1.5.0",
            "_model_name": "ProgressStyleModel",
            "_view_count": null,
            "_view_module": "@jupyter-widgets/base",
            "_view_module_version": "1.2.0",
            "_view_name": "StyleView",
            "bar_color": null,
            "description_width": ""
          }
        },
        "b3307b7db3c44deab748d72d5e96c611": {
          "model_module": "@jupyter-widgets/base",
          "model_name": "LayoutModel",
          "model_module_version": "1.2.0",
          "state": {
            "_model_module": "@jupyter-widgets/base",
            "_model_module_version": "1.2.0",
            "_model_name": "LayoutModel",
            "_view_count": null,
            "_view_module": "@jupyter-widgets/base",
            "_view_module_version": "1.2.0",
            "_view_name": "LayoutView",
            "align_content": null,
            "align_items": null,
            "align_self": null,
            "border": null,
            "bottom": null,
            "display": null,
            "flex": null,
            "flex_flow": null,
            "grid_area": null,
            "grid_auto_columns": null,
            "grid_auto_flow": null,
            "grid_auto_rows": null,
            "grid_column": null,
            "grid_gap": null,
            "grid_row": null,
            "grid_template_areas": null,
            "grid_template_columns": null,
            "grid_template_rows": null,
            "height": null,
            "justify_content": null,
            "justify_items": null,
            "left": null,
            "margin": null,
            "max_height": null,
            "max_width": null,
            "min_height": null,
            "min_width": null,
            "object_fit": null,
            "object_position": null,
            "order": null,
            "overflow": null,
            "overflow_x": null,
            "overflow_y": null,
            "padding": null,
            "right": null,
            "top": null,
            "visibility": null,
            "width": null
          }
        },
        "cf8dd359b71f4edcaea57976a23d314f": {
          "model_module": "@jupyter-widgets/controls",
          "model_name": "DescriptionStyleModel",
          "model_module_version": "1.5.0",
          "state": {
            "_model_module": "@jupyter-widgets/controls",
            "_model_module_version": "1.5.0",
            "_model_name": "DescriptionStyleModel",
            "_view_count": null,
            "_view_module": "@jupyter-widgets/base",
            "_view_module_version": "1.2.0",
            "_view_name": "StyleView",
            "description_width": ""
          }
        },
        "4b70ce5b348f481596bd0555c27dfc7f": {
          "model_module": "@jupyter-widgets/controls",
          "model_name": "HBoxModel",
          "model_module_version": "1.5.0",
          "state": {
            "_dom_classes": [],
            "_model_module": "@jupyter-widgets/controls",
            "_model_module_version": "1.5.0",
            "_model_name": "HBoxModel",
            "_view_count": null,
            "_view_module": "@jupyter-widgets/controls",
            "_view_module_version": "1.5.0",
            "_view_name": "HBoxView",
            "box_style": "",
            "children": [
              "IPY_MODEL_49245965c23143729e02395e96351c24",
              "IPY_MODEL_07c708eb97ad46efaea89a17b70aaac7",
              "IPY_MODEL_7e40feaa1a35431799335529928b5c5a"
            ],
            "layout": "IPY_MODEL_19f6602a377747cf8de2fe93c7878201"
          }
        },
        "49245965c23143729e02395e96351c24": {
          "model_module": "@jupyter-widgets/controls",
          "model_name": "HTMLModel",
          "model_module_version": "1.5.0",
          "state": {
            "_dom_classes": [],
            "_model_module": "@jupyter-widgets/controls",
            "_model_module_version": "1.5.0",
            "_model_name": "HTMLModel",
            "_view_count": null,
            "_view_module": "@jupyter-widgets/controls",
            "_view_module_version": "1.5.0",
            "_view_name": "HTMLView",
            "description": "",
            "description_tooltip": null,
            "layout": "IPY_MODEL_734c281f17834064b467e4513e2f2859",
            "placeholder": "​",
            "style": "IPY_MODEL_3466593c37b14131b644e105de0b7358",
            "value": "tokenizer.json: 100%"
          }
        },
        "07c708eb97ad46efaea89a17b70aaac7": {
          "model_module": "@jupyter-widgets/controls",
          "model_name": "FloatProgressModel",
          "model_module_version": "1.5.0",
          "state": {
            "_dom_classes": [],
            "_model_module": "@jupyter-widgets/controls",
            "_model_module_version": "1.5.0",
            "_model_name": "FloatProgressModel",
            "_view_count": null,
            "_view_module": "@jupyter-widgets/controls",
            "_view_module_version": "1.5.0",
            "_view_name": "ProgressView",
            "bar_style": "success",
            "description": "",
            "description_tooltip": null,
            "layout": "IPY_MODEL_2bf31d8440dd40dba1af682d5c063daa",
            "max": 2424064,
            "min": 0,
            "orientation": "horizontal",
            "style": "IPY_MODEL_b826bc79ff6848a2bf5cc3b76c41c42a",
            "value": 2424064
          }
        },
        "7e40feaa1a35431799335529928b5c5a": {
          "model_module": "@jupyter-widgets/controls",
          "model_name": "HTMLModel",
          "model_module_version": "1.5.0",
          "state": {
            "_dom_classes": [],
            "_model_module": "@jupyter-widgets/controls",
            "_model_module_version": "1.5.0",
            "_model_name": "HTMLModel",
            "_view_count": null,
            "_view_module": "@jupyter-widgets/controls",
            "_view_module_version": "1.5.0",
            "_view_name": "HTMLView",
            "description": "",
            "description_tooltip": null,
            "layout": "IPY_MODEL_645ae7fa08e1493f97eaa49296542376",
            "placeholder": "​",
            "style": "IPY_MODEL_4893ee3bf1bb4deca57c15c5c3edf6e9",
            "value": " 2.42M/2.42M [00:00&lt;00:00, 13.6MB/s]"
          }
        },
        "19f6602a377747cf8de2fe93c7878201": {
          "model_module": "@jupyter-widgets/base",
          "model_name": "LayoutModel",
          "model_module_version": "1.2.0",
          "state": {
            "_model_module": "@jupyter-widgets/base",
            "_model_module_version": "1.2.0",
            "_model_name": "LayoutModel",
            "_view_count": null,
            "_view_module": "@jupyter-widgets/base",
            "_view_module_version": "1.2.0",
            "_view_name": "LayoutView",
            "align_content": null,
            "align_items": null,
            "align_self": null,
            "border": null,
            "bottom": null,
            "display": null,
            "flex": null,
            "flex_flow": null,
            "grid_area": null,
            "grid_auto_columns": null,
            "grid_auto_flow": null,
            "grid_auto_rows": null,
            "grid_column": null,
            "grid_gap": null,
            "grid_row": null,
            "grid_template_areas": null,
            "grid_template_columns": null,
            "grid_template_rows": null,
            "height": null,
            "justify_content": null,
            "justify_items": null,
            "left": null,
            "margin": null,
            "max_height": null,
            "max_width": null,
            "min_height": null,
            "min_width": null,
            "object_fit": null,
            "object_position": null,
            "order": null,
            "overflow": null,
            "overflow_x": null,
            "overflow_y": null,
            "padding": null,
            "right": null,
            "top": null,
            "visibility": null,
            "width": null
          }
        },
        "734c281f17834064b467e4513e2f2859": {
          "model_module": "@jupyter-widgets/base",
          "model_name": "LayoutModel",
          "model_module_version": "1.2.0",
          "state": {
            "_model_module": "@jupyter-widgets/base",
            "_model_module_version": "1.2.0",
            "_model_name": "LayoutModel",
            "_view_count": null,
            "_view_module": "@jupyter-widgets/base",
            "_view_module_version": "1.2.0",
            "_view_name": "LayoutView",
            "align_content": null,
            "align_items": null,
            "align_self": null,
            "border": null,
            "bottom": null,
            "display": null,
            "flex": null,
            "flex_flow": null,
            "grid_area": null,
            "grid_auto_columns": null,
            "grid_auto_flow": null,
            "grid_auto_rows": null,
            "grid_column": null,
            "grid_gap": null,
            "grid_row": null,
            "grid_template_areas": null,
            "grid_template_columns": null,
            "grid_template_rows": null,
            "height": null,
            "justify_content": null,
            "justify_items": null,
            "left": null,
            "margin": null,
            "max_height": null,
            "max_width": null,
            "min_height": null,
            "min_width": null,
            "object_fit": null,
            "object_position": null,
            "order": null,
            "overflow": null,
            "overflow_x": null,
            "overflow_y": null,
            "padding": null,
            "right": null,
            "top": null,
            "visibility": null,
            "width": null
          }
        },
        "3466593c37b14131b644e105de0b7358": {
          "model_module": "@jupyter-widgets/controls",
          "model_name": "DescriptionStyleModel",
          "model_module_version": "1.5.0",
          "state": {
            "_model_module": "@jupyter-widgets/controls",
            "_model_module_version": "1.5.0",
            "_model_name": "DescriptionStyleModel",
            "_view_count": null,
            "_view_module": "@jupyter-widgets/base",
            "_view_module_version": "1.2.0",
            "_view_name": "StyleView",
            "description_width": ""
          }
        },
        "2bf31d8440dd40dba1af682d5c063daa": {
          "model_module": "@jupyter-widgets/base",
          "model_name": "LayoutModel",
          "model_module_version": "1.2.0",
          "state": {
            "_model_module": "@jupyter-widgets/base",
            "_model_module_version": "1.2.0",
            "_model_name": "LayoutModel",
            "_view_count": null,
            "_view_module": "@jupyter-widgets/base",
            "_view_module_version": "1.2.0",
            "_view_name": "LayoutView",
            "align_content": null,
            "align_items": null,
            "align_self": null,
            "border": null,
            "bottom": null,
            "display": null,
            "flex": null,
            "flex_flow": null,
            "grid_area": null,
            "grid_auto_columns": null,
            "grid_auto_flow": null,
            "grid_auto_rows": null,
            "grid_column": null,
            "grid_gap": null,
            "grid_row": null,
            "grid_template_areas": null,
            "grid_template_columns": null,
            "grid_template_rows": null,
            "height": null,
            "justify_content": null,
            "justify_items": null,
            "left": null,
            "margin": null,
            "max_height": null,
            "max_width": null,
            "min_height": null,
            "min_width": null,
            "object_fit": null,
            "object_position": null,
            "order": null,
            "overflow": null,
            "overflow_x": null,
            "overflow_y": null,
            "padding": null,
            "right": null,
            "top": null,
            "visibility": null,
            "width": null
          }
        },
        "b826bc79ff6848a2bf5cc3b76c41c42a": {
          "model_module": "@jupyter-widgets/controls",
          "model_name": "ProgressStyleModel",
          "model_module_version": "1.5.0",
          "state": {
            "_model_module": "@jupyter-widgets/controls",
            "_model_module_version": "1.5.0",
            "_model_name": "ProgressStyleModel",
            "_view_count": null,
            "_view_module": "@jupyter-widgets/base",
            "_view_module_version": "1.2.0",
            "_view_name": "StyleView",
            "bar_color": null,
            "description_width": ""
          }
        },
        "645ae7fa08e1493f97eaa49296542376": {
          "model_module": "@jupyter-widgets/base",
          "model_name": "LayoutModel",
          "model_module_version": "1.2.0",
          "state": {
            "_model_module": "@jupyter-widgets/base",
            "_model_module_version": "1.2.0",
            "_model_name": "LayoutModel",
            "_view_count": null,
            "_view_module": "@jupyter-widgets/base",
            "_view_module_version": "1.2.0",
            "_view_name": "LayoutView",
            "align_content": null,
            "align_items": null,
            "align_self": null,
            "border": null,
            "bottom": null,
            "display": null,
            "flex": null,
            "flex_flow": null,
            "grid_area": null,
            "grid_auto_columns": null,
            "grid_auto_flow": null,
            "grid_auto_rows": null,
            "grid_column": null,
            "grid_gap": null,
            "grid_row": null,
            "grid_template_areas": null,
            "grid_template_columns": null,
            "grid_template_rows": null,
            "height": null,
            "justify_content": null,
            "justify_items": null,
            "left": null,
            "margin": null,
            "max_height": null,
            "max_width": null,
            "min_height": null,
            "min_width": null,
            "object_fit": null,
            "object_position": null,
            "order": null,
            "overflow": null,
            "overflow_x": null,
            "overflow_y": null,
            "padding": null,
            "right": null,
            "top": null,
            "visibility": null,
            "width": null
          }
        },
        "4893ee3bf1bb4deca57c15c5c3edf6e9": {
          "model_module": "@jupyter-widgets/controls",
          "model_name": "DescriptionStyleModel",
          "model_module_version": "1.5.0",
          "state": {
            "_model_module": "@jupyter-widgets/controls",
            "_model_module_version": "1.5.0",
            "_model_name": "DescriptionStyleModel",
            "_view_count": null,
            "_view_module": "@jupyter-widgets/base",
            "_view_module_version": "1.2.0",
            "_view_name": "StyleView",
            "description_width": ""
          }
        },
        "125051ee289043f6b387aefc9bb40b95": {
          "model_module": "@jupyter-widgets/controls",
          "model_name": "HBoxModel",
          "model_module_version": "1.5.0",
          "state": {
            "_dom_classes": [],
            "_model_module": "@jupyter-widgets/controls",
            "_model_module_version": "1.5.0",
            "_model_name": "HBoxModel",
            "_view_count": null,
            "_view_module": "@jupyter-widgets/controls",
            "_view_module_version": "1.5.0",
            "_view_name": "HBoxView",
            "box_style": "",
            "children": [
              "IPY_MODEL_dc5d00c0ddb641a1a8c506e2be271d0e",
              "IPY_MODEL_15c25ecfc394486aa668c7441f1421b6",
              "IPY_MODEL_72313c86233e412f871b06440ad52609"
            ],
            "layout": "IPY_MODEL_efddcc0bbc024aa2b0ff907e97b1209f"
          }
        },
        "dc5d00c0ddb641a1a8c506e2be271d0e": {
          "model_module": "@jupyter-widgets/controls",
          "model_name": "HTMLModel",
          "model_module_version": "1.5.0",
          "state": {
            "_dom_classes": [],
            "_model_module": "@jupyter-widgets/controls",
            "_model_module_version": "1.5.0",
            "_model_name": "HTMLModel",
            "_view_count": null,
            "_view_module": "@jupyter-widgets/controls",
            "_view_module_version": "1.5.0",
            "_view_name": "HTMLView",
            "description": "",
            "description_tooltip": null,
            "layout": "IPY_MODEL_bbc3b0c0630547f18fe457ddacdaaa5d",
            "placeholder": "​",
            "style": "IPY_MODEL_fcab8e93def348ecbb1bfeae58470b68",
            "value": "special_tokens_map.json: 100%"
          }
        },
        "15c25ecfc394486aa668c7441f1421b6": {
          "model_module": "@jupyter-widgets/controls",
          "model_name": "FloatProgressModel",
          "model_module_version": "1.5.0",
          "state": {
            "_dom_classes": [],
            "_model_module": "@jupyter-widgets/controls",
            "_model_module_version": "1.5.0",
            "_model_name": "FloatProgressModel",
            "_view_count": null,
            "_view_module": "@jupyter-widgets/controls",
            "_view_module_version": "1.5.0",
            "_view_name": "ProgressView",
            "bar_style": "success",
            "description": "",
            "description_tooltip": null,
            "layout": "IPY_MODEL_c519f10c742f4e888340631ae5a7dd97",
            "max": 2201,
            "min": 0,
            "orientation": "horizontal",
            "style": "IPY_MODEL_7c89f784c6a8410185497985415dce8e",
            "value": 2201
          }
        },
        "72313c86233e412f871b06440ad52609": {
          "model_module": "@jupyter-widgets/controls",
          "model_name": "HTMLModel",
          "model_module_version": "1.5.0",
          "state": {
            "_dom_classes": [],
            "_model_module": "@jupyter-widgets/controls",
            "_model_module_version": "1.5.0",
            "_model_name": "HTMLModel",
            "_view_count": null,
            "_view_module": "@jupyter-widgets/controls",
            "_view_module_version": "1.5.0",
            "_view_name": "HTMLView",
            "description": "",
            "description_tooltip": null,
            "layout": "IPY_MODEL_1bce7035076c427986f9de72865e62f1",
            "placeholder": "​",
            "style": "IPY_MODEL_468f8b51decf45bf8457a31b94fce511",
            "value": " 2.20k/2.20k [00:00&lt;00:00, 29.6kB/s]"
          }
        },
        "efddcc0bbc024aa2b0ff907e97b1209f": {
          "model_module": "@jupyter-widgets/base",
          "model_name": "LayoutModel",
          "model_module_version": "1.2.0",
          "state": {
            "_model_module": "@jupyter-widgets/base",
            "_model_module_version": "1.2.0",
            "_model_name": "LayoutModel",
            "_view_count": null,
            "_view_module": "@jupyter-widgets/base",
            "_view_module_version": "1.2.0",
            "_view_name": "LayoutView",
            "align_content": null,
            "align_items": null,
            "align_self": null,
            "border": null,
            "bottom": null,
            "display": null,
            "flex": null,
            "flex_flow": null,
            "grid_area": null,
            "grid_auto_columns": null,
            "grid_auto_flow": null,
            "grid_auto_rows": null,
            "grid_column": null,
            "grid_gap": null,
            "grid_row": null,
            "grid_template_areas": null,
            "grid_template_columns": null,
            "grid_template_rows": null,
            "height": null,
            "justify_content": null,
            "justify_items": null,
            "left": null,
            "margin": null,
            "max_height": null,
            "max_width": null,
            "min_height": null,
            "min_width": null,
            "object_fit": null,
            "object_position": null,
            "order": null,
            "overflow": null,
            "overflow_x": null,
            "overflow_y": null,
            "padding": null,
            "right": null,
            "top": null,
            "visibility": null,
            "width": null
          }
        },
        "bbc3b0c0630547f18fe457ddacdaaa5d": {
          "model_module": "@jupyter-widgets/base",
          "model_name": "LayoutModel",
          "model_module_version": "1.2.0",
          "state": {
            "_model_module": "@jupyter-widgets/base",
            "_model_module_version": "1.2.0",
            "_model_name": "LayoutModel",
            "_view_count": null,
            "_view_module": "@jupyter-widgets/base",
            "_view_module_version": "1.2.0",
            "_view_name": "LayoutView",
            "align_content": null,
            "align_items": null,
            "align_self": null,
            "border": null,
            "bottom": null,
            "display": null,
            "flex": null,
            "flex_flow": null,
            "grid_area": null,
            "grid_auto_columns": null,
            "grid_auto_flow": null,
            "grid_auto_rows": null,
            "grid_column": null,
            "grid_gap": null,
            "grid_row": null,
            "grid_template_areas": null,
            "grid_template_columns": null,
            "grid_template_rows": null,
            "height": null,
            "justify_content": null,
            "justify_items": null,
            "left": null,
            "margin": null,
            "max_height": null,
            "max_width": null,
            "min_height": null,
            "min_width": null,
            "object_fit": null,
            "object_position": null,
            "order": null,
            "overflow": null,
            "overflow_x": null,
            "overflow_y": null,
            "padding": null,
            "right": null,
            "top": null,
            "visibility": null,
            "width": null
          }
        },
        "fcab8e93def348ecbb1bfeae58470b68": {
          "model_module": "@jupyter-widgets/controls",
          "model_name": "DescriptionStyleModel",
          "model_module_version": "1.5.0",
          "state": {
            "_model_module": "@jupyter-widgets/controls",
            "_model_module_version": "1.5.0",
            "_model_name": "DescriptionStyleModel",
            "_view_count": null,
            "_view_module": "@jupyter-widgets/base",
            "_view_module_version": "1.2.0",
            "_view_name": "StyleView",
            "description_width": ""
          }
        },
        "c519f10c742f4e888340631ae5a7dd97": {
          "model_module": "@jupyter-widgets/base",
          "model_name": "LayoutModel",
          "model_module_version": "1.2.0",
          "state": {
            "_model_module": "@jupyter-widgets/base",
            "_model_module_version": "1.2.0",
            "_model_name": "LayoutModel",
            "_view_count": null,
            "_view_module": "@jupyter-widgets/base",
            "_view_module_version": "1.2.0",
            "_view_name": "LayoutView",
            "align_content": null,
            "align_items": null,
            "align_self": null,
            "border": null,
            "bottom": null,
            "display": null,
            "flex": null,
            "flex_flow": null,
            "grid_area": null,
            "grid_auto_columns": null,
            "grid_auto_flow": null,
            "grid_auto_rows": null,
            "grid_column": null,
            "grid_gap": null,
            "grid_row": null,
            "grid_template_areas": null,
            "grid_template_columns": null,
            "grid_template_rows": null,
            "height": null,
            "justify_content": null,
            "justify_items": null,
            "left": null,
            "margin": null,
            "max_height": null,
            "max_width": null,
            "min_height": null,
            "min_width": null,
            "object_fit": null,
            "object_position": null,
            "order": null,
            "overflow": null,
            "overflow_x": null,
            "overflow_y": null,
            "padding": null,
            "right": null,
            "top": null,
            "visibility": null,
            "width": null
          }
        },
        "7c89f784c6a8410185497985415dce8e": {
          "model_module": "@jupyter-widgets/controls",
          "model_name": "ProgressStyleModel",
          "model_module_version": "1.5.0",
          "state": {
            "_model_module": "@jupyter-widgets/controls",
            "_model_module_version": "1.5.0",
            "_model_name": "ProgressStyleModel",
            "_view_count": null,
            "_view_module": "@jupyter-widgets/base",
            "_view_module_version": "1.2.0",
            "_view_name": "StyleView",
            "bar_color": null,
            "description_width": ""
          }
        },
        "1bce7035076c427986f9de72865e62f1": {
          "model_module": "@jupyter-widgets/base",
          "model_name": "LayoutModel",
          "model_module_version": "1.2.0",
          "state": {
            "_model_module": "@jupyter-widgets/base",
            "_model_module_version": "1.2.0",
            "_model_name": "LayoutModel",
            "_view_count": null,
            "_view_module": "@jupyter-widgets/base",
            "_view_module_version": "1.2.0",
            "_view_name": "LayoutView",
            "align_content": null,
            "align_items": null,
            "align_self": null,
            "border": null,
            "bottom": null,
            "display": null,
            "flex": null,
            "flex_flow": null,
            "grid_area": null,
            "grid_auto_columns": null,
            "grid_auto_flow": null,
            "grid_auto_rows": null,
            "grid_column": null,
            "grid_gap": null,
            "grid_row": null,
            "grid_template_areas": null,
            "grid_template_columns": null,
            "grid_template_rows": null,
            "height": null,
            "justify_content": null,
            "justify_items": null,
            "left": null,
            "margin": null,
            "max_height": null,
            "max_width": null,
            "min_height": null,
            "min_width": null,
            "object_fit": null,
            "object_position": null,
            "order": null,
            "overflow": null,
            "overflow_x": null,
            "overflow_y": null,
            "padding": null,
            "right": null,
            "top": null,
            "visibility": null,
            "width": null
          }
        },
        "468f8b51decf45bf8457a31b94fce511": {
          "model_module": "@jupyter-widgets/controls",
          "model_name": "DescriptionStyleModel",
          "model_module_version": "1.5.0",
          "state": {
            "_model_module": "@jupyter-widgets/controls",
            "_model_module_version": "1.5.0",
            "_model_name": "DescriptionStyleModel",
            "_view_count": null,
            "_view_module": "@jupyter-widgets/base",
            "_view_module_version": "1.2.0",
            "_view_name": "StyleView",
            "description_width": ""
          }
        },
        "e850fe44a9054da3afbab21ff9f5e842": {
          "model_module": "@jupyter-widgets/controls",
          "model_name": "HBoxModel",
          "model_module_version": "1.5.0",
          "state": {
            "_dom_classes": [],
            "_model_module": "@jupyter-widgets/controls",
            "_model_module_version": "1.5.0",
            "_model_name": "HBoxModel",
            "_view_count": null,
            "_view_module": "@jupyter-widgets/controls",
            "_view_module_version": "1.5.0",
            "_view_name": "HBoxView",
            "box_style": "",
            "children": [
              "IPY_MODEL_4dff5b748ae846638f832c4c75b31ed0",
              "IPY_MODEL_b0e03e3ad5024626b4afa1d4b4f8d4d2",
              "IPY_MODEL_86c54c0f86924a61ab250339a74fe4cc"
            ],
            "layout": "IPY_MODEL_0e91f1920077471db86a83c28646de69"
          }
        },
        "4dff5b748ae846638f832c4c75b31ed0": {
          "model_module": "@jupyter-widgets/controls",
          "model_name": "HTMLModel",
          "model_module_version": "1.5.0",
          "state": {
            "_dom_classes": [],
            "_model_module": "@jupyter-widgets/controls",
            "_model_module_version": "1.5.0",
            "_model_name": "HTMLModel",
            "_view_count": null,
            "_view_module": "@jupyter-widgets/controls",
            "_view_module_version": "1.5.0",
            "_view_name": "HTMLView",
            "description": "",
            "description_tooltip": null,
            "layout": "IPY_MODEL_8f66bcecd0814fd69358a9f13cc2e7ce",
            "placeholder": "​",
            "style": "IPY_MODEL_82722a4e5514402ab958a4733321ab9c",
            "value": "config.json: 100%"
          }
        },
        "b0e03e3ad5024626b4afa1d4b4f8d4d2": {
          "model_module": "@jupyter-widgets/controls",
          "model_name": "FloatProgressModel",
          "model_module_version": "1.5.0",
          "state": {
            "_dom_classes": [],
            "_model_module": "@jupyter-widgets/controls",
            "_model_module_version": "1.5.0",
            "_model_name": "FloatProgressModel",
            "_view_count": null,
            "_view_module": "@jupyter-widgets/controls",
            "_view_module_version": "1.5.0",
            "_view_name": "ProgressView",
            "bar_style": "success",
            "description": "",
            "description_tooltip": null,
            "layout": "IPY_MODEL_d1cf28908fe44a76b9cf28f636cd11a6",
            "max": 1404,
            "min": 0,
            "orientation": "horizontal",
            "style": "IPY_MODEL_2323c20819894bd8adf7613c94be43a2",
            "value": 1404
          }
        },
        "86c54c0f86924a61ab250339a74fe4cc": {
          "model_module": "@jupyter-widgets/controls",
          "model_name": "HTMLModel",
          "model_module_version": "1.5.0",
          "state": {
            "_dom_classes": [],
            "_model_module": "@jupyter-widgets/controls",
            "_model_module_version": "1.5.0",
            "_model_name": "HTMLModel",
            "_view_count": null,
            "_view_module": "@jupyter-widgets/controls",
            "_view_module_version": "1.5.0",
            "_view_name": "HTMLView",
            "description": "",
            "description_tooltip": null,
            "layout": "IPY_MODEL_72791f6c616a42c1b4cef4b176355937",
            "placeholder": "​",
            "style": "IPY_MODEL_2f817bb4f75d41cb9572d644418d62c8",
            "value": " 1.40k/1.40k [00:00&lt;00:00, 22.1kB/s]"
          }
        },
        "0e91f1920077471db86a83c28646de69": {
          "model_module": "@jupyter-widgets/base",
          "model_name": "LayoutModel",
          "model_module_version": "1.2.0",
          "state": {
            "_model_module": "@jupyter-widgets/base",
            "_model_module_version": "1.2.0",
            "_model_name": "LayoutModel",
            "_view_count": null,
            "_view_module": "@jupyter-widgets/base",
            "_view_module_version": "1.2.0",
            "_view_name": "LayoutView",
            "align_content": null,
            "align_items": null,
            "align_self": null,
            "border": null,
            "bottom": null,
            "display": null,
            "flex": null,
            "flex_flow": null,
            "grid_area": null,
            "grid_auto_columns": null,
            "grid_auto_flow": null,
            "grid_auto_rows": null,
            "grid_column": null,
            "grid_gap": null,
            "grid_row": null,
            "grid_template_areas": null,
            "grid_template_columns": null,
            "grid_template_rows": null,
            "height": null,
            "justify_content": null,
            "justify_items": null,
            "left": null,
            "margin": null,
            "max_height": null,
            "max_width": null,
            "min_height": null,
            "min_width": null,
            "object_fit": null,
            "object_position": null,
            "order": null,
            "overflow": null,
            "overflow_x": null,
            "overflow_y": null,
            "padding": null,
            "right": null,
            "top": null,
            "visibility": null,
            "width": null
          }
        },
        "8f66bcecd0814fd69358a9f13cc2e7ce": {
          "model_module": "@jupyter-widgets/base",
          "model_name": "LayoutModel",
          "model_module_version": "1.2.0",
          "state": {
            "_model_module": "@jupyter-widgets/base",
            "_model_module_version": "1.2.0",
            "_model_name": "LayoutModel",
            "_view_count": null,
            "_view_module": "@jupyter-widgets/base",
            "_view_module_version": "1.2.0",
            "_view_name": "LayoutView",
            "align_content": null,
            "align_items": null,
            "align_self": null,
            "border": null,
            "bottom": null,
            "display": null,
            "flex": null,
            "flex_flow": null,
            "grid_area": null,
            "grid_auto_columns": null,
            "grid_auto_flow": null,
            "grid_auto_rows": null,
            "grid_column": null,
            "grid_gap": null,
            "grid_row": null,
            "grid_template_areas": null,
            "grid_template_columns": null,
            "grid_template_rows": null,
            "height": null,
            "justify_content": null,
            "justify_items": null,
            "left": null,
            "margin": null,
            "max_height": null,
            "max_width": null,
            "min_height": null,
            "min_width": null,
            "object_fit": null,
            "object_position": null,
            "order": null,
            "overflow": null,
            "overflow_x": null,
            "overflow_y": null,
            "padding": null,
            "right": null,
            "top": null,
            "visibility": null,
            "width": null
          }
        },
        "82722a4e5514402ab958a4733321ab9c": {
          "model_module": "@jupyter-widgets/controls",
          "model_name": "DescriptionStyleModel",
          "model_module_version": "1.5.0",
          "state": {
            "_model_module": "@jupyter-widgets/controls",
            "_model_module_version": "1.5.0",
            "_model_name": "DescriptionStyleModel",
            "_view_count": null,
            "_view_module": "@jupyter-widgets/base",
            "_view_module_version": "1.2.0",
            "_view_name": "StyleView",
            "description_width": ""
          }
        },
        "d1cf28908fe44a76b9cf28f636cd11a6": {
          "model_module": "@jupyter-widgets/base",
          "model_name": "LayoutModel",
          "model_module_version": "1.2.0",
          "state": {
            "_model_module": "@jupyter-widgets/base",
            "_model_module_version": "1.2.0",
            "_model_name": "LayoutModel",
            "_view_count": null,
            "_view_module": "@jupyter-widgets/base",
            "_view_module_version": "1.2.0",
            "_view_name": "LayoutView",
            "align_content": null,
            "align_items": null,
            "align_self": null,
            "border": null,
            "bottom": null,
            "display": null,
            "flex": null,
            "flex_flow": null,
            "grid_area": null,
            "grid_auto_columns": null,
            "grid_auto_flow": null,
            "grid_auto_rows": null,
            "grid_column": null,
            "grid_gap": null,
            "grid_row": null,
            "grid_template_areas": null,
            "grid_template_columns": null,
            "grid_template_rows": null,
            "height": null,
            "justify_content": null,
            "justify_items": null,
            "left": null,
            "margin": null,
            "max_height": null,
            "max_width": null,
            "min_height": null,
            "min_width": null,
            "object_fit": null,
            "object_position": null,
            "order": null,
            "overflow": null,
            "overflow_x": null,
            "overflow_y": null,
            "padding": null,
            "right": null,
            "top": null,
            "visibility": null,
            "width": null
          }
        },
        "2323c20819894bd8adf7613c94be43a2": {
          "model_module": "@jupyter-widgets/controls",
          "model_name": "ProgressStyleModel",
          "model_module_version": "1.5.0",
          "state": {
            "_model_module": "@jupyter-widgets/controls",
            "_model_module_version": "1.5.0",
            "_model_name": "ProgressStyleModel",
            "_view_count": null,
            "_view_module": "@jupyter-widgets/base",
            "_view_module_version": "1.2.0",
            "_view_name": "StyleView",
            "bar_color": null,
            "description_width": ""
          }
        },
        "72791f6c616a42c1b4cef4b176355937": {
          "model_module": "@jupyter-widgets/base",
          "model_name": "LayoutModel",
          "model_module_version": "1.2.0",
          "state": {
            "_model_module": "@jupyter-widgets/base",
            "_model_module_version": "1.2.0",
            "_model_name": "LayoutModel",
            "_view_count": null,
            "_view_module": "@jupyter-widgets/base",
            "_view_module_version": "1.2.0",
            "_view_name": "LayoutView",
            "align_content": null,
            "align_items": null,
            "align_self": null,
            "border": null,
            "bottom": null,
            "display": null,
            "flex": null,
            "flex_flow": null,
            "grid_area": null,
            "grid_auto_columns": null,
            "grid_auto_flow": null,
            "grid_auto_rows": null,
            "grid_column": null,
            "grid_gap": null,
            "grid_row": null,
            "grid_template_areas": null,
            "grid_template_columns": null,
            "grid_template_rows": null,
            "height": null,
            "justify_content": null,
            "justify_items": null,
            "left": null,
            "margin": null,
            "max_height": null,
            "max_width": null,
            "min_height": null,
            "min_width": null,
            "object_fit": null,
            "object_position": null,
            "order": null,
            "overflow": null,
            "overflow_x": null,
            "overflow_y": null,
            "padding": null,
            "right": null,
            "top": null,
            "visibility": null,
            "width": null
          }
        },
        "2f817bb4f75d41cb9572d644418d62c8": {
          "model_module": "@jupyter-widgets/controls",
          "model_name": "DescriptionStyleModel",
          "model_module_version": "1.5.0",
          "state": {
            "_model_module": "@jupyter-widgets/controls",
            "_model_module_version": "1.5.0",
            "_model_name": "DescriptionStyleModel",
            "_view_count": null,
            "_view_module": "@jupyter-widgets/base",
            "_view_module_version": "1.2.0",
            "_view_name": "StyleView",
            "description_width": ""
          }
        },
        "0cf91884a99642479135f91fa6c21244": {
          "model_module": "@jupyter-widgets/controls",
          "model_name": "HBoxModel",
          "model_module_version": "1.5.0",
          "state": {
            "_dom_classes": [],
            "_model_module": "@jupyter-widgets/controls",
            "_model_module_version": "1.5.0",
            "_model_name": "HBoxModel",
            "_view_count": null,
            "_view_module": "@jupyter-widgets/controls",
            "_view_module_version": "1.5.0",
            "_view_name": "HBoxView",
            "box_style": "",
            "children": [
              "IPY_MODEL_e59a3b4828824953852bb8824df055c5",
              "IPY_MODEL_ee9d45afec4c4e098685e2dd2812b3e7",
              "IPY_MODEL_4a6454f71de24eabbdafc04fe4c10ee6"
            ],
            "layout": "IPY_MODEL_7a77f79296bc41e0bc5de957921f749f"
          }
        },
        "e59a3b4828824953852bb8824df055c5": {
          "model_module": "@jupyter-widgets/controls",
          "model_name": "HTMLModel",
          "model_module_version": "1.5.0",
          "state": {
            "_dom_classes": [],
            "_model_module": "@jupyter-widgets/controls",
            "_model_module_version": "1.5.0",
            "_model_name": "HTMLModel",
            "_view_count": null,
            "_view_module": "@jupyter-widgets/controls",
            "_view_module_version": "1.5.0",
            "_view_name": "HTMLView",
            "description": "",
            "description_tooltip": null,
            "layout": "IPY_MODEL_e57877e0db7d42379d5175ee1e1d8304",
            "placeholder": "​",
            "style": "IPY_MODEL_d5d458b4cfc04e8aa6afecdcb93d7d58",
            "value": "model.safetensors: 100%"
          }
        },
        "ee9d45afec4c4e098685e2dd2812b3e7": {
          "model_module": "@jupyter-widgets/controls",
          "model_name": "FloatProgressModel",
          "model_module_version": "1.5.0",
          "state": {
            "_dom_classes": [],
            "_model_module": "@jupyter-widgets/controls",
            "_model_module_version": "1.5.0",
            "_model_name": "FloatProgressModel",
            "_view_count": null,
            "_view_module": "@jupyter-widgets/controls",
            "_view_module_version": "1.5.0",
            "_view_name": "ProgressView",
            "bar_style": "success",
            "description": "",
            "description_tooltip": null,
            "layout": "IPY_MODEL_60ea874a475046f59aabf0c575d4bf0b",
            "max": 990345061,
            "min": 0,
            "orientation": "horizontal",
            "style": "IPY_MODEL_4c584d2842d14d9da3a770191b28d1a6",
            "value": 990345061
          }
        },
        "4a6454f71de24eabbdafc04fe4c10ee6": {
          "model_module": "@jupyter-widgets/controls",
          "model_name": "HTMLModel",
          "model_module_version": "1.5.0",
          "state": {
            "_dom_classes": [],
            "_model_module": "@jupyter-widgets/controls",
            "_model_module_version": "1.5.0",
            "_model_name": "HTMLModel",
            "_view_count": null,
            "_view_module": "@jupyter-widgets/controls",
            "_view_module_version": "1.5.0",
            "_view_name": "HTMLView",
            "description": "",
            "description_tooltip": null,
            "layout": "IPY_MODEL_90c3f2959be54992886d857ce88d759e",
            "placeholder": "​",
            "style": "IPY_MODEL_3ce3ce7e10dd458cadb811ab840260eb",
            "value": " 990M/990M [00:15&lt;00:00, 61.0MB/s]"
          }
        },
        "7a77f79296bc41e0bc5de957921f749f": {
          "model_module": "@jupyter-widgets/base",
          "model_name": "LayoutModel",
          "model_module_version": "1.2.0",
          "state": {
            "_model_module": "@jupyter-widgets/base",
            "_model_module_version": "1.2.0",
            "_model_name": "LayoutModel",
            "_view_count": null,
            "_view_module": "@jupyter-widgets/base",
            "_view_module_version": "1.2.0",
            "_view_name": "LayoutView",
            "align_content": null,
            "align_items": null,
            "align_self": null,
            "border": null,
            "bottom": null,
            "display": null,
            "flex": null,
            "flex_flow": null,
            "grid_area": null,
            "grid_auto_columns": null,
            "grid_auto_flow": null,
            "grid_auto_rows": null,
            "grid_column": null,
            "grid_gap": null,
            "grid_row": null,
            "grid_template_areas": null,
            "grid_template_columns": null,
            "grid_template_rows": null,
            "height": null,
            "justify_content": null,
            "justify_items": null,
            "left": null,
            "margin": null,
            "max_height": null,
            "max_width": null,
            "min_height": null,
            "min_width": null,
            "object_fit": null,
            "object_position": null,
            "order": null,
            "overflow": null,
            "overflow_x": null,
            "overflow_y": null,
            "padding": null,
            "right": null,
            "top": null,
            "visibility": null,
            "width": null
          }
        },
        "e57877e0db7d42379d5175ee1e1d8304": {
          "model_module": "@jupyter-widgets/base",
          "model_name": "LayoutModel",
          "model_module_version": "1.2.0",
          "state": {
            "_model_module": "@jupyter-widgets/base",
            "_model_module_version": "1.2.0",
            "_model_name": "LayoutModel",
            "_view_count": null,
            "_view_module": "@jupyter-widgets/base",
            "_view_module_version": "1.2.0",
            "_view_name": "LayoutView",
            "align_content": null,
            "align_items": null,
            "align_self": null,
            "border": null,
            "bottom": null,
            "display": null,
            "flex": null,
            "flex_flow": null,
            "grid_area": null,
            "grid_auto_columns": null,
            "grid_auto_flow": null,
            "grid_auto_rows": null,
            "grid_column": null,
            "grid_gap": null,
            "grid_row": null,
            "grid_template_areas": null,
            "grid_template_columns": null,
            "grid_template_rows": null,
            "height": null,
            "justify_content": null,
            "justify_items": null,
            "left": null,
            "margin": null,
            "max_height": null,
            "max_width": null,
            "min_height": null,
            "min_width": null,
            "object_fit": null,
            "object_position": null,
            "order": null,
            "overflow": null,
            "overflow_x": null,
            "overflow_y": null,
            "padding": null,
            "right": null,
            "top": null,
            "visibility": null,
            "width": null
          }
        },
        "d5d458b4cfc04e8aa6afecdcb93d7d58": {
          "model_module": "@jupyter-widgets/controls",
          "model_name": "DescriptionStyleModel",
          "model_module_version": "1.5.0",
          "state": {
            "_model_module": "@jupyter-widgets/controls",
            "_model_module_version": "1.5.0",
            "_model_name": "DescriptionStyleModel",
            "_view_count": null,
            "_view_module": "@jupyter-widgets/base",
            "_view_module_version": "1.2.0",
            "_view_name": "StyleView",
            "description_width": ""
          }
        },
        "60ea874a475046f59aabf0c575d4bf0b": {
          "model_module": "@jupyter-widgets/base",
          "model_name": "LayoutModel",
          "model_module_version": "1.2.0",
          "state": {
            "_model_module": "@jupyter-widgets/base",
            "_model_module_version": "1.2.0",
            "_model_name": "LayoutModel",
            "_view_count": null,
            "_view_module": "@jupyter-widgets/base",
            "_view_module_version": "1.2.0",
            "_view_name": "LayoutView",
            "align_content": null,
            "align_items": null,
            "align_self": null,
            "border": null,
            "bottom": null,
            "display": null,
            "flex": null,
            "flex_flow": null,
            "grid_area": null,
            "grid_auto_columns": null,
            "grid_auto_flow": null,
            "grid_auto_rows": null,
            "grid_column": null,
            "grid_gap": null,
            "grid_row": null,
            "grid_template_areas": null,
            "grid_template_columns": null,
            "grid_template_rows": null,
            "height": null,
            "justify_content": null,
            "justify_items": null,
            "left": null,
            "margin": null,
            "max_height": null,
            "max_width": null,
            "min_height": null,
            "min_width": null,
            "object_fit": null,
            "object_position": null,
            "order": null,
            "overflow": null,
            "overflow_x": null,
            "overflow_y": null,
            "padding": null,
            "right": null,
            "top": null,
            "visibility": null,
            "width": null
          }
        },
        "4c584d2842d14d9da3a770191b28d1a6": {
          "model_module": "@jupyter-widgets/controls",
          "model_name": "ProgressStyleModel",
          "model_module_version": "1.5.0",
          "state": {
            "_model_module": "@jupyter-widgets/controls",
            "_model_module_version": "1.5.0",
            "_model_name": "ProgressStyleModel",
            "_view_count": null,
            "_view_module": "@jupyter-widgets/base",
            "_view_module_version": "1.2.0",
            "_view_name": "StyleView",
            "bar_color": null,
            "description_width": ""
          }
        },
        "90c3f2959be54992886d857ce88d759e": {
          "model_module": "@jupyter-widgets/base",
          "model_name": "LayoutModel",
          "model_module_version": "1.2.0",
          "state": {
            "_model_module": "@jupyter-widgets/base",
            "_model_module_version": "1.2.0",
            "_model_name": "LayoutModel",
            "_view_count": null,
            "_view_module": "@jupyter-widgets/base",
            "_view_module_version": "1.2.0",
            "_view_name": "LayoutView",
            "align_content": null,
            "align_items": null,
            "align_self": null,
            "border": null,
            "bottom": null,
            "display": null,
            "flex": null,
            "flex_flow": null,
            "grid_area": null,
            "grid_auto_columns": null,
            "grid_auto_flow": null,
            "grid_auto_rows": null,
            "grid_column": null,
            "grid_gap": null,
            "grid_row": null,
            "grid_template_areas": null,
            "grid_template_columns": null,
            "grid_template_rows": null,
            "height": null,
            "justify_content": null,
            "justify_items": null,
            "left": null,
            "margin": null,
            "max_height": null,
            "max_width": null,
            "min_height": null,
            "min_width": null,
            "object_fit": null,
            "object_position": null,
            "order": null,
            "overflow": null,
            "overflow_x": null,
            "overflow_y": null,
            "padding": null,
            "right": null,
            "top": null,
            "visibility": null,
            "width": null
          }
        },
        "3ce3ce7e10dd458cadb811ab840260eb": {
          "model_module": "@jupyter-widgets/controls",
          "model_name": "DescriptionStyleModel",
          "model_module_version": "1.5.0",
          "state": {
            "_model_module": "@jupyter-widgets/controls",
            "_model_module_version": "1.5.0",
            "_model_name": "DescriptionStyleModel",
            "_view_count": null,
            "_view_module": "@jupyter-widgets/base",
            "_view_module_version": "1.2.0",
            "_view_name": "StyleView",
            "description_width": ""
          }
        },
        "6afce8fee1cb4b4abe715ed7ee7bad8e": {
          "model_module": "@jupyter-widgets/controls",
          "model_name": "HBoxModel",
          "model_module_version": "1.5.0",
          "state": {
            "_dom_classes": [],
            "_model_module": "@jupyter-widgets/controls",
            "_model_module_version": "1.5.0",
            "_model_name": "HBoxModel",
            "_view_count": null,
            "_view_module": "@jupyter-widgets/controls",
            "_view_module_version": "1.5.0",
            "_view_name": "HBoxView",
            "box_style": "",
            "children": [
              "IPY_MODEL_7b5ee768a94e400597818d2f03bcca01",
              "IPY_MODEL_cf0a01b58de64a4596cb3eec2a5bd593",
              "IPY_MODEL_ac4c6bd230244c299391af7f64d18e09"
            ],
            "layout": "IPY_MODEL_de607aa325904d2c9e31b865d4adbae4"
          }
        },
        "7b5ee768a94e400597818d2f03bcca01": {
          "model_module": "@jupyter-widgets/controls",
          "model_name": "HTMLModel",
          "model_module_version": "1.5.0",
          "state": {
            "_dom_classes": [],
            "_model_module": "@jupyter-widgets/controls",
            "_model_module_version": "1.5.0",
            "_model_name": "HTMLModel",
            "_view_count": null,
            "_view_module": "@jupyter-widgets/controls",
            "_view_module_version": "1.5.0",
            "_view_name": "HTMLView",
            "description": "",
            "description_tooltip": null,
            "layout": "IPY_MODEL_02aa4b2de54a447e9aa12b16464c0dc5",
            "placeholder": "​",
            "style": "IPY_MODEL_1433a311ba0f4ee2be29ebca1a87dedf",
            "value": "generation_config.json: 100%"
          }
        },
        "cf0a01b58de64a4596cb3eec2a5bd593": {
          "model_module": "@jupyter-widgets/controls",
          "model_name": "FloatProgressModel",
          "model_module_version": "1.5.0",
          "state": {
            "_dom_classes": [],
            "_model_module": "@jupyter-widgets/controls",
            "_model_module_version": "1.5.0",
            "_model_name": "FloatProgressModel",
            "_view_count": null,
            "_view_module": "@jupyter-widgets/controls",
            "_view_module_version": "1.5.0",
            "_view_name": "ProgressView",
            "bar_style": "success",
            "description": "",
            "description_tooltip": null,
            "layout": "IPY_MODEL_eba01decda2a45dca62502e02c66bb8d",
            "max": 147,
            "min": 0,
            "orientation": "horizontal",
            "style": "IPY_MODEL_8f245829c24545c5a01aff8e0eb08e4e",
            "value": 147
          }
        },
        "ac4c6bd230244c299391af7f64d18e09": {
          "model_module": "@jupyter-widgets/controls",
          "model_name": "HTMLModel",
          "model_module_version": "1.5.0",
          "state": {
            "_dom_classes": [],
            "_model_module": "@jupyter-widgets/controls",
            "_model_module_version": "1.5.0",
            "_model_name": "HTMLModel",
            "_view_count": null,
            "_view_module": "@jupyter-widgets/controls",
            "_view_module_version": "1.5.0",
            "_view_name": "HTMLView",
            "description": "",
            "description_tooltip": null,
            "layout": "IPY_MODEL_60f437926beb42cd86fe5f1f8071d873",
            "placeholder": "​",
            "style": "IPY_MODEL_a0148186d309423c9751afd8dcff5d04",
            "value": " 147/147 [00:00&lt;00:00, 6.44kB/s]"
          }
        },
        "de607aa325904d2c9e31b865d4adbae4": {
          "model_module": "@jupyter-widgets/base",
          "model_name": "LayoutModel",
          "model_module_version": "1.2.0",
          "state": {
            "_model_module": "@jupyter-widgets/base",
            "_model_module_version": "1.2.0",
            "_model_name": "LayoutModel",
            "_view_count": null,
            "_view_module": "@jupyter-widgets/base",
            "_view_module_version": "1.2.0",
            "_view_name": "LayoutView",
            "align_content": null,
            "align_items": null,
            "align_self": null,
            "border": null,
            "bottom": null,
            "display": null,
            "flex": null,
            "flex_flow": null,
            "grid_area": null,
            "grid_auto_columns": null,
            "grid_auto_flow": null,
            "grid_auto_rows": null,
            "grid_column": null,
            "grid_gap": null,
            "grid_row": null,
            "grid_template_areas": null,
            "grid_template_columns": null,
            "grid_template_rows": null,
            "height": null,
            "justify_content": null,
            "justify_items": null,
            "left": null,
            "margin": null,
            "max_height": null,
            "max_width": null,
            "min_height": null,
            "min_width": null,
            "object_fit": null,
            "object_position": null,
            "order": null,
            "overflow": null,
            "overflow_x": null,
            "overflow_y": null,
            "padding": null,
            "right": null,
            "top": null,
            "visibility": null,
            "width": null
          }
        },
        "02aa4b2de54a447e9aa12b16464c0dc5": {
          "model_module": "@jupyter-widgets/base",
          "model_name": "LayoutModel",
          "model_module_version": "1.2.0",
          "state": {
            "_model_module": "@jupyter-widgets/base",
            "_model_module_version": "1.2.0",
            "_model_name": "LayoutModel",
            "_view_count": null,
            "_view_module": "@jupyter-widgets/base",
            "_view_module_version": "1.2.0",
            "_view_name": "LayoutView",
            "align_content": null,
            "align_items": null,
            "align_self": null,
            "border": null,
            "bottom": null,
            "display": null,
            "flex": null,
            "flex_flow": null,
            "grid_area": null,
            "grid_auto_columns": null,
            "grid_auto_flow": null,
            "grid_auto_rows": null,
            "grid_column": null,
            "grid_gap": null,
            "grid_row": null,
            "grid_template_areas": null,
            "grid_template_columns": null,
            "grid_template_rows": null,
            "height": null,
            "justify_content": null,
            "justify_items": null,
            "left": null,
            "margin": null,
            "max_height": null,
            "max_width": null,
            "min_height": null,
            "min_width": null,
            "object_fit": null,
            "object_position": null,
            "order": null,
            "overflow": null,
            "overflow_x": null,
            "overflow_y": null,
            "padding": null,
            "right": null,
            "top": null,
            "visibility": null,
            "width": null
          }
        },
        "1433a311ba0f4ee2be29ebca1a87dedf": {
          "model_module": "@jupyter-widgets/controls",
          "model_name": "DescriptionStyleModel",
          "model_module_version": "1.5.0",
          "state": {
            "_model_module": "@jupyter-widgets/controls",
            "_model_module_version": "1.5.0",
            "_model_name": "DescriptionStyleModel",
            "_view_count": null,
            "_view_module": "@jupyter-widgets/base",
            "_view_module_version": "1.2.0",
            "_view_name": "StyleView",
            "description_width": ""
          }
        },
        "eba01decda2a45dca62502e02c66bb8d": {
          "model_module": "@jupyter-widgets/base",
          "model_name": "LayoutModel",
          "model_module_version": "1.2.0",
          "state": {
            "_model_module": "@jupyter-widgets/base",
            "_model_module_version": "1.2.0",
            "_model_name": "LayoutModel",
            "_view_count": null,
            "_view_module": "@jupyter-widgets/base",
            "_view_module_version": "1.2.0",
            "_view_name": "LayoutView",
            "align_content": null,
            "align_items": null,
            "align_self": null,
            "border": null,
            "bottom": null,
            "display": null,
            "flex": null,
            "flex_flow": null,
            "grid_area": null,
            "grid_auto_columns": null,
            "grid_auto_flow": null,
            "grid_auto_rows": null,
            "grid_column": null,
            "grid_gap": null,
            "grid_row": null,
            "grid_template_areas": null,
            "grid_template_columns": null,
            "grid_template_rows": null,
            "height": null,
            "justify_content": null,
            "justify_items": null,
            "left": null,
            "margin": null,
            "max_height": null,
            "max_width": null,
            "min_height": null,
            "min_width": null,
            "object_fit": null,
            "object_position": null,
            "order": null,
            "overflow": null,
            "overflow_x": null,
            "overflow_y": null,
            "padding": null,
            "right": null,
            "top": null,
            "visibility": null,
            "width": null
          }
        },
        "8f245829c24545c5a01aff8e0eb08e4e": {
          "model_module": "@jupyter-widgets/controls",
          "model_name": "ProgressStyleModel",
          "model_module_version": "1.5.0",
          "state": {
            "_model_module": "@jupyter-widgets/controls",
            "_model_module_version": "1.5.0",
            "_model_name": "ProgressStyleModel",
            "_view_count": null,
            "_view_module": "@jupyter-widgets/base",
            "_view_module_version": "1.2.0",
            "_view_name": "StyleView",
            "bar_color": null,
            "description_width": ""
          }
        },
        "60f437926beb42cd86fe5f1f8071d873": {
          "model_module": "@jupyter-widgets/base",
          "model_name": "LayoutModel",
          "model_module_version": "1.2.0",
          "state": {
            "_model_module": "@jupyter-widgets/base",
            "_model_module_version": "1.2.0",
            "_model_name": "LayoutModel",
            "_view_count": null,
            "_view_module": "@jupyter-widgets/base",
            "_view_module_version": "1.2.0",
            "_view_name": "LayoutView",
            "align_content": null,
            "align_items": null,
            "align_self": null,
            "border": null,
            "bottom": null,
            "display": null,
            "flex": null,
            "flex_flow": null,
            "grid_area": null,
            "grid_auto_columns": null,
            "grid_auto_flow": null,
            "grid_auto_rows": null,
            "grid_column": null,
            "grid_gap": null,
            "grid_row": null,
            "grid_template_areas": null,
            "grid_template_columns": null,
            "grid_template_rows": null,
            "height": null,
            "justify_content": null,
            "justify_items": null,
            "left": null,
            "margin": null,
            "max_height": null,
            "max_width": null,
            "min_height": null,
            "min_width": null,
            "object_fit": null,
            "object_position": null,
            "order": null,
            "overflow": null,
            "overflow_x": null,
            "overflow_y": null,
            "padding": null,
            "right": null,
            "top": null,
            "visibility": null,
            "width": null
          }
        },
        "a0148186d309423c9751afd8dcff5d04": {
          "model_module": "@jupyter-widgets/controls",
          "model_name": "DescriptionStyleModel",
          "model_module_version": "1.5.0",
          "state": {
            "_model_module": "@jupyter-widgets/controls",
            "_model_module_version": "1.5.0",
            "_model_name": "DescriptionStyleModel",
            "_view_count": null,
            "_view_module": "@jupyter-widgets/base",
            "_view_module_version": "1.2.0",
            "_view_name": "StyleView",
            "description_width": ""
          }
        }
      }
    }
  },
  "cells": [
    {
      "cell_type": "code",
      "source": [
        "from google.colab import drive\n",
        "drive.mount('/content/drive')\n",
        "# if you need to get openai key from your google drive"
      ],
      "metadata": {
        "id": "PMYJIvXY9_vd",
        "colab": {
          "base_uri": "https://localhost:8080/"
        },
        "outputId": "5a257626-cd57-41eb-e6a8-735d00a06a03"
      },
      "execution_count": null,
      "outputs": [
        {
          "output_type": "stream",
          "name": "stdout",
          "text": [
            "Drive already mounted at /content/drive; to attempt to forcibly remount, call drive.mount(\"/content/drive\", force_remount=True).\n"
          ]
        }
      ]
    },
    {
      "cell_type": "markdown",
      "source": [
        "## LangChain\n",
        "\n",
        "LangChain is a framework for developing applications powered by language models. It helps work and build with LLM models easier. Via LangChain, the following two tasks are easier:\n",
        "\n",
        "1.   Integration - Bring external data, such as your files, other applications, and api data, to your LLMs\n",
        "2.   Agent - AAllow your LLMs to interact with it's environment via decision making. Use LLMs to help decide which action to take next\n",
        "\n",
        "You'll need an OpenAI api key to follow this tutorial. You can have it as an environement variable, in an .env file where this jupyter notebook lives, or insert it below where 'YourAPIKey' is. Have if you have questions on this, put these instructions into ChatGPT."
      ],
      "metadata": {
        "id": "c_GsPurV-wyI"
      }
    },
    {
      "cell_type": "markdown",
      "source": [
        "\n",
        "\n",
        "### Overview:\n",
        "- Models\n",
        "- Prompt Templates\n",
        "- Chains\n",
        "- Agents and Tools\n",
        "- Memory\n",
        "- Indexes"
      ],
      "metadata": {
        "id": "rMGgcW1z-Mso"
      }
    },
    {
      "cell_type": "markdown",
      "source": [
        "https://github.com/gkamradt/langchain-tutorials/blob/main/LangChain%20Cookbook%20Part%201%20-%20Fundamentals.ipynb"
      ],
      "metadata": {
        "id": "Nq2qOgTKPIN9"
      }
    },
    {
      "cell_type": "code",
      "source": [
        "## Install the libraries\n",
        "!pip install -q openai==1.5.0 llmx typing-extensions==4.5.0 python-dotenv\n",
        "!pip install -q langchain==0.1.4\n",
        "!pip install -q langchainhub\n",
        "!pip install -q transformers==4.35.2\n",
        "!pip install -q langchain-openai\n",
        "!pip install -q sentence_transformers\n",
        "!pip install -q faiss-cpu==1.7.4"
      ],
      "metadata": {
        "id": "-zioDGsBRBoD",
        "colab": {
          "base_uri": "https://localhost:8080/"
        },
        "outputId": "77613c18-00fd-44f9-cd9a-534c163c3538"
      },
      "execution_count": null,
      "outputs": [
        {
          "output_type": "stream",
          "name": "stdout",
          "text": [
            "\u001b[2K     \u001b[90m━━━━━━━━━━━━━━━━━━━━━━━━━━━━━━━━━━━━━━━━\u001b[0m \u001b[32m223.7/223.7 kB\u001b[0m \u001b[31m4.2 MB/s\u001b[0m eta \u001b[36m0:00:00\u001b[0m\n",
            "\u001b[2K     \u001b[90m━━━━━━━━━━━━━━━━━━━━━━━━━━━━━━━━━━━━━━━━\u001b[0m \u001b[32m75.9/75.9 kB\u001b[0m \u001b[31m7.5 MB/s\u001b[0m eta \u001b[36m0:00:00\u001b[0m\n",
            "\u001b[2K     \u001b[90m━━━━━━━━━━━━━━━━━━━━━━━━━━━━━━━━━━━━━━━━\u001b[0m \u001b[32m2.0/2.0 MB\u001b[0m \u001b[31m11.6 MB/s\u001b[0m eta \u001b[36m0:00:00\u001b[0m\n",
            "\u001b[2K     \u001b[90m━━━━━━━━━━━━━━━━━━━━━━━━━━━━━━━━━━━━━━━━\u001b[0m \u001b[32m52.1/52.1 kB\u001b[0m \u001b[31m3.8 MB/s\u001b[0m eta \u001b[36m0:00:00\u001b[0m\n",
            "\u001b[2K     \u001b[90m━━━━━━━━━━━━━━━━━━━━━━━━━━━━━━━━━━━━━━━━\u001b[0m \u001b[32m76.9/76.9 kB\u001b[0m \u001b[31m8.0 MB/s\u001b[0m eta \u001b[36m0:00:00\u001b[0m\n",
            "\u001b[2K     \u001b[90m━━━━━━━━━━━━━━━━━━━━━━━━━━━━━━━━━━━━━━━━\u001b[0m \u001b[32m58.3/58.3 kB\u001b[0m \u001b[31m4.7 MB/s\u001b[0m eta \u001b[36m0:00:00\u001b[0m\n",
            "\u001b[2K     \u001b[90m━━━━━━━━━━━━━━━━━━━━━━━━━━━━━━━━━━━━━━━━\u001b[0m \u001b[32m3.1/3.1 MB\u001b[0m \u001b[31m20.5 MB/s\u001b[0m eta \u001b[36m0:00:00\u001b[0m\n",
            "\u001b[2K     \u001b[90m━━━━━━━━━━━━━━━━━━━━━━━━━━━━━━━━━━━━━━━━\u001b[0m \u001b[32m803.6/803.6 kB\u001b[0m \u001b[31m6.6 MB/s\u001b[0m eta \u001b[36m0:00:00\u001b[0m\n",
            "\u001b[2K     \u001b[90m━━━━━━━━━━━━━━━━━━━━━━━━━━━━━━━━━━━━━━━━\u001b[0m \u001b[32m1.6/1.6 MB\u001b[0m \u001b[31m12.8 MB/s\u001b[0m eta \u001b[36m0:00:00\u001b[0m\n",
            "\u001b[2K     \u001b[90m━━━━━━━━━━━━━━━━━━━━━━━━━━━━━━━━━━━━━━━━\u001b[0m \u001b[32m237.0/237.0 kB\u001b[0m \u001b[31m14.0 MB/s\u001b[0m eta \u001b[36m0:00:00\u001b[0m\n",
            "\u001b[2K     \u001b[90m━━━━━━━━━━━━━━━━━━━━━━━━━━━━━━━━━━━━━━━━\u001b[0m \u001b[32m54.4/54.4 kB\u001b[0m \u001b[31m4.5 MB/s\u001b[0m eta \u001b[36m0:00:00\u001b[0m\n",
            "\u001b[2K     \u001b[90m━━━━━━━━━━━━━━━━━━━━━━━━━━━━━━━━━━━━━━━━\u001b[0m \u001b[32m49.4/49.4 kB\u001b[0m \u001b[31m1.9 MB/s\u001b[0m eta \u001b[36m0:00:00\u001b[0m\n",
            "\u001b[2K     \u001b[90m━━━━━━━━━━━━━━━━━━━━━━━━━━━━━━━━━━━━━━━━\u001b[0m \u001b[32m225.1/225.1 kB\u001b[0m \u001b[31m5.6 MB/s\u001b[0m eta \u001b[36m0:00:00\u001b[0m\n",
            "\u001b[?25h\u001b[31mERROR: pip's dependency resolver does not currently take into account all the packages that are installed. This behaviour is the source of the following dependency conflicts.\n",
            "tensorflow-probability 0.22.0 requires typing-extensions<4.6.0, but you have typing-extensions 4.9.0 which is incompatible.\u001b[0m\u001b[31m\n",
            "\u001b[2K     \u001b[90m━━━━━━━━━━━━━━━━━━━━━━━━━━━━━━━━━━━━━━━━\u001b[0m \u001b[32m132.8/132.8 kB\u001b[0m \u001b[31m2.4 MB/s\u001b[0m eta \u001b[36m0:00:00\u001b[0m\n",
            "\u001b[2K     \u001b[90m━━━━━━━━━━━━━━━━━━━━━━━━━━━━━━━━━━━━━━━━\u001b[0m \u001b[32m17.6/17.6 MB\u001b[0m \u001b[31m34.5 MB/s\u001b[0m eta \u001b[36m0:00:00\u001b[0m\n",
            "\u001b[?25h"
          ]
        }
      ]
    },
    {
      "cell_type": "markdown",
      "source": [
        "## 1. Models\n",
        "\n",
        "A generic interface for all [LLMs](https://python.langchain.com/docs/modules/model_io/). It can work with OpenAI and huggingface models."
      ],
      "metadata": {
        "id": "QuijoBfYnlH0"
      }
    },
    {
      "cell_type": "markdown",
      "source": [
        "#### 1.1 Huggingface models"
      ],
      "metadata": {
        "id": "JS1pf7g0_PAx"
      }
    },
    {
      "cell_type": "code",
      "source": [
        "from langchain_community.llms.huggingface_pipeline import HuggingFacePipeline\n",
        "from transformers import AutoModelForSeq2SeqLM, AutoTokenizer, pipeline"
      ],
      "metadata": {
        "id": "k68P-4J3u0Ll"
      },
      "execution_count": null,
      "outputs": []
    },
    {
      "cell_type": "code",
      "source": [
        "tokenizer = AutoTokenizer.from_pretrained(\"google/flan-t5-small\") #77m\n",
        "model = AutoModelForSeq2SeqLM.from_pretrained(\"google/flan-t5-small\")\n",
        "pipe = pipeline(\"text2text-generation\", model=model, tokenizer=tokenizer, max_new_tokens=500) #text2text-generation is the huggingface predefined task and model specific\n",
        "# The full list of supported tasks is at https://huggingface.co/docs/transformers/en/main_classes/pipelines#transformers.pipeline.task\n",
        "hf_small = HuggingFacePipeline(pipeline=pipe)"
      ],
      "metadata": {
        "id": "453wsKn-9jRh"
      },
      "execution_count": null,
      "outputs": []
    },
    {
      "cell_type": "markdown",
      "source": [
        "#### 1.2 OpenAI model\n",
        "\n",
        "You'll need an OpenAI api key to follow this part. You can have it as an environement variable, in an .env file where this jupyter notebook lives, or insert it below where 'YourAPIKey' is."
      ],
      "metadata": {
        "id": "H0rHUDQb_eIe"
      }
    },
    {
      "cell_type": "code",
      "source": [
        "path = \"drive/MyDrive/docs/openai_key\"\n",
        "file = open(path, \"r\")\n",
        "openai_key = file.read()\n",
        "file.close()\n",
        "import os\n",
        "os.environ[\"OPENAI_API_KEY\"] = openai_key"
      ],
      "metadata": {
        "id": "K8EJUgtO_X-r"
      },
      "execution_count": null,
      "outputs": []
    },
    {
      "cell_type": "code",
      "source": [
        "from langchain_openai import OpenAI\n",
        "simple_qn = \"What day comes after Friday?\"\n",
        "llm = OpenAI(temperature=0.9)  # model_name=\"text-davinci-003\"\n",
        "print(llm.invoke(simple_qn))"
      ],
      "metadata": {
        "colab": {
          "base_uri": "https://localhost:8080/"
        },
        "id": "DQg6WjYCApR1",
        "outputId": "94ab5a3b-13c2-4a2c-89dd-b5531355feee"
      },
      "execution_count": null,
      "outputs": [
        {
          "output_type": "stream",
          "name": "stdout",
          "text": [
            "\n",
            "\n",
            "Saturday comes after Friday.\n"
          ]
        }
      ]
    },
    {
      "cell_type": "markdown",
      "source": [
        "## 2. Prompt Templates\n",
        "\n",
        "LangChain faciliates prompt management and optimization. And Prompt is also important for LLM's performances. When we use an LLM in an applicaiton, we always take the user input and construct a prompt, and then send that to the LLM.\n",
        "\n",
        "In LangChain, prompt template is the object that helps creating prompts based on a combination of user input, other non-static information and a fixed template string. (kind of an f-string in python)\n",
        "\n",
        "\n",
        "And check out [LangSmithHub](https://docs.smith.langchain.com/hub/quickstart) for many more communit prompt templates"
      ],
      "metadata": {
        "id": "CAUpzmQoCV-4"
      }
    },
    {
      "cell_type": "code",
      "source": [
        "from langchain import PromptTemplate\n",
        "study_prompt = PromptTemplate.from_template(\"How can we learn {subject} better?\")\n",
        "sample_prompt = study_prompt.format(subject=\"machine learning\")\n",
        "hf_small(sample_prompt)"
      ],
      "metadata": {
        "colab": {
          "base_uri": "https://localhost:8080/",
          "height": 35
        },
        "id": "SB-mZ52VDIYt",
        "outputId": "cbe93f64-10f3-48d7-b3bb-5b1165cbd46b"
      },
      "execution_count": null,
      "outputs": [
        {
          "output_type": "execute_result",
          "data": {
            "text/plain": [
              "'Use a syllable to read the machine learning instructions.'"
            ],
            "application/vnd.google.colaboratory.intrinsic+json": {
              "type": "string"
            }
          },
          "metadata": {},
          "execution_count": 11
        }
      ]
    },
    {
      "cell_type": "code",
      "source": [
        "template = \"\"\"Question: {question}\n",
        "\n",
        "Let's think step by step.\n",
        "\n",
        "Answer: \"\"\"\n",
        "\n",
        "prompt = PromptTemplate(template=template, input_variables=[\"question\"])\n",
        "final_prompt = prompt.format(question=\"Can Arsenal win the Premier League?\")\n",
        "print(final_prompt)\n",
        "print(llm.invoke(final_prompt))"
      ],
      "metadata": {
        "id": "PSGTr_5kDPla",
        "colab": {
          "base_uri": "https://localhost:8080/"
        },
        "outputId": "396cc9b5-a064-4f19-844c-621dcef8eae8"
      },
      "execution_count": null,
      "outputs": [
        {
          "output_type": "stream",
          "name": "stdout",
          "text": [
            "Question: Can Arsenal win the Premier League?\n",
            "\n",
            "Let's think step by step.\n",
            "\n",
            "Answer: \n",
            " It is certainly a possibility for Arsenal to win the Premier League, but it is not guaranteed. They have a strong squad and talented players, but there are also other top teams in the league, such as Manchester City, Liverpool, and Chelsea, who will also be vying for the title.\n",
            "\n",
            "Additionally, Arsenal has not won the Premier League since the 2003-2004 season, and they have struggled to consistently compete for the title in recent years. However, with the right strategy, tactics, and team cohesion, they could potentially make a strong push for the title.\n",
            "\n",
            "Ultimately, only time will tell if Arsenal can win the Premier League, but as with any team, it will require hard work, determination, and a bit of luck.\n"
          ]
        }
      ]
    },
    {
      "cell_type": "markdown",
      "source": [
        "## 3. Chains\n",
        "\n",
        "Combine different LLM calls and action automatically. For example, we can give one prompt to the language model and the output of that prompt you want to use it as an input to another call/LLM and so on.\n",
        "\n"
      ],
      "metadata": {
        "id": "4EaDulIfEFfI"
      }
    },
    {
      "cell_type": "code",
      "source": [
        "from langchain.chains import LLMChain"
      ],
      "metadata": {
        "id": "CDrtdYFOEcD0"
      },
      "execution_count": null,
      "outputs": []
    },
    {
      "cell_type": "code",
      "source": [
        "# load a larger hf model and compare the performance\n",
        "tokenizer = AutoTokenizer.from_pretrained(\"google/flan-t5-base\") #248m\n",
        "model = AutoModelForSeq2SeqLM.from_pretrained(\"google/flan-t5-base\")\n",
        "pipe = pipeline(\"text2text-generation\", model=model, tokenizer=tokenizer, max_new_tokens=500)\n",
        "hf_base = HuggingFacePipeline(pipeline=pipe)"
      ],
      "metadata": {
        "colab": {
          "base_uri": "https://localhost:8080/",
          "height": 241,
          "referenced_widgets": [
            "d9dd34527fb94b1db9ddb32ce9d8feca",
            "cc55e2fe2b0d4ad4b209c5d2063ceac2",
            "4a7a3e00f6e14de7a2c751112fa7ef75",
            "ee56ef9727ed4fcb835463648ec9daad",
            "a6cf84666bd243e28e2692598b1b601a",
            "97be1225f4e4470eaccdf34b2221dfde",
            "aa65a9e0a33a4d44b2f896d40d97cf0d",
            "52f8202394b74a23b00d0004c5fb3b9e",
            "f851a55ef2d54041930abb9b4f48d65c",
            "313534a521fb4c75880e6188ec895032",
            "3ed255d3cccb4d1c8fb45e913f7d029e",
            "8c902446316a49848c0091ee7ae33d48",
            "3571d85a8615406fb48a6e681012efb8",
            "699d138664fe41a2ad38eaff20c555c1",
            "87b9c51ce24e49a181e52a6a9b3e7641",
            "04331cd077ad4f4184027714f2dbd00f",
            "2df771c96fe144bfabd6de5d6ef3c335",
            "2f671e9b383043818dd9b26df6b707bc",
            "460a367bb85647599ef73f2ff0e24e9d",
            "92c66e45351b4921a520bf02bd808f26",
            "b3307b7db3c44deab748d72d5e96c611",
            "cf8dd359b71f4edcaea57976a23d314f",
            "4b70ce5b348f481596bd0555c27dfc7f",
            "49245965c23143729e02395e96351c24",
            "07c708eb97ad46efaea89a17b70aaac7",
            "7e40feaa1a35431799335529928b5c5a",
            "19f6602a377747cf8de2fe93c7878201",
            "734c281f17834064b467e4513e2f2859",
            "3466593c37b14131b644e105de0b7358",
            "2bf31d8440dd40dba1af682d5c063daa",
            "b826bc79ff6848a2bf5cc3b76c41c42a",
            "645ae7fa08e1493f97eaa49296542376",
            "4893ee3bf1bb4deca57c15c5c3edf6e9",
            "125051ee289043f6b387aefc9bb40b95",
            "dc5d00c0ddb641a1a8c506e2be271d0e",
            "15c25ecfc394486aa668c7441f1421b6",
            "72313c86233e412f871b06440ad52609",
            "efddcc0bbc024aa2b0ff907e97b1209f",
            "bbc3b0c0630547f18fe457ddacdaaa5d",
            "fcab8e93def348ecbb1bfeae58470b68",
            "c519f10c742f4e888340631ae5a7dd97",
            "7c89f784c6a8410185497985415dce8e",
            "1bce7035076c427986f9de72865e62f1",
            "468f8b51decf45bf8457a31b94fce511",
            "e850fe44a9054da3afbab21ff9f5e842",
            "4dff5b748ae846638f832c4c75b31ed0",
            "b0e03e3ad5024626b4afa1d4b4f8d4d2",
            "86c54c0f86924a61ab250339a74fe4cc",
            "0e91f1920077471db86a83c28646de69",
            "8f66bcecd0814fd69358a9f13cc2e7ce",
            "82722a4e5514402ab958a4733321ab9c",
            "d1cf28908fe44a76b9cf28f636cd11a6",
            "2323c20819894bd8adf7613c94be43a2",
            "72791f6c616a42c1b4cef4b176355937",
            "2f817bb4f75d41cb9572d644418d62c8",
            "0cf91884a99642479135f91fa6c21244",
            "e59a3b4828824953852bb8824df055c5",
            "ee9d45afec4c4e098685e2dd2812b3e7",
            "4a6454f71de24eabbdafc04fe4c10ee6",
            "7a77f79296bc41e0bc5de957921f749f",
            "e57877e0db7d42379d5175ee1e1d8304",
            "d5d458b4cfc04e8aa6afecdcb93d7d58",
            "60ea874a475046f59aabf0c575d4bf0b",
            "4c584d2842d14d9da3a770191b28d1a6",
            "90c3f2959be54992886d857ce88d759e",
            "3ce3ce7e10dd458cadb811ab840260eb",
            "6afce8fee1cb4b4abe715ed7ee7bad8e",
            "7b5ee768a94e400597818d2f03bcca01",
            "cf0a01b58de64a4596cb3eec2a5bd593",
            "ac4c6bd230244c299391af7f64d18e09",
            "de607aa325904d2c9e31b865d4adbae4",
            "02aa4b2de54a447e9aa12b16464c0dc5",
            "1433a311ba0f4ee2be29ebca1a87dedf",
            "eba01decda2a45dca62502e02c66bb8d",
            "8f245829c24545c5a01aff8e0eb08e4e",
            "60f437926beb42cd86fe5f1f8071d873",
            "a0148186d309423c9751afd8dcff5d04"
          ]
        },
        "id": "zKpF5l3_FKWK",
        "outputId": "1a346687-4fad-4e26-d319-bf42d3201ff4"
      },
      "execution_count": null,
      "outputs": [
        {
          "output_type": "display_data",
          "data": {
            "text/plain": [
              "tokenizer_config.json:   0%|          | 0.00/2.54k [00:00<?, ?B/s]"
            ],
            "application/vnd.jupyter.widget-view+json": {
              "version_major": 2,
              "version_minor": 0,
              "model_id": "d9dd34527fb94b1db9ddb32ce9d8feca"
            }
          },
          "metadata": {}
        },
        {
          "output_type": "display_data",
          "data": {
            "text/plain": [
              "spiece.model:   0%|          | 0.00/792k [00:00<?, ?B/s]"
            ],
            "application/vnd.jupyter.widget-view+json": {
              "version_major": 2,
              "version_minor": 0,
              "model_id": "8c902446316a49848c0091ee7ae33d48"
            }
          },
          "metadata": {}
        },
        {
          "output_type": "display_data",
          "data": {
            "text/plain": [
              "tokenizer.json:   0%|          | 0.00/2.42M [00:00<?, ?B/s]"
            ],
            "application/vnd.jupyter.widget-view+json": {
              "version_major": 2,
              "version_minor": 0,
              "model_id": "4b70ce5b348f481596bd0555c27dfc7f"
            }
          },
          "metadata": {}
        },
        {
          "output_type": "display_data",
          "data": {
            "text/plain": [
              "special_tokens_map.json:   0%|          | 0.00/2.20k [00:00<?, ?B/s]"
            ],
            "application/vnd.jupyter.widget-view+json": {
              "version_major": 2,
              "version_minor": 0,
              "model_id": "125051ee289043f6b387aefc9bb40b95"
            }
          },
          "metadata": {}
        },
        {
          "output_type": "display_data",
          "data": {
            "text/plain": [
              "config.json:   0%|          | 0.00/1.40k [00:00<?, ?B/s]"
            ],
            "application/vnd.jupyter.widget-view+json": {
              "version_major": 2,
              "version_minor": 0,
              "model_id": "e850fe44a9054da3afbab21ff9f5e842"
            }
          },
          "metadata": {}
        },
        {
          "output_type": "display_data",
          "data": {
            "text/plain": [
              "model.safetensors:   0%|          | 0.00/990M [00:00<?, ?B/s]"
            ],
            "application/vnd.jupyter.widget-view+json": {
              "version_major": 2,
              "version_minor": 0,
              "model_id": "0cf91884a99642479135f91fa6c21244"
            }
          },
          "metadata": {}
        },
        {
          "output_type": "display_data",
          "data": {
            "text/plain": [
              "generation_config.json:   0%|          | 0.00/147 [00:00<?, ?B/s]"
            ],
            "application/vnd.jupyter.widget-view+json": {
              "version_major": 2,
              "version_minor": 0,
              "model_id": "6afce8fee1cb4b4abe715ed7ee7bad8e"
            }
          },
          "metadata": {}
        }
      ]
    },
    {
      "cell_type": "code",
      "source": [
        "# have a\n",
        "chain_small = LLMChain(llm=hf_small, prompt=study_prompt)\n",
        "chain_base = LLMChain(llm=hf_base, prompt=study_prompt)\n",
        "chain_openai  = LLMChain(llm=llm, prompt=study_prompt)"
      ],
      "metadata": {
        "id": "cdwuwZznEwT0"
      },
      "execution_count": null,
      "outputs": []
    },
    {
      "cell_type": "code",
      "source": [
        "for topic in [\"machine learning\", \"dancing\"]:\n",
        "  print(f'The question is: {study_prompt.format(subject=topic)}')\n",
        "  print(f'The small model genereates: {chain_small.invoke(topic)}')\n",
        "  print(f'The base model genereates: {chain_base.invoke(topic)}')\n",
        "  print(f'The oepnai model genereates: {chain_openai.invoke(topic)}')\n",
        "  print('=================================================================================')"
      ],
      "metadata": {
        "colab": {
          "base_uri": "https://localhost:8080/"
        },
        "id": "9wlqgpS9FcI0",
        "outputId": "f201d263-115c-4ebf-d25c-de774ba64823"
      },
      "execution_count": null,
      "outputs": [
        {
          "output_type": "stream",
          "name": "stdout",
          "text": [
            "The question is: How can we learn machine learning better?\n",
            "The small model genereates: {'subject': 'machine learning', 'text': 'Use a syllable to read the machine learning instructions.'}\n",
            "The base model genereates: {'subject': 'machine learning', 'text': 'We can learn to learn from the data we collect.'}\n",
            "The oepnai model genereates: {'subject': 'machine learning', 'text': '\\n\\n1. Start with the basics: Before diving into complex algorithms and models, it is important to have a strong foundation in the fundamentals of machine learning such as statistics, linear algebra, and probability theory.\\n\\n2. Take an online course: There are many online courses available that cover the basics as well as advanced concepts in machine learning. Some popular ones include Coursera, Udacity, and edX.\\n\\n3. Read books: There are many books on machine learning that cover a wide range of topics in detail. Some recommended titles are \"The Hundred-Page Machine Learning Book\" by Andriy Burkov and \"Pattern Recognition and Machine Learning\" by Christopher Bishop.\\n\\n4. Work on real-world projects: Hands-on experience is crucial in understanding machine learning concepts and techniques. Look for datasets online and try to build models to solve real-world problems.\\n\\n5. Join online communities: There are many online communities and forums where machine learning enthusiasts and experts share their knowledge and insights. Joining these communities can help in staying up-to-date with the latest developments and learning from others\\' experiences.\\n\\n6. Attend workshops and conferences: Attending workshops and conferences is a great way to learn from industry experts and network with like-minded individuals.\\n\\n7. Practice coding: Machine learning involves a lot'}\n",
            "=================================================================================\n",
            "The question is: How can we learn dancing better?\n",
            "The small model genereates: {'subject': 'dancing', 'text': 'Use a syringe to syncing and syncing.'}\n",
            "The base model genereates: {'subject': 'dancing', 'text': 'Practice dancing with a partner.'}\n",
            "The oepnai model genereates: {'subject': 'dancing', 'text': \"1. Take regular classes: The most important aspect of becoming a better dancer is to practice regularly. Join a dance class or hire a dance instructor to receive proper guidance and training.\\n\\n2. Focus on technique: It's important to pay attention to the proper techniques of each dance style. This will not only improve your skills but also prevent any injuries.\\n\\n3. Watch videos: There are plenty of dance tutorials and performances available online. Watch and learn from them to understand the movements and techniques.\\n\\n4. Practice at home: Along with attending classes, it's essential to practice at home as well. This will help you improve muscle memory and develop your own style.\\n\\n5. Attend workshops and masterclasses: Attend workshops and masterclasses with professional dancers to learn different styles, techniques, and choreography.\\n\\n6. Learn from different teachers: Learning from different teachers will expose you to different styles and methods, helping you become a more versatile dancer.\\n\\n7. Record yourself: Record your dance practice sessions to analyze your progress and make necessary improvements.\\n\\n8. Join a dance team: Joining a dance team or a performance group will not only give you more opportunities to perform but also help you learn from others and improve your skills.\\n\\n9. Listen to music: Listen to the music you are dancing\"}\n",
            "=================================================================================\n"
          ]
        }
      ]
    },
    {
      "cell_type": "markdown",
      "source": [
        "\n",
        "#### Simple Sequential Chains\n",
        "Next, let us try the simple sequential chain which will help to build the chain of LLM easily."
      ],
      "metadata": {
        "id": "ojidcKEWi1Jt"
      }
    },
    {
      "cell_type": "code",
      "source": [
        "from langchain.chains import SimpleSequentialChain"
      ],
      "metadata": {
        "id": "WUAxaBEVF69N"
      },
      "execution_count": null,
      "outputs": []
    },
    {
      "cell_type": "code",
      "source": [
        "template = \"\"\"Your job is to come up with a classic dish from the area that the users suggests.\n",
        "% USER LOCATION\n",
        "{user_location}\n",
        "\n",
        "YOUR RESPONSE:\n",
        "\"\"\"\n",
        "prompt_template = PromptTemplate(input_variables=[\"user_location\"], template=template)\n",
        "\n",
        "# Holds my 'location' chain\n",
        "location_chain = LLMChain(llm=llm, prompt=prompt_template)"
      ],
      "metadata": {
        "id": "xXp7o2iGGBMW"
      },
      "execution_count": null,
      "outputs": []
    },
    {
      "cell_type": "code",
      "source": [
        "template = \"\"\"Given a meal, give a short and simple recipe on how to make that dish at home.\n",
        "% MEAL\n",
        "{user_meal}\n",
        "\n",
        "YOUR RESPONSE:\n",
        "\"\"\"\n",
        "prompt_template = PromptTemplate(input_variables=[\"user_meal\"], template=template)\n",
        "\n",
        "# Holds my 'meal' chain\n",
        "meal_chain = LLMChain(llm=llm, prompt=prompt_template)"
      ],
      "metadata": {
        "id": "2Na2-dENGCGJ"
      },
      "execution_count": null,
      "outputs": []
    },
    {
      "cell_type": "code",
      "source": [
        "overall_chain = SimpleSequentialChain(chains=[location_chain, meal_chain], verbose=True)\n",
        "review = overall_chain.invoke(\"Beijing\")"
      ],
      "metadata": {
        "colab": {
          "base_uri": "https://localhost:8080/"
        },
        "id": "YLb9oPYOGGM-",
        "outputId": "5127b023-4dc5-4f3e-ac91-992a06820f98"
      },
      "execution_count": null,
      "outputs": [
        {
          "output_type": "stream",
          "name": "stdout",
          "text": [
            "\n",
            "\n",
            "\u001b[1m> Entering new SimpleSequentialChain chain...\u001b[0m\n",
            "\u001b[36;1m\u001b[1;3mOne classic dish from Beijing is Peking Duck, also known as Beijing Roast Duck. It is a traditional dish that originated from the imperial kitchens of the Qing Dynasty. The dish consists of a specially bred white-feathered duck that is roasted until the skin is crispy and the meat is tender and juicy. The duck is typically served with thin pancakes, scallions, and a sweet bean sauce for wrapping and adding flavor. Peking Duck is a must-try dish when visiting Beijing and is often enjoyed as a celebratory meal or at special occasions.\u001b[0m\n",
            "\u001b[33;1m\u001b[1;3mTo make Peking Duck at home, begin by preheating your oven to 375°F (190°C). Clean and dry a whole duck and prick the skin all over with a fork. In a separate bowl, mix together 1/4 cup of honey, 1/4 cup of soy sauce, 1 tablespoon of rice vinegar, and 1 teaspoon of five-spice powder. Rub this mixture all over the duck, including inside the cavity. Place the duck on a roasting rack in a roasting pan and roast for approximately 1 hour and 30 minutes, or until the skin is golden brown and crispy. Allow the duck to rest for 10 minutes before carving. In the meantime, heat up store-bought thin pancakes in a steamer or microwave. To serve, spread a small amount of hoisin sauce on a pancake, add sliced scallions, and a piece of the crispy duck skin. Fold the pancake and enjoy your homemade Peking Duck!\u001b[0m\n",
            "\n",
            "\u001b[1m> Finished chain.\u001b[0m\n"
          ]
        }
      ]
    },
    {
      "cell_type": "code",
      "source": [
        "print(review['output'])"
      ],
      "metadata": {
        "colab": {
          "base_uri": "https://localhost:8080/"
        },
        "id": "n22WNw2UGu0N",
        "outputId": "7f0c0781-00ee-4cbd-aa00-ac9c99a36704"
      },
      "execution_count": null,
      "outputs": [
        {
          "output_type": "stream",
          "name": "stdout",
          "text": [
            "Here is a simple recipe for Peking Duck that you can make at home:\n",
            "\n",
            "Ingredients:\n",
            "- 1 whole duck, about 5 to 6 pounds\n",
            "- ½ cup honey\n",
            "- ¼ cup soy sauce\n",
            "- 2 tablespoons hoisin sauce\n",
            "- 2 tablespoons rice vinegar\n",
            "- 1 tablespoon Chinese five-spice powder\n",
            "- 1 teaspoon salt\n",
            "- 1 teaspoon black pepper\n",
            "- 10-12 thin pancakes\n",
            "- 1 bunch scallions, cut into strips\n",
            "- 1 cucumber, cut into strips\n",
            "- Hoisin sauce for serving\n",
            "\n",
            "Instructions:\n",
            "1. Preheat your oven to 350 degrees Fahrenheit.\n",
            "2. In a small bowl, mix together the honey, soy sauce, hoisin sauce, rice vinegar, Chinese five-spice powder, salt, and black pepper. Set aside.\n",
            "3. Remove any excess fat from the duck and pat it dry with paper towels.\n",
            "4. Place the duck on a roasting rack and brush the honey mixture all over the duck.\n",
            "5. Cover the duck with foil and place it in the oven. Roast for 1 hour.\n",
            "6. Remove the foil and continue roasting for another 30 minutes, basting the duck with the honey mixture every 10 minutes.\n",
            "\n"
          ]
        }
      ]
    },
    {
      "cell_type": "markdown",
      "source": [
        "you can try those \"small\" huggingface models and compare their performance."
      ],
      "metadata": {
        "id": "XsIWt0V4G4a1"
      }
    },
    {
      "cell_type": "markdown",
      "source": [
        "## 4. Agents and Tools\n",
        "\n",
        "Agents can be thought of “bots” which take action. They are going to chain together different actions in LangChain.\n",
        "\n",
        "LLM is working as the brain in the Agents controlling which action to take and in what order.\n",
        "\n",
        "An action can be either:\n",
        "- using a tool and observing its output\n",
        "- returning it to the user directly\n",
        "\n",
        "Following parameters are required when creating an Agent:\n",
        "\n",
        "1. Tool: A tool is a function that performs a particular duty. This can be Google search, Database Lookup, other chains. The interface for a tool is currently a function that is expected to have a string as an input with a string as an output.\n",
        "\n",
        "2. LLM: The language model powering the agent.\n",
        "\n",
        "3. Agent: The agent to use. This should be a string that references a support agent class. For example, we are going to use [ReAcT](https://react-lm.github.io/) agent.\n"
      ],
      "metadata": {
        "id": "EI0FFbxqi2WE"
      }
    },
    {
      "cell_type": "code",
      "source": [
        "from langchain.agents import load_tools\n",
        "from langchain.agents.agent_types import AgentType\n",
        "from langchain.agents import create_react_agent, AgentExecutor\n",
        "from langchain import hub\n",
        "\n",
        "tools = load_tools(\n",
        "    [\"llm-math\"],\n",
        "    llm=llm\n",
        ")\n",
        "# Get the prompt to use - you can modify this!\n",
        "prompt = hub.pull(\"hwchase17/react\")"
      ],
      "metadata": {
        "id": "Y7qpV89C-fY_"
      },
      "execution_count": null,
      "outputs": []
    },
    {
      "cell_type": "code",
      "source": [
        "print(prompt)"
      ],
      "metadata": {
        "colab": {
          "base_uri": "https://localhost:8080/"
        },
        "id": "3foFVjauG00f",
        "outputId": "55850234-fda6-4492-c21e-b9d30304a2bf"
      },
      "execution_count": null,
      "outputs": [
        {
          "output_type": "stream",
          "name": "stdout",
          "text": [
            "input_variables=['agent_scratchpad', 'input', 'tool_names', 'tools'] template='Answer the following questions as best you can. You have access to the following tools:\\n\\n{tools}\\n\\nUse the following format:\\n\\nQuestion: the input question you must answer\\nThought: you should always think about what to do\\nAction: the action to take, should be one of [{tool_names}]\\nAction Input: the input to the action\\nObservation: the result of the action\\n... (this Thought/Action/Action Input/Observation can repeat N times)\\nThought: I now know the final answer\\nFinal Answer: the final answer to the original input question\\n\\nBegin!\\n\\nQuestion: {input}\\nThought:{agent_scratchpad}'\n"
          ]
        }
      ]
    },
    {
      "cell_type": "code",
      "source": [
        "# Construct the ReAct agent\n",
        "agent = create_react_agent(llm, tools, prompt)"
      ],
      "metadata": {
        "id": "6TwdWuVL-5KX"
      },
      "execution_count": null,
      "outputs": []
    },
    {
      "cell_type": "code",
      "source": [
        "# Create an agent executor by passing in the agent and tools\n",
        "query = \"What's the result of an investment of $10,000 growing at 4% annually for 5 years with compound interest?\"\n",
        "agent_executor = AgentExecutor(agent=agent, tools=tools, verbose=True, max_iterations=10)\n",
        "result = agent_executor.invoke({\"input\": query})"
      ],
      "metadata": {
        "id": "PU7ANKQCyJtQ",
        "colab": {
          "base_uri": "https://localhost:8080/"
        },
        "outputId": "c36719de-a628-468b-b707-06eaf0a7ba8d"
      },
      "execution_count": null,
      "outputs": [
        {
          "output_type": "stream",
          "name": "stdout",
          "text": [
            "\n",
            "\n",
            "\u001b[1m> Entering new AgentExecutor chain...\u001b[0m\n",
            "\u001b[32;1m\u001b[1;3m To calculate compound interest, I need to know the formula and have access to a calculator.\n",
            "Action: Calculator\n",
            "Action Input: $10,000 * (1 + 0.04)^5\u001b[0m\u001b[36;1m\u001b[1;3mAnswer: 12166.529024000001\u001b[0m\u001b[32;1m\u001b[1;3mI now know the final answer.\n",
            "Final Answer: $12,166.53\u001b[0m\n",
            "\n",
            "\u001b[1m> Finished chain.\u001b[0m\n"
          ]
        },
        {
          "output_type": "execute_result",
          "data": {
            "text/plain": [
              "{'input': \"What's the result of an investment of $10,000 growing at 4% annually for 5 years with compound interest?\",\n",
              " 'output': '$12,166.53'}"
            ]
          },
          "metadata": {},
          "execution_count": 33
        }
      ]
    },
    {
      "cell_type": "markdown",
      "source": [
        "## 5. Memory\n",
        "\n",
        "Memory is the concept of persisting state between calls of a chain/agent. LangChain provides a standard interface for memory, a collection of memory implementations, and examples of chains/agents that use memory.\n",
        "\n",
        "It is as simple as remembering information we have chatted about in the past or more complicated information retrieval.\n"
      ],
      "metadata": {
        "id": "TKJdF1aqHeij"
      }
    },
    {
      "cell_type": "code",
      "source": [
        "from langchain.memory import ConversationBufferMemory\n",
        "memory = ConversationBufferMemory(memory_key=\"chat_history\")\n",
        "\n",
        "query = \"If we start with $15,000 instead and follow the same 8% annual growth for 5 years with compound interest, how much more would we have compared to the previous scenario?\"\n",
        "agent_executor = AgentExecutor(agent=agent, tools=tools, memory=memory, verbose=True)\n",
        "result = agent_executor.invoke({\"input\": query})"
      ],
      "metadata": {
        "id": "T5DQE95q_SD9",
        "colab": {
          "base_uri": "https://localhost:8080/"
        },
        "outputId": "cf52b512-b383-4161-9af2-d2f343a86aaa"
      },
      "execution_count": null,
      "outputs": [
        {
          "output_type": "stream",
          "name": "stdout",
          "text": [
            "\n",
            "\n",
            "\u001b[1m> Entering new AgentExecutor chain...\u001b[0m\n",
            "\u001b[32;1m\u001b[1;3m We can use the compound interest formula to solve this problem.\n",
            "Action: Calculator\n",
            "Action Input: 15000 * (1 + 0.08)^5\u001b[0m\u001b[36;1m\u001b[1;3mAnswer: 22039.92115200001\u001b[0m\u001b[32;1m\u001b[1;3m We now know the amount we would have after 5 years.\n",
            "Action: Calculator\n",
            "Action Input: 22039.92115200001 - 20000\u001b[0m\u001b[36;1m\u001b[1;3mAnswer: 2039.92115200001\u001b[0m\u001b[32;1m\u001b[1;3m I now know the final answer.\n",
            "Final Answer: $2,039.92 more than the previous scenario.\u001b[0m\n",
            "\n",
            "\u001b[1m> Finished chain.\u001b[0m\n"
          ]
        },
        {
          "output_type": "execute_result",
          "data": {
            "text/plain": [
              "{'input': 'If we start with $15,000 instead and follow the same 8% annual growth for 5 years with compound interest, how much more would we have compared to the previous scenario?',\n",
              " 'chat_history': '',\n",
              " 'output': '$2,039.92 more than the previous scenario.'}"
            ]
          },
          "metadata": {},
          "execution_count": 34
        }
      ]
    },
    {
      "cell_type": "markdown",
      "source": [
        "## 6. Indexes\n",
        "\n",
        "Indexes refer to ways to structure documents so that LLMs can best interact with them. This module contains the following steps:\n",
        "\n",
        "- Document Loaders: load the data into \"document\"\n",
        "- Text Splitters: When you want to deal with long pieces of text, it is necessary to split up that text into chunks.\n",
        "- Embeddings: An embedding is a numerical representation of a piece of information, for example, text, documents, images, audio, etc.\n",
        "- Vectorstores: Vector databases store and index vector embeddings from NLP models to understand the meaning and context of strings of text, sentences, and whole documents for more accurate and relevant search results."
      ],
      "metadata": {
        "id": "SrXCmZ2-H_jR"
      }
    },
    {
      "cell_type": "markdown",
      "source": [
        "Load sample text as the external knowledge"
      ],
      "metadata": {
        "id": "bU_Q5rUnr1_q"
      }
    },
    {
      "cell_type": "code",
      "source": [
        "import requests\n",
        "\n",
        "url = \"https://raw.githubusercontent.com/bt5153msba/bt5153msba.github.io/master/material/msba.txt\"\n",
        "res = requests.get(url)\n",
        "with open(\"sample.txt\", \"w\") as f:\n",
        "  print(res.text)\n",
        "  f.write(res.text)"
      ],
      "metadata": {
        "colab": {
          "base_uri": "https://localhost:8080/"
        },
        "id": "mfBt0rl5Iz7O",
        "outputId": "e8c34149-904e-4f50-d306-24122a33f0b2"
      },
      "execution_count": null,
      "outputs": [
        {
          "output_type": "stream",
          "name": "stdout",
          "text": [
            "The NUS Business Analytics Centre (BAC) was established in 2013, in collaboration with IBM, to develop the skills and knowledge of professionals in business analytics.\n",
            "\n",
            "In a 5-year partnership that ensued, with IBM contributing industrial knowledge and NUS offering academic expertise, BAC offered and hosted the NUS Master of Science in Business Analytics (MSBA) programme. \n",
            "\n",
            "Based in Singapore, students both local and international, enrolled in this master's degree programme are trained to meet the growing demand of companies who are looking to improve their operations through business analytics.\n",
            "\n",
            "NUS Master of Science in Business Analytics (MSBA) students are well-equipped with the expertise to excel in the data analytics field and serve a variety of industries such as retail, finance, information technology, healthcare and supply chain. \n",
            "\n",
            "To date, 300 industrial analytics projects have been accomplished by NUS MSBA students, with the institution developing valuable partnerships with over 100 organisations.\n",
            "\n"
          ]
        }
      ]
    },
    {
      "cell_type": "markdown",
      "source": [
        "#### 6.1 Documents\n",
        "\n",
        "An object in Langchain that holds a piece of text and metadata (more information about that text)"
      ],
      "metadata": {
        "id": "Mzsb7G39Qj0h"
      }
    },
    {
      "cell_type": "code",
      "source": [
        "# Document Loader\n",
        "from langchain.document_loaders import TextLoader\n",
        "loader = TextLoader('./sample.txt')\n",
        "documents = loader.load()"
      ],
      "metadata": {
        "id": "nGH34_o_I2Jl"
      },
      "execution_count": null,
      "outputs": []
    },
    {
      "cell_type": "code",
      "source": [
        "#check text content\n",
        "print(documents[0].page_content)"
      ],
      "metadata": {
        "colab": {
          "base_uri": "https://localhost:8080/"
        },
        "id": "nDMTUjbNsPpM",
        "outputId": "a8f73fd6-2494-4bf4-f530-9a7a9568e982"
      },
      "execution_count": null,
      "outputs": [
        {
          "output_type": "stream",
          "name": "stdout",
          "text": [
            "The NUS Business Analytics Centre (BAC) was established in 2013, in collaboration with IBM, to develop the skills and knowledge of professionals in business analytics.\n",
            "\n",
            "In a 5-year partnership that ensued, with IBM contributing industrial knowledge and NUS offering academic expertise, BAC offered and hosted the NUS Master of Science in Business Analytics (MSBA) programme. \n",
            "\n",
            "Based in Singapore, students both local and international, enrolled in this master's degree programme are trained to meet the growing demand of companies who are looking to improve their operations through business analytics.\n",
            "\n",
            "NUS Master of Science in Business Analytics (MSBA) students are well-equipped with the expertise to excel in the data analytics field and serve a variety of industries such as retail, finance, information technology, healthcare and supply chain. \n",
            "\n",
            "To date, 300 industrial analytics projects have been accomplished by NUS MSBA students, with the institution developing valuable partnerships with over 100 organisations.\n",
            "\n"
          ]
        }
      ]
    },
    {
      "cell_type": "code",
      "source": [
        "#check meta data\n",
        "print(documents[0].metadata)"
      ],
      "metadata": {
        "colab": {
          "base_uri": "https://localhost:8080/"
        },
        "id": "aWeEhwzjI3hf",
        "outputId": "f140ba64-836a-4840-abba-1755178541f2"
      },
      "execution_count": null,
      "outputs": [
        {
          "output_type": "stream",
          "name": "stdout",
          "text": [
            "{'source': './sample.txt'}\n"
          ]
        }
      ]
    },
    {
      "cell_type": "markdown",
      "source": [
        "#### 6.2 Text Splitter\n",
        "\n",
        "Often times your document is too long (like a book) for your LLM. You need to split it up into chunks.\n",
        "\n",
        "There are many ways you could split your text into chunks, experiment with [different ones](https://python.langchain.com/docs/modules/data_connection/document_transformers/) to see which is best for you."
      ],
      "metadata": {
        "id": "iExlAS1FU35p"
      }
    },
    {
      "cell_type": "code",
      "source": [
        "# Text Splitter\n",
        "from langchain.text_splitter import CharacterTextSplitter\n",
        "text_splitter = CharacterTextSplitter(chunk_size=100, chunk_overlap=0, separator='\\n') # chunk size is usually set to be around 1000\n",
        "docs = text_splitter.split_documents(documents)"
      ],
      "metadata": {
        "colab": {
          "base_uri": "https://localhost:8080/"
        },
        "id": "CSP9AZ23K2xb",
        "outputId": "afc15951-7f0e-47e6-d04d-b4af85743502"
      },
      "execution_count": null,
      "outputs": [
        {
          "output_type": "stream",
          "name": "stderr",
          "text": [
            "WARNING:langchain.text_splitter:Created a chunk of size 167, which is longer than the specified 100\n",
            "WARNING:langchain.text_splitter:Created a chunk of size 206, which is longer than the specified 100\n",
            "WARNING:langchain.text_splitter:Created a chunk of size 225, which is longer than the specified 100\n",
            "WARNING:langchain.text_splitter:Created a chunk of size 246, which is longer than the specified 100\n"
          ]
        }
      ]
    },
    {
      "cell_type": "markdown",
      "source": [
        "\n",
        "CharacterTextSplitter is one of splitting logic. It will only split on separator (which is '\\n\\n' by default). chunk_size is the maximum chunk size that will be split if splitting is possible. If a string starts with n characters, has a separator, and has m more characters before the next separator then the first chunk size will be n if chunk_size < n + m + len(separator)."
      ],
      "metadata": {
        "id": "8WNNQ1ZrseI4"
      }
    },
    {
      "cell_type": "code",
      "source": [
        "len(docs)"
      ],
      "metadata": {
        "colab": {
          "base_uri": "https://localhost:8080/"
        },
        "id": "Co5HKiPLTLeZ",
        "outputId": "1ca8ba17-e28c-4b86-cb4d-e880becd07dd"
      },
      "execution_count": null,
      "outputs": [
        {
          "output_type": "execute_result",
          "data": {
            "text/plain": [
              "5"
            ]
          },
          "metadata": {},
          "execution_count": 65
        }
      ]
    },
    {
      "cell_type": "code",
      "source": [
        "for doc_chunk in docs:\n",
        "  print(doc_chunk)"
      ],
      "metadata": {
        "colab": {
          "base_uri": "https://localhost:8080/"
        },
        "id": "-JNnsEUYSXOG",
        "outputId": "a1e34e98-4956-48ef-bad6-83c4682d948d"
      },
      "execution_count": null,
      "outputs": [
        {
          "output_type": "stream",
          "name": "stdout",
          "text": [
            "page_content='The NUS Business Analytics Centre (BAC) was established in 2013, in collaboration with IBM, to develop the skills and knowledge of professionals in business analytics.' metadata={'source': './sample.txt'}\n",
            "page_content='In a 5-year partnership that ensued, with IBM contributing industrial knowledge and NUS offering academic expertise, BAC offered and hosted the NUS Master of Science in Business Analytics (MSBA) programme.' metadata={'source': './sample.txt'}\n",
            "page_content=\"Based in Singapore, students both local and international, enrolled in this master's degree programme are trained to meet the growing demand of companies who are looking to improve their operations through business analytics.\" metadata={'source': './sample.txt'}\n",
            "page_content='NUS Master of Science in Business Analytics (MSBA) students are well-equipped with the expertise to excel in the data analytics field and serve a variety of industries such as retail, finance, information technology, healthcare and supply chain.' metadata={'source': './sample.txt'}\n",
            "page_content='To date, 300 industrial analytics projects have been accomplished by NUS MSBA students, with the institution developing valuable partnerships with over 100 organisations.' metadata={'source': './sample.txt'}\n"
          ]
        }
      ]
    },
    {
      "cell_type": "markdown",
      "source": [
        "#### 6.3 Embeddings"
      ],
      "metadata": {
        "id": "OqJEuB7Hssx0"
      }
    },
    {
      "cell_type": "code",
      "source": [
        "# Embeddings\n",
        "from langchain.embeddings import HuggingFaceEmbeddings\n",
        "embeddings = HuggingFaceEmbeddings()\n",
        "\n",
        "sample_text = \"This is a test\"\n",
        "sample_result = embeddings.embed_documents([sample_text])\n",
        "print(sample_result)\n",
        "\n",
        "print (f\"You have {len(docs)} documents\")\n",
        "embedding_list = embeddings.embed_documents([text.page_content for text in docs])\n",
        "print (f\"You have {len(embedding_list)} embeddings\")\n",
        "print (f\"Here's a sample of one: {embedding_list[0][:3]}...\")"
      ],
      "metadata": {
        "colab": {
          "base_uri": "https://localhost:8080/"
        },
        "id": "b6E9wJUfMtpx",
        "outputId": "ce138601-bd0c-4312-8657-46cfe43e6583"
      },
      "execution_count": null,
      "outputs": [
        {
          "output_type": "stream",
          "name": "stdout",
          "text": [
            "[[-0.01107711624354124, -0.0987185537815094, -0.02173105627298355, 0.009868171997368336, -0.023400530219078064, 0.04282599687576294, 0.05967649072408676, 0.04518251493573189, 0.05964569374918938, 0.029384968802332878, 0.06904636323451996, -0.02587090991437435, 0.033072661608457565, -0.030291235074400902, 0.02752404287457466, -0.03600703179836273, 0.023956896737217903, -0.009273028001189232, -0.02163439430296421, 0.024006450548768044, -0.0657191053032875, 0.002653931500390172, -0.028488997370004654, -0.03272867947816849, -0.004460283555090427, 0.046927519142627716, -0.014092281460762024, -0.02701234072446823, 0.0018923203460872173, -0.03740781173110008, 0.026178548112511635, -0.03266902267932892, 0.016595840454101562, -0.07427819818258286, 1.805160195544886e-06, -0.0024881712161004543, 0.007248442154377699, -0.0223124697804451, -0.04737232252955437, -0.01517193391919136, -0.030517760664224625, 0.03185688704252243, -0.02177085541188717, 0.03812091052532196, -0.012869136407971382, -0.05580127611756325, 0.01576865464448929, -0.008000735193490982, -0.03262898698449135, 0.0960758775472641, 0.015518550761044025, 0.017519481480121613, 0.0014506662264466286, -0.04193700850009918, 0.07551177591085434, 0.02080153115093708, 0.031132616102695465, 0.046510543674230576, 0.0063152918592095375, 0.007893871515989304, 0.033315304666757584, -0.04903063178062439, 0.007549607194960117, 0.06003221124410629, -0.020702306181192398, -0.017256177961826324, 0.08712703734636307, -0.005082025658339262, 0.0031707182060927153, 0.013479432091116905, 0.022903047502040863, -0.01945902593433857, 0.03619267791509628, 0.134210005402565, -0.01573304459452629, 0.025839880108833313, -0.006143665406852961, 0.0265017282217741, 0.034095581620931625, -0.027426570653915405, 0.0029977711383253336, 0.07101833820343018, 0.034219179302453995, 0.023834984749555588, 0.005924906115978956, 0.014909190125763416, -0.02849634550511837, 0.038334716111421585, -0.03412389010190964, 0.03159627690911293, -0.05310039222240448, -0.0451531819999218, 0.015167334116995335, 0.01753217913210392, -0.02206340618431568, -0.04009490832686424, -0.031234005466103554, -0.08354762196540833, 0.039612799882888794, 0.00972352921962738, -0.021615613251924515, 0.0039750668220222, -0.030268987640738487, 0.05690472945570946, -0.02938222326338291, 0.07241208851337433, 0.04350220412015915, 0.038916125893592834, -0.10261643677949905, 0.03556451201438904, -0.030215954408049583, 0.006954143289476633, 0.007462695706635714, 0.03280738741159439, 0.04229209944605827, 0.020670121535658836, -0.007154011633247137, -0.01044368464499712, -0.009113794192671776, 0.05550113692879677, -0.0585804246366024, -0.009475328959524632, 0.05874357372522354, 0.07886435836553574, -0.01986069791018963, 0.04970700666308403, -0.03997936472296715, -0.0016229073517024517, 0.06876064836978912, 0.007346845231950283, -0.012655860744416714, 0.011508272960782051, 0.02679619751870632, -0.013575422577559948, 0.0189114548265934, 0.04789421334862709, 0.003541210200637579, -0.021549561992287636, 0.007629895582795143, -0.03978655859827995, 0.03702038154006004, -0.027075519785284996, 0.03561488166451454, 0.03902580216526985, 0.003439356805756688, 0.03231383115053177, -0.005149576812982559, -0.032055679708719254, 0.004224374424666166, 0.008391449227929115, 0.05844452604651451, 0.006913456600159407, 0.0009487150819040835, -0.008295697160065174, 0.046934690326452255, 0.027084872126579285, 0.03103385493159294, -0.05556580796837807, -0.019516756758093834, -0.010872596874833107, 0.017574463039636612, -0.046969737857580185, -0.01717524603009224, -0.01791476458311081, 0.02238953299820423, 0.01788480393588543, 0.0098990797996521, 0.008724851533770561, -0.07620017975568771, -0.01535122562199831, 0.0013138807844370604, -0.011967307887971401, -0.008122582919895649, 0.03231600672006607, 0.015623519197106361, 0.04485978186130524, 0.00047786475624889135, 0.055502749979496, -0.04204120486974716, -0.0035609155893325806, 0.020686717703938484, -0.09072663635015488, -0.01811538264155388, 0.03936382383108139, -0.11105020344257355, 0.03924880176782608, 0.008094976656138897, -0.04268962889909744, -0.025021985173225403, -0.021921340376138687, -0.022562945261597633, 0.037576671689748764, 0.008088216185569763, 0.022808188572525978, -0.007386704441159964, -0.039869584143161774, 0.013301263563334942, 0.04395126923918724, -0.025623686611652374, -0.01438751257956028, 0.02064729481935501, 0.005169120617210865, 0.12004755437374115, 0.004607029724866152, -0.018965305760502815, -0.026110323145985603, 0.032852903008461, -0.019433518871665, 0.07268649339675903, -0.04127248749136925, 0.08742696046829224, 0.00835463684052229, -0.03567095100879669, 0.026863249018788338, -0.004937788471579552, 0.0246176365762949, 0.012697885744273663, -0.02076459862291813, -0.006390922702848911, 0.03345784172415733, -0.02872113697230816, -0.011084464378654957, 0.037841688841581345, 0.0114922309294343, -0.021967176347970963, -0.03676243871450424, -0.061680372804403305, 1.5350527974078432e-05, -0.03212953358888626, -0.03443589434027672, 0.04789407178759575, 0.0145175876095891, -0.00010679257684387267, 0.03865714371204376, -0.02835232950747013, -0.04096190631389618, 0.026821518316864967, -0.042769961059093475, 0.008926907554268837, -0.045629773288965225, 0.0015536139253526926, 0.06188317388296127, -0.01973746530711651, -0.00190697459038347, 0.031382497400045395, -0.008115076459944248, 0.00929221324622631, -0.004879238549619913, -0.015240280888974667, -0.038721486926078796, -0.023675017058849335, 0.012878709472715855, -0.04310949891805649, 0.006998170167207718, 0.04189068824052811, 0.0016471602721139789, 0.014472192153334618, 0.004808331374078989, 0.05935106799006462, 0.011521779000759125, 0.02100629173219204, -0.03348584100604057, 0.0131641561165452, -0.0443737767636776, -0.02893744222819805, -0.01260701660066843, -0.010675651021301746, -0.048266783356666565, -0.026730893179774284, -0.04432373493909836, 0.0533297136425972, -0.0016630763420835137, 0.007749488111585379, -0.010877233929932117, -0.009194212034344673, -0.005272780079394579, -0.03609512001276016, 0.010362460277974606, -0.009333626367151737, -0.01473174337297678, 0.020162509754300117, -0.01678163930773735, -0.04825476184487343, -0.011293074116110802, -0.018218863755464554, 0.049732744693756104, -0.0012995874276384711, 0.02865401655435562, -0.00423389533534646, 0.019446615129709244, 0.010511371307075024, -0.02030041441321373, 0.016068769618868828, -0.00834294967353344, 0.016951484605669975, -0.02651689201593399, -0.019376587122678757, -0.007405049167573452, 0.07350181043148041, 0.017351433634757996, -0.009493022225797176, 0.017673572525382042, 0.029261041432619095, -0.024848638102412224, 0.02469027228653431, 0.06225598603487015, 0.034734733402729034, -0.09139297902584076, -0.0008770675049163401, 0.003254429204389453, 0.027953093871474266, -0.008464409969747066, 0.007391049060970545, 0.013119291514158249, -0.04508383199572563, -0.01749802753329277, -0.030420834198594093, 0.02461959235370159, -0.025261681526899338, -0.00641362089663744, -0.016329817473888397, 0.0011200417065992951, -0.0030549843795597553, 0.006107477471232414, 0.004578098654747009, -0.022401129826903343, 0.025445349514484406, 0.026540707796812057, -0.02670426294207573, -0.03443942219018936, -0.01231159083545208, -0.023735981434583664, -0.0369381457567215, 0.10171356052160263, 0.007561475038528442, -0.005603390745818615, -0.06324846297502518, -0.011671081185340881, -0.061254024505615234, 0.01580991968512535, -0.009865951724350452, 0.0012615168234333396, 0.0018035760149359703, -0.037132713943719864, -0.00846789963543415, 0.04040895402431488, -0.048239707946777344, -0.03513961657881737, -0.028839530423283577, -0.022379988804459572, 0.046782005578279495, 0.0024813637137413025, -0.016004446893930435, -0.03326589986681938, -0.02586541511118412, 0.023788772523403168, 0.03413378819823265, 0.05911752209067345, 0.01782017946243286, -0.046258408576250076, 0.009090275503695011, 0.006565399933606386, -0.03204665705561638, 0.057225219905376434, -0.028355393558740616, 0.019389165565371513, 0.004745303187519312, 0.015241896733641624, -0.007353340741246939, 0.034360822290182114, -0.02298196405172348, 0.029797103255987167, -0.02594476379454136, 0.02317538484930992, -0.05125552415847778, 0.03412993252277374, -0.011977549642324448, -0.002003895351663232, -0.04857662320137024, 0.03801809623837471, 0.024179887026548386, -0.018166055902838707, 0.02230360172688961, 0.041595496237277985, -0.07808259129524231, 0.06751514971256256, 0.00411938177421689, -0.05784749239683151, -0.008173150941729546, 0.016939688473939896, -0.000940696510951966, -0.07849714905023575, -0.009643408469855785, -0.017632341012358665, 0.02380957081913948, -0.01383906602859497, 0.047400910407304764, 0.006993771530687809, -0.06250004470348358, 0.013145918026566505, 0.004934359807521105, 0.03664648160338402, 0.057184066623449326, 0.041000258177518845, -0.014396684244275093, -0.04256201535463333, -0.02659197524189949, 0.0017603266751393676, -0.012174111790955067, -0.002780110575258732, 0.05734533816576004, -0.05117816850543022, 0.04256169870495796, -0.014510664157569408, 0.01680917479097843, 0.04509469494223595, 0.008714927360415459, 0.00508478470146656, 0.014806857332587242, -0.07054919749498367, -0.00872001238167286, -0.012812391854822636, -0.002821825910359621, -0.0224717129021883, 0.001990627497434616, 0.0006599642219953239, 0.010267437435686588, -0.007663306780159473, 0.02322264388203621, 0.005327146500349045, 0.016172073781490326, -0.08785619586706161, -0.00818233098834753, 0.016153505071997643, -0.08007610589265823, -0.06582137197256088, -0.04176007956266403, 0.06553023308515549, 0.062019169330596924, -0.046339113265275955, 1.9649100067908876e-05, 0.0038462618831545115, 0.029598230496048927, 0.005127847194671631, -0.06373744457960129, 0.028665129095315933, -0.033999860286712646, -0.005143331829458475, 0.0014525926671922207, 0.039200421422719955, 0.05224950239062309, -0.010192821733653545, -0.025195347145199776, -0.003510773181915283, 0.041975051164627075, 0.003552887821570039, -0.040714431554079056, -0.09214431047439575, 0.025919266045093536, -0.005226297304034233, 0.021114828065037727, 0.023788275197148323, -0.06852609664201736, -0.03788476809859276, -0.027075637131929398, -0.02006891369819641, -0.07090991735458374, -0.027243711054325104, 0.023588180541992188, -0.0752338320016861, -0.08390145748853683, -0.013500104658305645, -0.04010850936174393, -0.020902501419186592, 0.015922849997878075, -0.013040735386312008, -0.05117589235305786, -0.02312276139855385, -0.003249365370720625, -0.005128122866153717, 0.038982193917036057, 0.03554954007267952, 0.017467718571424484, 0.022845877334475517, 0.018381889909505844, -0.01532543171197176, 0.03408801555633545, -0.0012161580380052328, 0.02524978294968605, 0.0065784459002316, -0.0033065639436244965, 0.003855127142742276, -0.03847765922546387, 0.025599749758839607, 0.021455200389027596, 0.03051127679646015, -0.00684999767690897, 0.030851993709802628, 0.02759530209004879, 0.025691792368888855, -0.017213590443134308, 0.03527545928955078, -0.03090655989944935, 0.018062233924865723, -0.025930682197213173, 0.06875631213188171, 0.03860083967447281, 0.041957926005125046, 0.0020472509786486626, 0.019604671746492386, -0.009684131480753422, 0.02946918085217476, -0.0185652244836092, 0.06692996621131897, -0.02490241825580597, 0.009098805487155914, -0.04662594944238663, -0.022661477327346802, 0.03989667817950249, -0.014292990788817406, 0.003960970789194107, -0.04941421374678612, -0.019750168547034264, -0.06067311763763428, -0.021890120580792427, 0.028146184980869293, 0.018395034596323967, 0.00144197978079319, -0.06738222390413284, 0.0036621233448386192, 0.001550781656987965, -0.03891153633594513, -0.004260995890945196, 0.04378271475434303, -0.04250134155154228, 0.06028872728347778, 0.023493630811572075, 0.04055854305624962, -0.009445703588426113, -0.04085473716259003, 0.09390255063772202, 0.0023409989662468433, 0.08330218493938446, 0.0346226841211319, 0.041291773319244385, 0.05611122027039528, -0.011669437400996685, 0.028834283351898193, -0.03748422861099243, -0.0895925909280777, 0.0005685530486516654, 0.0681208074092865, -0.1022743284702301, 0.016755878925323486, -0.008035731501877308, -6.638103291801831e-33, 0.0030127144418656826, -0.02617327868938446, 0.04822724685072899, -0.035695966333150864, -0.030490972101688385, -0.0026091805193573236, -0.025790205225348473, 0.029047362506389618, -0.013930406421422958, -0.001638483488932252, -0.0201291274279356, -0.003740128129720688, 0.04015102609992027, -0.024657204747200012, 0.01803225837647915, -0.0516139455139637, 0.039478763937950134, -0.03260394185781479, -0.03364551067352295, -0.005192110314965248, -0.02755243144929409, -0.019674109295010567, 0.020383154973387718, 0.055899232625961304, 0.03461792320013046, -0.011214233003556728, 0.010914473794400692, -0.02774728834629059, -0.09783787280321121, -0.004177384544163942, 0.026279417797923088, 0.004347164183855057, 0.018297238275408745, -0.011053062044084072, -0.012774837203323841, 0.036060966551303864, -0.034059662371873856, -0.08797361701726913, -0.03404035046696663, -0.014931087382137775, -0.08386053889989853, 0.03374558314681053, -0.005153743550181389, -0.021520676091313362, 0.03960620239377022, -0.06263310462236404, 0.003121983027085662, -0.06757654994726181, 0.057337213307619095, -0.019931895658373833, 0.04984142258763313, -0.00794311985373497, -0.01638914830982685, -0.010495073162019253, 0.017386315390467644, 0.08754219859838486, 0.01164332963526249, -0.04269314557313919, 0.0054930103942751884, 0.0015913164243102074, 0.03482261672616005, 0.05030389502644539, -0.01423506997525692, 0.003232184099033475, -0.034695688635110855, 0.0018021113937720656, 0.045709025114774704, 0.0022935145534574986, 0.03624315559864044, 0.016177332028746605, 0.019845474511384964, 0.05968829616904259, 0.0031936662271618843, 0.08150166273117065, -0.014826148748397827, -0.07631070911884308, -0.0025494263973087072, 0.08007652312517166, 0.04685108736157417, -0.04201638698577881, -0.040961384773254395, -0.027295777574181557, -0.014868699945509434, -0.008506436832249165, -0.025637485086917877, -0.03221460059285164, -0.032437052577733994, -0.0023710031528025866, 0.019097909331321716, -0.012021958827972412, 0.03200940415263176, 0.05633615702390671, 0.04458725079894066, -0.019843457266688347, 0.0011221605818718672, 0.050029657781124115, -0.00902673788368702, -0.005722847301512957, -0.018037213012576103, -0.0772411972284317, -0.028478870168328285, -0.004225503653287888, -0.011888931505382061, -0.042079683393239975, -0.0012771857436746359, -0.05417915806174278, -0.062321413308382034, 0.02161352150142193, -0.04760720953345299, -0.024633219465613365, 0.011739068664610386, 0.032918352633714676, 0.03624846413731575, -0.022561443969607353, -0.013815426267683506, 0.05754557624459267, 0.06020123511552811, -0.011643283069133759, -0.05013667792081833, -0.03888104856014252, -0.03349515423178673, 0.09449078887701035, -0.05702158063650131, 0.01737125590443611, 0.007194904610514641, 0.001541108707897365, 0.027869155630469322, 0.052034907042980194, -0.04499762877821922, -0.011493834666907787, -0.005536469165235758, 0.010214132256805897, 2.4363950501538056e-07, -0.0037933490239083767, 0.01831076666712761, 0.03854509815573692, 0.018166009336709976, 0.012551836669445038, -0.03125414252281189, -0.03329118341207504, -0.002721231896430254, 0.03427872061729431, 0.04860441014170647, 0.02184678427875042, -0.021732673048973083, -0.0037185850087553263, 0.015057500451803207, -0.032467108219861984, 0.020472656935453415, 0.013599329628050327, -0.08600270003080368, 0.006027081049978733, -0.004204823635518551, 0.002726567443460226, -0.004815849009901285, -0.01396719366312027, -0.02087954245507717, -0.007086967118084431, -0.04467204213142395, -0.0018474443349987268, -0.0709259957075119, -0.0008207336068153381, 0.0340806283056736, -0.006019640248268843, -0.010754152201116085, 0.030576804652810097, 0.03463178128004074, -0.002863869536668062, -0.05663413181900978, 0.010150718502700329, 0.0419456772506237, 0.07957902550697327, 0.021965548396110535, -0.0762573853135109, -0.03274024277925491, 0.006729795131832361, 0.03295942395925522, -0.008246267214417458, 0.06210905686020851, 0.07287119328975677, -0.06047884002327919, 0.0004892853903584182, -0.03328332677483559, -0.003739735810086131, 0.0026709740050137043, 0.011932182125747204, 0.006374389864504337, 0.03094811923801899, -0.03220986947417259, 0.05269145965576172, 0.018954014405608177, 0.0030385402496904135, 0.04957190528512001, -0.04636343941092491, 0.0050860121846199036, -0.007112822495400906, 0.06960379332304001, -0.04310588538646698, 0.016648128628730774, -0.008357048965990543, 1.001107353196027e-34, -0.014670049771666527, -0.04949316754937172, -0.03920750319957733, -0.022209247574210167, -0.02500707097351551, 0.0019220993854105473, 0.03187914192676544, -0.020924532786011696, -8.527312456863001e-05, -0.01721312291920185, -0.002687865635380149]]\n",
            "You have 5 documents\n",
            "You have 5 embeddings\n",
            "Here's a sample of one: [0.026420246809720993, -0.021019896492362022, -0.04541159048676491]...\n"
          ]
        }
      ]
    },
    {
      "cell_type": "markdown",
      "source": [
        "\n",
        "#### 6.4 VectorStores\n",
        "\n",
        "Databases to store vectors. Most popular ones are [Pinecone](https://www.pinecone.io/) & [Weaviate](https://weaviate.io/). More examples on OpenAIs [retriever documentation](https://github.com/openai/chatgpt-retrieval-plugin#choosing-a-vector-database). [Chroma](https://www.trychroma.com/) & [FAISS](https://engineering.fb.com/2017/03/29/data-infrastructure/faiss-a-library-for-efficient-similarity-search/) are easy to work with locally.\n",
        "\n",
        "Those vector database can be thought as a big tables with a column for embeddings (vectors) and a column for metadata. For example,\n",
        "\n",
        "| Embedding      | Metadata |\n",
        "| ----------- | ----------- |\n",
        "| [-0.00015641732898075134, -0.003165106289088726, ...]      | {'date' : '1/2/23}       |\n",
        "| [-0.00035465431654651654, 1.4654131651654516546, ...]   | {'date' : '1/3/23}        |\n",
        "\n",
        "The vectorstore store the embeddings and make them easily searchable\n"
      ],
      "metadata": {
        "id": "PV_jPd8fYtRB"
      }
    },
    {
      "cell_type": "code",
      "source": [
        "# Vectorstore: https://python.langchain.com/en/latest/modules/indexes/vectorstores.html\n",
        "from langchain.vectorstores import FAISS\n",
        "db = FAISS.from_documents(docs, embeddings)\n"
      ],
      "metadata": {
        "id": "xbKTOVgFMveD"
      },
      "execution_count": null,
      "outputs": []
    },
    {
      "cell_type": "code",
      "source": [
        "query = \"How many industrial projects have been done by MSBA students\"\n",
        "docs = db.similarity_search(query)"
      ],
      "metadata": {
        "id": "4JaEmvfqXxZQ"
      },
      "execution_count": null,
      "outputs": []
    },
    {
      "cell_type": "code",
      "source": [
        "print(docs)"
      ],
      "metadata": {
        "colab": {
          "base_uri": "https://localhost:8080/"
        },
        "id": "vFCty-wuWVmq",
        "outputId": "dd9f90f7-925a-4310-ca91-f8ec3e65a048"
      },
      "execution_count": null,
      "outputs": [
        {
          "output_type": "stream",
          "name": "stdout",
          "text": [
            "[Document(page_content='To date, 300 industrial analytics projects have been accomplished by NUS MSBA students, with the institution developing valuable partnerships with over 100 organisations.', metadata={'source': './sample.txt'}), Document(page_content='NUS Master of Science in Business Analytics (MSBA) students are well-equipped with the expertise to excel in the data analytics field and serve a variety of industries such as retail, finance, information technology, healthcare and supply chain.', metadata={'source': './sample.txt'}), Document(page_content='In a 5-year partnership that ensued, with IBM contributing industrial knowledge and NUS offering academic expertise, BAC offered and hosted the NUS Master of Science in Business Analytics (MSBA) programme.', metadata={'source': './sample.txt'}), Document(page_content=\"Based in Singapore, students both local and international, enrolled in this master's degree programme are trained to meet the growing demand of companies who are looking to improve their operations through business analytics.\", metadata={'source': './sample.txt'})]\n"
          ]
        }
      ]
    },
    {
      "cell_type": "markdown",
      "source": [
        "The database can also be saved to the local disk"
      ],
      "metadata": {
        "id": "UMHXFgmxtFT2"
      }
    },
    {
      "cell_type": "code",
      "source": [
        "db.save_local(\"faiss_index\")\n",
        "new_db = FAISS.load_local(\"faiss_index\", embeddings)\n",
        "docs = new_db.similarity_search(query)\n",
        "print(docs[0].page_content)"
      ],
      "metadata": {
        "id": "Y1MQU8O9Mxni",
        "colab": {
          "base_uri": "https://localhost:8080/"
        },
        "outputId": "16fa2946-75f8-4b59-f782-d58906fc2f42"
      },
      "execution_count": null,
      "outputs": [
        {
          "output_type": "stream",
          "name": "stdout",
          "text": [
            "To date, 300 industrial analytics projects have been accomplished by NUS MSBA students, with the institution developing valuable partnerships with over 100 organisations.\n"
          ]
        }
      ]
    },
    {
      "cell_type": "markdown",
      "source": [
        "This notebook can not cover all aspects of LangChain. It is suggested to  check out [LangChain Official Documentation](https://python.langchain.com/docs/get_started/introduction)\n"
      ],
      "metadata": {
        "id": "sHx-BvJH2NzB"
      }
    }
  ]
}